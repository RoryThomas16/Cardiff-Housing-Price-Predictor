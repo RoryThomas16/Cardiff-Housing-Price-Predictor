{
 "cells": [
  {
   "cell_type": "markdown",
   "metadata": {},
   "source": [
    "So the motivation for this was, to be entirely honest, kind of selfish. I'm buying a house and I want to see how much my house *could* increase by in 'N' years. Basically, a kind of experiment. It is also handy for me to practice time-series analysis, bit of data science stuff, and some ML practice.\n",
    "\n",
    "The project is broken down into a few parts:\n",
    "1. the web-scraping, to gather data from the [RightMove.co.uk](https://www.rightmove.co.uk) website. For historical data, and then use this to try and predict how the houses will increase.\n",
    "2. the analysis of the data, see if there any trends I can see from this analysis as is.\n",
    "3. the forecasting, can I do some basic forecasting with the data alone, or can I set up an ML model to predict it for me.\n",
    " \n",
    "# 1. Importing and Pre-Processing\n",
    "## 1.1 Imports"
   ]
  },
  {
   "cell_type": "code",
   "execution_count": 25,
   "metadata": {},
   "outputs": [],
   "source": [
    "random_code = 42  # Random code to use and replicate results for each run.\n",
    "\n",
    "# Data Imports\n",
    "import pandas as pd\n",
    "import matplotlib.pyplot as plt\n",
    "import seaborn as sns\n",
    "\n",
    "# Geography imports\n",
    "import plotly.express as px\n",
    "\n",
    "\n",
    "# Personal Import\n",
    "from Dataset_Snapshot import RightMoveScraper"
   ]
  },
  {
   "cell_type": "markdown",
   "metadata": {},
   "source": [
    "Run the next function as needed if you need a new CSV to work with. This will generate a CSV for every run of this code, this is not ideal. Plus also as a basic tool, a separate python file will suffice."
   ]
  },
  {
   "cell_type": "code",
   "execution_count": 3,
   "metadata": {},
   "outputs": [
    {
     "data": {
      "text/plain": [
       "'# Create an instance of the scraper\\nscraper = RightMoveScraper(num_pages=10)  # Adjust the number of pages as needed\\nscraper.run()'"
      ]
     },
     "execution_count": 3,
     "metadata": {},
     "output_type": "execute_result"
    }
   ],
   "source": [
    "\"\"\"# Create an instance of the scraper\n",
    "scraper = RightMoveScraper(num_pages=10)  # Adjust the number of pages as needed\n",
    "scraper.run()\"\"\""
   ]
  },
  {
   "cell_type": "code",
   "execution_count": 4,
   "metadata": {},
   "outputs": [],
   "source": [
    "data_file = 'rightmove_housing_data_20250330_233719.csv'\n",
    "df = pd.read_csv(data_file)"
   ]
  },
  {
   "cell_type": "markdown",
   "metadata": {},
   "source": [
    "## 1.2 Data Clean Up\n",
    "Tidy up the data now as it's not really in a state to use just yet."
   ]
  },
  {
   "cell_type": "code",
   "execution_count": 19,
   "metadata": {},
   "outputs": [
    {
     "name": "stdout",
     "output_type": "stream",
     "text": [
      "address           object\n",
      "propertyType      object\n",
      "bedrooms         float64\n",
      "bathrooms        float64\n",
      "latitude         float64\n",
      "longitude        float64\n",
      "display_price    float64\n",
      "date_sold          int64\n",
      "dtype: object\n"
     ]
    }
   ],
   "source": [
    "print(df.dtypes)  # Look at the types of each column"
   ]
  },
  {
   "cell_type": "code",
   "execution_count": null,
   "metadata": {},
   "outputs": [],
   "source": [
    "# Display Price Changes - change from 'str' to 'float'\n",
    "df['display_price'] = df['display_price'].replace('[^0-9.]', '', regex=True).astype(float) \n",
    "# Date Sold changes - change from DD-MM-YYYY 'str' to YYYYMMDD 'int'\n",
    "df['date_sold'] = pd.to_datetime(df['date_sold'], errors='coerce')\n",
    "df['date_sold'] = df['date_sold'].dt.strftime('%Y%m%d').astype(int)"
   ]
  },
  {
   "cell_type": "markdown",
   "metadata": {},
   "source": [
    "## 1.3 Some Basic Analysis"
   ]
  },
  {
   "cell_type": "code",
   "execution_count": 46,
   "metadata": {},
   "outputs": [
    {
     "data": {
      "application/vnd.plotly.v1+json": {
       "config": {
        "plotlyServerURL": "https://plot.ly"
       },
       "data": [
        {
         "customdata": [
          [
           "9, Stallcourt Avenue, Cardiff CF23 5AL",
           437000
          ],
          [
           "9, Stallcourt Avenue, Cardiff CF23 5AL",
           330000
          ],
          [
           "87, Clifton Street, Cardiff CF24 1LT",
           240000
          ],
          [
           "87, Clifton Street, Cardiff CF24 1LT",
           207000
          ],
          [
           "87, Clifton Street, Cardiff CF24 1LT",
           151000
          ],
          [
           "87, Clifton Street, Cardiff CF24 1LT",
           80500
          ],
          [
           "101, Arran Street, Roath, Cardiff CF24 3HU",
           250000
          ],
          [
           "101, Arran Street, Roath, Cardiff CF24 3HU",
           172500
          ],
          [
           "101, Arran Street, Roath, Cardiff CF24 3HU",
           125000
          ],
          [
           "101, Arran Street, Roath, Cardiff CF24 3HU",
           68000
          ],
          [
           "34b, Amesbury Road, Cardiff CF23 5DW",
           252000
          ],
          [
           "34b, Amesbury Road, Cardiff CF23 5DW",
           167500
          ],
          [
           "34b, Amesbury Road, Cardiff CF23 5DW",
           79950
          ],
          [
           "34b, Amesbury Road, Cardiff CF23 5DW",
           45500
          ],
          [
           "10, Blanche Street, Cardiff CF24 1QT",
           230000
          ],
          [
           "10, Blanche Street, Cardiff CF24 1QT",
           131000
          ],
          [
           "10, Blanche Street, Cardiff CF24 1QT",
           127000
          ],
          [
           "10, Blanche Street, Cardiff CF24 1QT",
           57300
          ],
          [
           "307, Railway Street, Cardiff CF24 2NE",
           233750
          ],
          [
           "307, Railway Street, Cardiff CF24 2NE",
           206000
          ],
          [
           "48, Talworth Street, Roath, Cardiff CF24 3EH",
           250000
          ],
          [
           "140, Glenroy Street, Cardiff CF24 3LA",
           245000
          ],
          [
           "140, Glenroy Street, Cardiff CF24 3LA",
           191250
          ],
          [
           "140, Glenroy Street, Cardiff CF24 3LA",
           151000
          ],
          [
           "140, Glenroy Street, Cardiff CF24 3LA",
           138500
          ],
          [
           "195, Inverness Place, Cardiff CF24 4RY",
           237000
          ],
          [
           "100, Pearl Street, Cardiff CF24 1PL",
           220000
          ],
          [
           "100, Pearl Street, Cardiff CF24 1PL",
           135000
          ],
          [
           "100, Pearl Street, Cardiff CF24 1PL",
           101000
          ],
          [
           "44, Metal Street, Cardiff CF24 0JZ",
           238000
          ],
          [
           "60, Alfred Street, Cardiff CF24 4TZ",
           275000
          ],
          [
           "60, Alfred Street, Cardiff CF24 4TZ",
           81000
          ],
          [
           "28, Horwood Close, Cardiff CF24 2LW",
           202000
          ],
          [
           "28, Horwood Close, Cardiff CF24 2LW",
           155000
          ],
          [
           "28, Horwood Close, Cardiff CF24 2LW",
           41950
          ],
          [
           "158, Railway Street, Cardiff CF24 2NH",
           240000
          ],
          [
           "158, Railway Street, Cardiff CF24 2NH",
           220000
          ],
          [
           "158, Railway Street, Cardiff CF24 2NH",
           150000
          ],
          [
           "158, Railway Street, Cardiff CF24 2NH",
           139500
          ],
          [
           "158, Railway Street, Cardiff CF24 2NH",
           108000
          ],
          [
           "158, Railway Street, Cardiff CF24 2NH",
           62000
          ],
          [
           "65, Strathnairn Street, Cardiff CF24 3JP",
           245000
          ],
          [
           "65, Strathnairn Street, Cardiff CF24 3JP",
           193000
          ],
          [
           "65, Strathnairn Street, Cardiff CF24 3JP",
           124500
          ],
          [
           "8, Princes Avenue, Cardiff CF24 3SN",
           430000
          ],
          [
           "8, Princes Avenue, Cardiff CF24 3SN",
           249999
          ],
          [
           "167, Arabella Street, Cardiff CF24 4SY",
           340000
          ],
          [
           "167, Arabella Street, Cardiff CF24 4SY",
           218000
          ],
          [
           "167, Arabella Street, Cardiff CF24 4SY",
           181000
          ],
          [
           "167, Arabella Street, Cardiff CF24 4SY",
           75000
          ],
          [
           "37, Partridge Road, Cardiff CF24 3QW",
           422000
          ],
          [
           "37, Partridge Road, Cardiff CF24 3QW",
           169000
          ],
          [
           "56, Cottrell Road, Roath, Cardiff CF24 3EZ",
           261000
          ],
          [
           "56, Cottrell Road, Roath, Cardiff CF24 3EZ",
           169500
          ],
          [
           "56, Cottrell Road, Roath, Cardiff CF24 3EZ",
           44000
          ],
          [
           "21, Westville Road, Cardiff CF23 5DE",
           680000
          ],
          [
           "21, Westville Road, Cardiff CF23 5DE",
           462000
          ],
          [
           "21, Westville Road, Cardiff CF23 5DE",
           307500
          ],
          [
           "30, Piercefield Place, Cardiff CF24 0LD",
           290000
          ],
          [
           "30, Piercefield Place, Cardiff CF24 0LD",
           180000
          ],
          [
           "30, Piercefield Place, Cardiff CF24 0LD",
           198000
          ],
          [
           "30, Piercefield Place, Cardiff CF24 0LD",
           50500
          ],
          [
           "28, Lochaber Street, Cardiff CF24 3LS",
           495000
          ],
          [
           "28, Lochaber Street, Cardiff CF24 3LS",
           335000
          ],
          [
           "124, Arabella Street, Cardiff CF24 4SY",
           310000
          ],
          [
           "124, Arabella Street, Cardiff CF24 4SY",
           239950
          ],
          [
           "49, Cyfarthfa Street, Cardiff CF24 3HF",
           229500
          ],
          [
           "49, Cyfarthfa Street, Cardiff CF24 3HF",
           165000
          ],
          [
           "49, Cyfarthfa Street, Cardiff CF24 3HF",
           65000
          ],
          [
           "31, Bradley Street, Cardiff CF24 1PE",
           270000
          ],
          [
           "31, Bradley Street, Cardiff CF24 1PE",
           69500
          ],
          [
           "31, Bradley Street, Cardiff CF24 1PE",
           20000
          ],
          [
           "45, Doe Close, Penylan, Cardiff CF23 9HJ",
           357500
          ],
          [
           "45, Doe Close, Penylan, Cardiff CF23 9HJ",
           235000
          ],
          [
           "45, Doe Close, Penylan, Cardiff CF23 9HJ",
           207500
          ],
          [
           "16, Deri Road, Cardiff CF23 5AJ",
           483000
          ],
          [
           "16, Deri Road, Cardiff CF23 5AJ",
           396000
          ],
          [
           "16, Deri Road, Cardiff CF23 5AJ",
           370000
          ],
          [
           "16, Deri Road, Cardiff CF23 5AJ",
           249999
          ],
          [
           "16, Deri Road, Cardiff CF23 5AJ",
           199950
          ],
          [
           "16, Deri Road, Cardiff CF23 5AJ",
           72500
          ],
          [
           "42, Doe Close, Penylan, Cardiff CF23 9HJ",
           325000
          ],
          [
           "42, Doe Close, Penylan, Cardiff CF23 9HJ",
           224950
          ],
          [
           "42, Doe Close, Penylan, Cardiff CF23 9HJ",
           239250
          ],
          [
           "104, Keppoch Street, Cardiff CF24 3JU",
           257500
          ],
          [
           "104, Keppoch Street, Cardiff CF24 3JU",
           215000
          ],
          [
           "104, Keppoch Street, Cardiff CF24 3JU",
           156000
          ],
          [
           "104, Keppoch Street, Cardiff CF24 3JU",
           104950
          ],
          [
           "6, Pen Y Wain Place, Cardiff CF24 4GA",
           422250
          ],
          [
           "6, Pen Y Wain Place, Cardiff CF24 4GA",
           93000
          ],
          [
           "6, Pen Y Wain Place, Cardiff CF24 4GA",
           76000
          ],
          [
           "13, Cecil Street, Roath, Cardiff CF24 1NU",
           245000
          ],
          [
           "13, Cecil Street, Roath, Cardiff CF24 1NU",
           196000
          ],
          [
           "13, Cecil Street, Roath, Cardiff CF24 1NU",
           145000
          ],
          [
           "13, Cecil Street, Roath, Cardiff CF24 1NU",
           40000
          ],
          [
           "69, Melrose Avenue, Penylan, Cardiff CF23 9AT",
           450000
          ],
          [
           "69, Melrose Avenue, Penylan, Cardiff CF23 9AT",
           340550
          ],
          [
           "69, Melrose Avenue, Penylan, Cardiff CF23 9AT",
           262000
          ],
          [
           "69, Melrose Avenue, Penylan, Cardiff CF23 9AT",
           240000
          ],
          [
           "69, Melrose Avenue, Penylan, Cardiff CF23 9AT",
           116000
          ],
          [
           "96, Glenroy Street, Cardiff CF24 3JY",
           270000
          ],
          [
           "96, Glenroy Street, Cardiff CF24 3JY",
           182500
          ],
          [
           "96, Glenroy Street, Cardiff CF24 3JY",
           164950
          ],
          [
           "96, Glenroy Street, Cardiff CF24 3JY",
           134000
          ],
          [
           "96, Glenroy Street, Cardiff CF24 3JY",
           46500
          ],
          [
           "55, Princes Street, Cardiff CF24 3SL",
           535000
          ],
          [
           "55, Princes Street, Cardiff CF24 3SL",
           126000
          ],
          [
           "92, Cyfarthfa Street, Cardiff CF24 3HG",
           253000
          ],
          [
           "92, Cyfarthfa Street, Cardiff CF24 3HG",
           210000
          ],
          [
           "92, Cyfarthfa Street, Cardiff CF24 3HG",
           167000
          ],
          [
           "73, Clifton Street, Cardiff CF24 1LT",
           190000
          ],
          [
           "73, Clifton Street, Cardiff CF24 1LT",
           128000
          ],
          [
           "85, Broadway, Cardiff CF24 1QF",
           190000
          ],
          [
           "66, Upper Kincraig Street, Roath, Cardiff CF24 3HB",
           273000
          ],
          [
           "66, Upper Kincraig Street, Roath, Cardiff CF24 3HB",
           178000
          ],
          [
           "66, Upper Kincraig Street, Roath, Cardiff CF24 3HB",
           85500
          ],
          [
           "31, Arthur Street, Cardiff CF24 1QR",
           205000
          ],
          [
           "31, Arthur Street, Cardiff CF24 1QR",
           51500
          ],
          [
           "31, Arthur Street, Cardiff CF24 1QR",
           58000
          ],
          [
           "111, Treharris Street, Cardiff CF24 3HP",
           263000
          ],
          [
           "111, Treharris Street, Cardiff CF24 3HP",
           175000
          ],
          [
           "4, Pen Y Wain Place, Cardiff CF24 4GA",
           336000
          ],
          [
           "48, Ruby Street, Cardiff CF24 1LN",
           234000
          ],
          [
           "48, Ruby Street, Cardiff CF24 1LN",
           175000
          ],
          [
           "62, Diana Street, Cardiff CF24 4TW",
           289750
          ],
          [
           "62, Diana Street, Cardiff CF24 4TW",
           168000
          ],
          [
           "103, Arran Street, Roath, Cardiff CF24 3HU",
           241000
          ],
          [
           "103, Arran Street, Roath, Cardiff CF24 3HU",
           135000
          ],
          [
           "103, Arran Street, Roath, Cardiff CF24 3HU",
           85950
          ],
          [
           "103, Arran Street, Roath, Cardiff CF24 3HU",
           60000
          ],
          [
           "80, Keppoch Street, Cardiff CF24 3JU",
           245000
          ],
          [
           "80, Keppoch Street, Cardiff CF24 3JU",
           166500
          ],
          [
           "80, Keppoch Street, Cardiff CF24 3JU",
           124000
          ],
          [
           "227, Newport Road, Cardiff CF24 1RG",
           505000
          ],
          [
           "227, Newport Road, Cardiff CF24 1RG",
           87950
          ],
          [
           "9, Blanche Street, Cardiff CF24 1QS",
           225000
          ],
          [
           "9, Blanche Street, Cardiff CF24 1QS",
           165000
          ],
          [
           "9, Blanche Street, Cardiff CF24 1QS",
           133500
          ],
          [
           "9, Blanche Street, Cardiff CF24 1QS",
           56000
          ],
          [
           "50, Talworth Street, Roath, Cardiff CF24 3EH",
           260000
          ],
          [
           "50, Talworth Street, Roath, Cardiff CF24 3EH",
           169950
          ],
          [
           "181, Arabella Street, Cardiff CF24 4SZ",
           277500
          ],
          [
           "181, Arabella Street, Cardiff CF24 4SZ",
           220000
          ],
          [
           "181, Arabella Street, Cardiff CF24 4SZ",
           205000
          ],
          [
           "181, Arabella Street, Cardiff CF24 4SZ",
           172000
          ],
          [
           "181, Arabella Street, Cardiff CF24 4SZ",
           164250
          ],
          [
           "46, Sandringham Road, Cardiff CF23 5BL",
           660000
          ],
          [
           "46, Sandringham Road, Cardiff CF23 5BL",
           553000
          ],
          [
           "Flat 10, Windsor Court, Moira Terrace, Cardiff CF24 0DZ",
           127000
          ],
          [
           "Flat 10, Windsor Court, Moira Terrace, Cardiff CF24 0DZ",
           120000
          ],
          [
           "Flat 10, Windsor Court, Moira Terrace, Cardiff CF24 0DZ",
           110000
          ],
          [
           "Flat 10, Windsor Court, Moira Terrace, Cardiff CF24 0DZ",
           98000
          ],
          [
           "Flat 10, Windsor Court, Moira Terrace, Cardiff CF24 0DZ",
           85000
          ],
          [
           "Flat 10, Windsor Court, Moira Terrace, Cardiff CF24 0DZ",
           80000
          ],
          [
           "Flat 10, Windsor Court, Moira Terrace, Cardiff CF24 0DZ",
           34500
          ],
          [
           "Flat 10, Windsor Court, Moira Terrace, Cardiff CF24 0DZ",
           26000
          ],
          [
           "5, Dalcross Street, Cardiff CF24 4SD",
           225000
          ],
          [
           "5, Dalcross Street, Cardiff CF24 4SD",
           185000
          ],
          [
           "5, Dalcross Street, Cardiff CF24 4SD",
           155000
          ],
          [
           "5, Dalcross Street, Cardiff CF24 4SD",
           43000
          ],
          [
           "80b, Connaught Road, Cardiff CF24 3PX",
           175000
          ],
          [
           "80b, Connaught Road, Cardiff CF24 3PX",
           142000
          ],
          [
           "80b, Connaught Road, Cardiff CF24 3PX",
           118500
          ],
          [
           "80b, Connaught Road, Cardiff CF24 3PX",
           102500
          ],
          [
           "80b, Connaught Road, Cardiff CF24 3PX",
           95000
          ],
          [
           "80b, Connaught Road, Cardiff CF24 3PX",
           67000
          ],
          [
           "80b, Connaught Road, Cardiff CF24 3PX",
           29000
          ],
          [
           "14, Cottrell Road, Roath, Cardiff CF24 3EY",
           210000
          ],
          [
           "1, Tyler Street, Cardiff CF24 1QP",
           190000
          ],
          [
           "1, Tyler Street, Cardiff CF24 1QP",
           25704
          ],
          [
           "33, Horwood Close, Cardiff CF24 2LW",
           190000
          ],
          [
           "33, Horwood Close, Cardiff CF24 2LW",
           155000
          ],
          [
           "33, Horwood Close, Cardiff CF24 2LW",
           120000
          ],
          [
           "33, Horwood Close, Cardiff CF24 2LW",
           44950
          ],
          [
           "112, Cyfarthfa Street, Cardiff CF24 3HG",
           256000
          ],
          [
           "112, Cyfarthfa Street, Cardiff CF24 3HG",
           210000
          ],
          [
           "112, Cyfarthfa Street, Cardiff CF24 3HG",
           160000
          ],
          [
           "112, Cyfarthfa Street, Cardiff CF24 3HG",
           134000
          ],
          [
           "112, Cyfarthfa Street, Cardiff CF24 3HG",
           142000
          ],
          [
           "5, Amesbury Road, Cardiff CF23 5DW",
           507500
          ],
          [
           "5, Amesbury Road, Cardiff CF23 5DW",
           365000
          ],
          [
           "5, Amesbury Road, Cardiff CF23 5DW",
           105000
          ],
          [
           "40, Arabella Street, Cardiff CF24 4TA",
           192500
          ],
          [
           "40, Arabella Street, Cardiff CF24 4TA",
           149950
          ],
          [
           "40, Arabella Street, Cardiff CF24 4TA",
           66000
          ],
          [
           "40, Arabella Street, Cardiff CF24 4TA",
           49000
          ],
          [
           "40, Arabella Street, Cardiff CF24 4TA",
           43950
          ],
          [
           "167, Treharris Street, Cardiff CF24 3HQ",
           265000
          ],
          [
           "167, Treharris Street, Cardiff CF24 3HQ",
           210000
          ],
          [
           "167, Treharris Street, Cardiff CF24 3HQ",
           150000
          ],
          [
           "167, Treharris Street, Cardiff CF24 3HQ",
           159950
          ],
          [
           "167, Treharris Street, Cardiff CF24 3HQ",
           77000
          ],
          [
           "167, Treharris Street, Cardiff CF24 3HQ",
           43950
          ],
          [
           "12, Wordsworth Avenue, Cardiff CF24 3FQ",
           490000
          ],
          [
           "12, Wordsworth Avenue, Cardiff CF24 3FQ",
           350000
          ],
          [
           "12, Wordsworth Avenue, Cardiff CF24 3FQ",
           100000
          ],
          [
           "141, Kimberley Road, Cardiff CF23 5AF",
           425000
          ],
          [
           "141, Kimberley Road, Cardiff CF23 5AF",
           270000
          ],
          [
           "34, Alfred Street, Cardiff CF24 4TY",
           318000
          ],
          [
           "34, Alfred Street, Cardiff CF24 4TY",
           270000
          ],
          [
           "34, Alfred Street, Cardiff CF24 4TY",
           180000
          ],
          [
           "34, Alfred Street, Cardiff CF24 4TY",
           135000
          ],
          [
           "34, Alfred Street, Cardiff CF24 4TY",
           66000
          ],
          [
           "10, Deri Road, Cardiff CF23 5AJ",
           530250
          ],
          [
           "10, Deri Road, Cardiff CF23 5AJ",
           298000
          ],
          [
           "10, Deri Road, Cardiff CF23 5AJ",
           208000
          ],
          [
           "28, Alfred Street, Cardiff CF24 4TY",
           285000
          ],
          [
           "28, Alfred Street, Cardiff CF24 4TY",
           235000
          ],
          [
           "28, Alfred Street, Cardiff CF24 4TY",
           155000
          ],
          [
           "10, Stallcourt Avenue, Cardiff CF23 5AN",
           547000
          ],
          [
           "10, Stallcourt Avenue, Cardiff CF23 5AN",
           226500
          ],
          [
           "10, Stallcourt Avenue, Cardiff CF23 5AN",
           240000
          ],
          [
           "127, Cyfarthfa Street, Cardiff CF24 3HG",
           215000
          ],
          [
           "122, Arran Street, Roath, Cardiff CF24 3HU",
           270000
          ],
          [
           "122, Arran Street, Roath, Cardiff CF24 3HU",
           255050
          ],
          [
           "122, Arran Street, Roath, Cardiff CF24 3HU",
           217000
          ],
          [
           "122, Arran Street, Roath, Cardiff CF24 3HU",
           59995
          ],
          [
           "100, Keppoch Street, Cardiff CF24 3JU",
           236000
          ],
          [
           "100, Keppoch Street, Cardiff CF24 3JU",
           165000
          ],
          [
           "100, Keppoch Street, Cardiff CF24 3JU",
           157000
          ],
          [
           "100, Keppoch Street, Cardiff CF24 3JU",
           152000
          ],
          [
           "100, Keppoch Street, Cardiff CF24 3JU",
           87000
          ],
          [
           "12, Tyler Street, Cardiff CF24 1QP",
           212500
          ],
          [
           "12, Tyler Street, Cardiff CF24 1QP",
           198000
          ],
          [
           "12, Tyler Street, Cardiff CF24 1QP",
           140000
          ],
          [
           "12, Tyler Street, Cardiff CF24 1QP",
           130000
          ],
          [
           "106, Cyfarthfa Street, Cardiff CF24 3HG",
           224000
          ],
          [
           "18, Theodora Street, Cardiff CF24 1PD",
           250000
          ],
          [
           "18, Theodora Street, Cardiff CF24 1PD",
           215000
          ],
          [
           "18, Theodora Street, Cardiff CF24 1PD",
           130000
          ],
          [
           "18, Theodora Street, Cardiff CF24 1PD",
           48500
          ],
          [
           "18, Theodora Street, Cardiff CF24 1PD",
           41500
          ],
          [
           "78, Mackintosh Place, Cardiff CF24 4RR",
           335000
          ],
          [
           "57, Cyfarthfa Street, Cardiff CF24 3HF",
           248000
          ],
          [
           "57, Cyfarthfa Street, Cardiff CF24 3HF",
           149950
          ],
          [
           "57, Cyfarthfa Street, Cardiff CF24 3HF",
           114600
          ],
          [
           "57, Cyfarthfa Street, Cardiff CF24 3HF",
           71000
          ],
          [
           "16, Bradley Street, Cardiff CF24 1PE",
           240000
          ],
          [
           "16, Bradley Street, Cardiff CF24 1PE",
           189000
          ],
          [
           "16, Bradley Street, Cardiff CF24 1PE",
           52000
          ],
          [
           "22, Treharris Street, Cardiff CF24 3HN",
           220000
          ],
          [
           "22, Treharris Street, Cardiff CF24 3HN",
           60000
          ],
          [
           "215, Inverness Place, Cardiff CF24 4RY",
           335000
          ],
          [
           "215, Inverness Place, Cardiff CF24 4RY",
           247500
          ],
          [
           "215, Inverness Place, Cardiff CF24 4RY",
           153000
          ],
          [
           "12c, Oakfield Street, Cardiff CF24 3RD",
           132000
          ],
          [
           "12c, Oakfield Street, Cardiff CF24 3RD",
           105000
          ],
          [
           "70, Amesbury Road, Cardiff CF23 5DY",
           482500
          ],
          [
           "70, Amesbury Road, Cardiff CF23 5DY",
           390000
          ],
          [
           "70, Amesbury Road, Cardiff CF23 5DY",
           307500
          ],
          [
           "70, Amesbury Road, Cardiff CF23 5DY",
           175000
          ],
          [
           "17, Doe Close, Penylan, Cardiff CF23 9HJ",
           365000
          ],
          [
           "17, Doe Close, Penylan, Cardiff CF23 9HJ",
           239950
          ],
          [
           "17, Doe Close, Penylan, Cardiff CF23 9HJ",
           225000
          ],
          [
           "51, Waterloo Gardens, Cardiff CF23 5AB",
           477500
          ],
          [
           "51, Waterloo Gardens, Cardiff CF23 5AB",
           405000
          ],
          [
           "15, Sapphire Street, Cardiff CF24 1PY",
           195000
          ],
          [
           "15, Sapphire Street, Cardiff CF24 1PY",
           39950
          ],
          [
           "20, Angus Street, Cardiff CF24 3LY",
           264000
          ],
          [
           "20, Angus Street, Cardiff CF24 3LY",
           250000
          ],
          [
           "20, Angus Street, Cardiff CF24 3LY",
           197000
          ],
          [
           "20, Angus Street, Cardiff CF24 3LY",
           140000
          ],
          [
           "20, Angus Street, Cardiff CF24 3LY",
           48050
          ],
          [
           "20, Angus Street, Cardiff CF24 3LY",
           41000
          ],
          [
           "18, Blanche Street, Cardiff CF24 1QT",
           190000
          ],
          [
           "18, Blanche Street, Cardiff CF24 1QT",
           125000
          ],
          [
           "75, Melrose Avenue, Penylan, Cardiff CF23 9AT",
           475000
          ],
          [
           "Flat 51, Thomas Court, Marlborough Road, Cardiff CF23 5EZ",
           185000
          ],
          [
           "Flat 51, Thomas Court, Marlborough Road, Cardiff CF23 5EZ",
           180000
          ],
          [
           "Flat 51, Thomas Court, Marlborough Road, Cardiff CF23 5EZ",
           196950
          ],
          [
           "82, Donald Street, Cardiff CF24 4TR",
           310000
          ],
          [
           "82, Donald Street, Cardiff CF24 4TR",
           225000
          ],
          [
           "82, Donald Street, Cardiff CF24 4TR",
           92000
          ],
          [
           "82, Donald Street, Cardiff CF24 4TR",
           70500
          ],
          [
           "179, Railway Street, Cardiff CF24 2NB",
           240000
          ],
          [
           "179, Railway Street, Cardiff CF24 2NB",
           165000
          ],
          [
           "179, Railway Street, Cardiff CF24 2NB",
           87500
          ],
          [
           "179, Railway Street, Cardiff CF24 2NB",
           75000
          ],
          [
           "60, Clifton Street, Cardiff CF24 1LT",
           197000
          ],
          [
           "60, Clifton Street, Cardiff CF24 1LT",
           172000
          ],
          [
           "60, Clifton Street, Cardiff CF24 1LT",
           133000
          ],
          [
           "60, Clifton Street, Cardiff CF24 1LT",
           87500
          ],
          [
           "10, Tyler Street, Cardiff CF24 1QP",
           210000
          ],
          [
           "155, Cyfarthfa Street, Cardiff CF24 3HH",
           245000
          ],
          [
           "155, Cyfarthfa Street, Cardiff CF24 3HH",
           152000
          ],
          [
           "155, Cyfarthfa Street, Cardiff CF24 3HH",
           148500
          ],
          [
           "155, Cyfarthfa Street, Cardiff CF24 3HH",
           85000
          ],
          [
           "155, Cyfarthfa Street, Cardiff CF24 3HH",
           59950
          ],
          [
           "155, Cyfarthfa Street, Cardiff CF24 3HH",
           41000
          ],
          [
           "111, Glenroy Street, Cardiff CF24 3JZ",
           260000
          ],
          [
           "111, Glenroy Street, Cardiff CF24 3JZ",
           175000
          ],
          [
           "111, Glenroy Street, Cardiff CF24 3JZ",
           103000
          ],
          [
           "99, Inverness Place, Cardiff CF24 4RW",
           320000
          ],
          [
           "99, Inverness Place, Cardiff CF24 4RW",
           240000
          ],
          [
           "99, Inverness Place, Cardiff CF24 4RW",
           174950
          ],
          [
           "47, Moy Road, Roath, Cardiff CF24 4SH",
           220000
          ],
          [
           "47, Moy Road, Roath, Cardiff CF24 4SH",
           136500
          ],
          [
           "47, Moy Road, Roath, Cardiff CF24 4SH",
           126579
          ],
          [
           "47, Moy Road, Roath, Cardiff CF24 4SH",
           50000
          ],
          [
           "162, Pearl Street, Cardiff CF24 1RB",
           232000
          ],
          [
           "162, Pearl Street, Cardiff CF24 1RB",
           38000
          ],
          [
           "8, Cottrell Road, Roath, Cardiff CF24 3EY",
           245000
          ],
          [
           "8, Cottrell Road, Roath, Cardiff CF24 3EY",
           58500
          ],
          [
           "46, Sapphire Street, Cardiff CF24 1PZ",
           230000
          ],
          [
           "46, Sapphire Street, Cardiff CF24 1PZ",
           169950
          ],
          [
           "46, Sapphire Street, Cardiff CF24 1PZ",
           79950
          ],
          [
           "46, Sapphire Street, Cardiff CF24 1PZ",
           69950
          ],
          [
           "46, Sapphire Street, Cardiff CF24 1PZ",
           49250
          ],
          [
           "19, Cyfarthfa Street, Cardiff CF24 3HE",
           250000
          ],
          [
           "19, Cyfarthfa Street, Cardiff CF24 3HE",
           185000
          ],
          [
           "19, Cyfarthfa Street, Cardiff CF24 3HE",
           139000
          ],
          [
           "19, Cyfarthfa Street, Cardiff CF24 3HE",
           144000
          ],
          [
           "19, Cyfarthfa Street, Cardiff CF24 3HE",
           116000
          ],
          [
           "19, Cyfarthfa Street, Cardiff CF24 3HE",
           85500
          ],
          [
           "126, Arabella Street, Cardiff CF24 4SY",
           250000
          ],
          [
           "126, Arabella Street, Cardiff CF24 4SY",
           195500
          ],
          [
           "126, Arabella Street, Cardiff CF24 4SY",
           155000
          ],
          [
           "69, Treharris Street, Cardiff CF24 3HL",
           232000
          ],
          [
           "69, Treharris Street, Cardiff CF24 3HL",
           175200
          ],
          [
           "69, Treharris Street, Cardiff CF24 3HL",
           140500
          ],
          [
           "69, Treharris Street, Cardiff CF24 3HL",
           46950
          ],
          [
           "66, Clifton Street, Cardiff CF24 1LT",
           212000
          ],
          [
           "66, Clifton Street, Cardiff CF24 1LT",
           150000
          ],
          [
           "66, Clifton Street, Cardiff CF24 1LT",
           124000
          ],
          [
           "66, Clifton Street, Cardiff CF24 1LT",
           114000
          ],
          [
           "66, Clifton Street, Cardiff CF24 1LT",
           45500
          ],
          [
           "425, Newport Road, Cardiff CF24 1RP",
           230000
          ],
          [
           "8, Braeval Street, Cardiff CF24 4SJ",
           270000
          ],
          [
           "8, Braeval Street, Cardiff CF24 4SJ",
           227500
          ],
          [
           "8, Braeval Street, Cardiff CF24 4SJ",
           157000
          ],
          [
           "8, Braeval Street, Cardiff CF24 4SJ",
           80000
          ],
          [
           "3, Princes Street, Cardiff CF24 3PR",
           480000
          ],
          [
           "3, Princes Street, Cardiff CF24 3PR",
           365000
          ],
          [
           "3, Princes Street, Cardiff CF24 3PR",
           72000
          ],
          [
           "130, Cottrell Road, Roath, Cardiff CF24 3EX",
           245000
          ],
          [
           "130, Cottrell Road, Roath, Cardiff CF24 3EX",
           150000
          ],
          [
           "130, Cottrell Road, Roath, Cardiff CF24 3EX",
           73000
          ],
          [
           "130, Cottrell Road, Roath, Cardiff CF24 3EX",
           50000
          ],
          [
           "13, Kimberley Road, Cardiff CF23 5DH",
           575000
          ],
          [
           "13, Kimberley Road, Cardiff CF23 5DH",
           428450
          ],
          [
           "13, Kimberley Road, Cardiff CF23 5DH",
           340000
          ],
          [
           "13, Kimberley Road, Cardiff CF23 5DH",
           312000
          ],
          [
           "13, Kimberley Road, Cardiff CF23 5DH",
           282000
          ],
          [
           "13, Kimberley Road, Cardiff CF23 5DH",
           190000
          ],
          [
           "29, Ruby Street, Cardiff CF24 1LP",
           230000
          ],
          [
           "29, Ruby Street, Cardiff CF24 1LP",
           138000
          ],
          [
           "29, Ruby Street, Cardiff CF24 1LP",
           122500
          ],
          [
           "29, Ruby Street, Cardiff CF24 1LP",
           39500
          ],
          [
           "32, Horwood Close, Cardiff CF24 2LW",
           160000
          ],
          [
           "32, Horwood Close, Cardiff CF24 2LW",
           130000
          ],
          [
           "32, Horwood Close, Cardiff CF24 2LW",
           100000
          ],
          [
           "158, Glenroy Street, Cardiff CF24 3LA",
           225000
          ],
          [
           "3b, Moira Place, Cardiff CF24 0ER",
           140000
          ],
          [
           "3b, Moira Place, Cardiff CF24 0ER",
           85500
          ],
          [
           "10, Sandringham Road, Cardiff CF23 5BH",
           505000
          ],
          [
           "10, Sandringham Road, Cardiff CF23 5BH",
           120000
          ],
          [
           "64, Clifton Street, Cardiff CF24 1LT",
           225000
          ],
          [
           "136, Daviot Street, Cardiff CF24 4SQ",
           138000
          ],
          [
           "136, Daviot Street, Cardiff CF24 4SQ",
           101000
          ],
          [
           "136, Daviot Street, Cardiff CF24 4SQ",
           65000
          ],
          [
           "136, Daviot Street, Cardiff CF24 4SQ",
           33500
          ],
          [
           "136, Daviot Street, Cardiff CF24 4SQ",
           30000
          ],
          [
           "27, Cecil Street, Roath, Cardiff CF24 1NU",
           205000
          ],
          [
           "32, Roath Court Road, Cardiff CF24 3SD",
           490000
          ],
          [
           "32, Roath Court Road, Cardiff CF24 3SD",
           238000
          ],
          [
           "34, Arabella Street, Cardiff CF24 4TA",
           295000
          ],
          [
           "34, Arabella Street, Cardiff CF24 4TA",
           200000
          ],
          [
           "34, Arabella Street, Cardiff CF24 4TA",
           151000
          ],
          [
           "14, Westville Road, Cardiff CF23 5AG",
           485000
          ],
          [
           "14, Westville Road, Cardiff CF23 5AG",
           250000
          ],
          [
           "40, Metal Street, Cardiff CF24 0JZ",
           245000
          ],
          [
           "40, Metal Street, Cardiff CF24 0JZ",
           146000
          ],
          [
           "40, Metal Street, Cardiff CF24 0JZ",
           105000
          ],
          [
           "8, Augusta Street, Cardiff CF24 0EN",
           215000
          ],
          [
           "8, Augusta Street, Cardiff CF24 0EN",
           146000
          ],
          [
           "8, Augusta Street, Cardiff CF24 0EN",
           100000
          ],
          [
           "12, Daviot Street, Cardiff CF24 4SL",
           245000
          ],
          [
           "12, Daviot Street, Cardiff CF24 4SL",
           179950
          ],
          [
           "12, Daviot Street, Cardiff CF24 4SL",
           145000
          ],
          [
           "12, Daviot Street, Cardiff CF24 4SL",
           60000
          ],
          [
           "160, Donald Street, Cardiff CF24 4TP",
           194000
          ],
          [
           "4, Upper Kincraig Street, Roath, Cardiff CF24 3HA",
           269000
          ],
          [
           "4, Upper Kincraig Street, Roath, Cardiff CF24 3HA",
           155000
          ],
          [
           "4, Upper Kincraig Street, Roath, Cardiff CF24 3HA",
           49950
          ],
          [
           "66, Cottrell Road, Roath, Cardiff CF24 3EZ",
           290000
          ],
          [
           "66, Cottrell Road, Roath, Cardiff CF24 3EZ",
           154950
          ],
          [
           "15, Amesbury Road, Cardiff CF23 5DW",
           450000
          ],
          [
           "15, Amesbury Road, Cardiff CF23 5DW",
           225000
          ],
          [
           "46, Arran Street, Roath, Cardiff CF24 3HS",
           236500
          ],
          [
           "33, Boverton Street, Cardiff CF23 5ES",
           502000
          ],
          [
           "33, Boverton Street, Cardiff CF23 5ES",
           430000
          ],
          [
           "33, Boverton Street, Cardiff CF23 5ES",
           405000
          ],
          [
           "33, Boverton Street, Cardiff CF23 5ES",
           135000
          ],
          [
           "93, Anderson Place, Cardiff CF24 0HH",
           178000
          ],
          [
           "2, Pearl Place, Cardiff CF24 1HE",
           265000
          ],
          [
           "2, Pearl Place, Cardiff CF24 1HE",
           220000
          ],
          [
           "115, Bedford Street, Cardiff CF24 3DB",
           210000
          ],
          [
           "34, Cyfarthfa Street, Cardiff CF24 3HE",
           250000
          ],
          [
           "34, Cyfarthfa Street, Cardiff CF24 3HE",
           238344
          ],
          [
           "34, Cyfarthfa Street, Cardiff CF24 3HE",
           163100
          ],
          [
           "34, Cyfarthfa Street, Cardiff CF24 3HE",
           140000
          ],
          [
           "34, Cyfarthfa Street, Cardiff CF24 3HE",
           60000
          ],
          [
           "141, Keppoch Street, Cardiff CF24 3JU",
           235000
          ],
          [
           "141, Keppoch Street, Cardiff CF24 3JU",
           152000
          ],
          [
           "141, Keppoch Street, Cardiff CF24 3JU",
           145250
          ],
          [
           "141, Keppoch Street, Cardiff CF24 3JU",
           70000
          ],
          [
           "141, Keppoch Street, Cardiff CF24 3JU",
           55500
          ],
          [
           "24, Upper Kincraig Street, Roath, Cardiff CF24 3HA",
           275000
          ],
          [
           "24, Upper Kincraig Street, Roath, Cardiff CF24 3HA",
           156500
          ],
          [
           "24, Upper Kincraig Street, Roath, Cardiff CF24 3HA",
           147000
          ],
          [
           "24, Upper Kincraig Street, Roath, Cardiff CF24 3HA",
           99000
          ],
          [
           "24, Upper Kincraig Street, Roath, Cardiff CF24 3HA",
           49950
          ],
          [
           "102, Keppoch Street, Cardiff CF24 3JU",
           234500
          ],
          [
           "102, Keppoch Street, Cardiff CF24 3JU",
           46750
          ],
          [
           "56, Emerald Street, Cardiff CF24 1QB",
           220000
          ],
          [
           "56, Emerald Street, Cardiff CF24 1QB",
           135500
          ],
          [
           "56, Emerald Street, Cardiff CF24 1QB",
           135000
          ],
          [
           "56, Emerald Street, Cardiff CF24 1QB",
           137000
          ],
          [
           "84, Arabella Street, Cardiff CF24 4TB",
           300550
          ],
          [
           "84, Arabella Street, Cardiff CF24 4TB",
           222000
          ],
          [
           "84, Arabella Street, Cardiff CF24 4TB",
           85000
          ],
          [
           "84, Arabella Street, Cardiff CF24 4TB",
           58750
          ],
          [
           "73, Marlborough Road, Cardiff CF23 5BU",
           467000
          ],
          [
           "73, Marlborough Road, Cardiff CF23 5BU",
           98000
          ],
          [
           "4, Blanche Street, Cardiff CF24 1QT",
           193000
          ],
          [
           "4, Blanche Street, Cardiff CF24 1QT",
           40000
          ],
          [
           "51, Constellation Street, Cardiff CF24 0HJ",
           220000
          ],
          [
           "51, Constellation Street, Cardiff CF24 0HJ",
           130000
          ],
          [
           "51, Constellation Street, Cardiff CF24 0HJ",
           136242
          ],
          [
           "51, Constellation Street, Cardiff CF24 0HJ",
           135000
          ],
          [
           "51, Constellation Street, Cardiff CF24 0HJ",
           51500
          ],
          [
           "225, Inverness Place, Cardiff CF24 4RY",
           349000
          ],
          [
           "225, Inverness Place, Cardiff CF24 4RY",
           290000
          ],
          [
           "225, Inverness Place, Cardiff CF24 4RY",
           250000
          ],
          [
           "225, Inverness Place, Cardiff CF24 4RY",
           160000
          ],
          [
           "225, Inverness Place, Cardiff CF24 4RY",
           60000
          ],
          [
           "15, Waterloo Close, Cardiff CF23 5ED",
           280000
          ],
          [
           "15, Waterloo Close, Cardiff CF23 5ED",
           64000
          ],
          [
           "19, Braeval Street, Cardiff CF24 4SJ",
           267000
          ],
          [
           "19, Braeval Street, Cardiff CF24 4SJ",
           182500
          ],
          [
           "12, Spring Gardens Place, Cardiff CF24 1QZ",
           210000
          ],
          [
           "12, Spring Gardens Place, Cardiff CF24 1QZ",
           141000
          ],
          [
           "12, Spring Gardens Place, Cardiff CF24 1QZ",
           29000
          ],
          [
           "28, Elm Street, Cardiff CF24 3QS",
           247000
          ],
          [
           "28, Elm Street, Cardiff CF24 3QS",
           227500
          ],
          [
           "28, Elm Street, Cardiff CF24 3QS",
           110000
          ],
          [
           "1, Cameron Street, Cardiff CF24 2NX",
           250000
          ],
          [
           "1, Cameron Street, Cardiff CF24 2NX",
           200000
          ],
          [
           "1, Cameron Street, Cardiff CF24 2NX",
           120000
          ],
          [
           "1, Cameron Street, Cardiff CF24 2NX",
           37500
          ],
          [
           "88, Colchester Avenue, Penylan, Cardiff CF23 9AZ",
           690000
          ],
          [
           "88, Colchester Avenue, Penylan, Cardiff CF23 9AZ",
           310000
          ],
          [
           "22, Upper Kincraig Street, Roath, Cardiff CF24 3HA",
           225000
          ],
          [
           "22, Upper Kincraig Street, Roath, Cardiff CF24 3HA",
           196775
          ],
          [
           "7, Stacey Road, Cardiff CF24 1DR",
           306250
          ],
          [
           "7, Stacey Road, Cardiff CF24 1DR",
           220000
          ],
          [
           "7, Stacey Road, Cardiff CF24 1DR",
           180000
          ],
          [
           "7, Stacey Road, Cardiff CF24 1DR",
           132500
          ],
          [
           "7, Stacey Road, Cardiff CF24 1DR",
           72000
          ],
          [
           "7, Stacey Road, Cardiff CF24 1DR",
           57950
          ],
          [
           "7, Stacey Road, Cardiff CF24 1DR",
           57950
          ],
          [
           "11, Prince Leopold Street, Cardiff CF24 0HT",
           205000
          ],
          [
           "11, Prince Leopold Street, Cardiff CF24 0HT",
           185000
          ],
          [
           "10, Morlais Street, Cardiff CF23 5HQ",
           500000
          ],
          [
           "10, Morlais Street, Cardiff CF23 5HQ",
           448000
          ],
          [
           "10, Morlais Street, Cardiff CF23 5HQ",
           95000
          ],
          [
           "83, Cyfarthfa Street, Cardiff CF24 3HF",
           220000
          ],
          [
           "83, Cyfarthfa Street, Cardiff CF24 3HF",
           135000
          ],
          [
           "83, Cyfarthfa Street, Cardiff CF24 3HF",
           56950
          ],
          [
           "20, Prince Leopold Street, Cardiff CF24 0HT",
           175000
          ],
          [
           "20, Prince Leopold Street, Cardiff CF24 0HT",
           42000
          ],
          [
           "39, Doe Close, Penylan, Cardiff CF23 9HJ",
           340000
          ],
          [
           "138, Mackintosh Place, Cardiff CF24 4RS",
           243500
          ],
          [
           "129, Cyfarthfa Street, Cardiff CF24 3HH",
           245000
          ],
          [
           "129, Cyfarthfa Street, Cardiff CF24 3HH",
           173000
          ],
          [
           "129, Cyfarthfa Street, Cardiff CF24 3HH",
           179000
          ],
          [
           "129, Cyfarthfa Street, Cardiff CF24 3HH",
           100000
          ],
          [
           "40, Spring Gardens Terrace, Cardiff CF24 1QX",
           193000
          ],
          [
           "40, Spring Gardens Terrace, Cardiff CF24 1QX",
           147000
          ],
          [
           "40, Spring Gardens Terrace, Cardiff CF24 1QX",
           110000
          ],
          [
           "40, Spring Gardens Terrace, Cardiff CF24 1QX",
           38750
          ],
          [
           "26, Deri Road, Cardiff CF23 5AJ",
           525000
          ],
          [
           "26, Deri Road, Cardiff CF23 5AJ",
           345000
          ],
          [
           "15, Blanche Street, Cardiff CF24 1QS",
           190000
          ],
          [
           "138, Donald Street, Cardiff CF24 4TN",
           295000
          ],
          [
           "37, Blanche Street, Cardiff CF24 1QS",
           235000
          ],
          [
           "37, Blanche Street, Cardiff CF24 1QS",
           160000
          ],
          [
           "37, Blanche Street, Cardiff CF24 1QS",
           110000
          ],
          [
           "37, Blanche Street, Cardiff CF24 1QS",
           120000
          ],
          [
           "10, Wellfield Place, Cardiff CF24 3PD",
           286000
          ],
          [
           "10, Wellfield Place, Cardiff CF24 3PD",
           145000
          ],
          [
           "37, Mafeking Road, Cardiff CF23 5DQ",
           505000
          ],
          [
           "37, Mafeking Road, Cardiff CF23 5DQ",
           285000
          ],
          [
           "114, Inverness Place, Cardiff CF24 4SA",
           312000
          ],
          [
           "114, Inverness Place, Cardiff CF24 4SA",
           160000
          ],
          [
           "114, Inverness Place, Cardiff CF24 4SA",
           155000
          ],
          [
           "114, Inverness Place, Cardiff CF24 4SA",
           150000
          ],
          [
           "114, Inverness Place, Cardiff CF24 4SA",
           77950
          ],
          [
           "Ground Floor Flat, 106, Connaught Road, Cardiff CF24 3PY",
           172250
          ],
          [
           "26, Moira Place, Cardiff CF24 0ET",
           303000
          ],
          [
           "26, Moira Place, Cardiff CF24 0ET",
           62000
          ],
          [
           "26, Moira Place, Cardiff CF24 0ET",
           33000
          ],
          [
           "5, Melrose Avenue, Penylan, Cardiff CF23 9AR",
           435000
          ],
          [
           "45, Upper Kincraig Street, Roath, Cardiff CF24 3HB",
           268000
          ],
          [
           "45, Upper Kincraig Street, Roath, Cardiff CF24 3HB",
           205000
          ],
          [
           "45, Upper Kincraig Street, Roath, Cardiff CF24 3HB",
           167500
          ],
          [
           "45, Upper Kincraig Street, Roath, Cardiff CF24 3HB",
           143000
          ],
          [
           "45, Upper Kincraig Street, Roath, Cardiff CF24 3HB",
           69000
          ],
          [
           "31, Amesbury Road, Cardiff CF23 5DW",
           465000
          ],
          [
           "31, Amesbury Road, Cardiff CF23 5DW",
           260000
          ],
          [
           "31, Amesbury Road, Cardiff CF23 5DW",
           84000
          ],
          [
           "12, Orbit Street, Cardiff CF24 0JX",
           140000
          ],
          [
           "12, Orbit Street, Cardiff CF24 0JX",
           128000
          ],
          [
           "118, Kimberley Road, Cardiff CF23 5AF",
           675000
          ],
          [
           "118, Kimberley Road, Cardiff CF23 5AF",
           105550
          ],
          [
           "78, Inverness Place, Cardiff CF24 4SA",
           280000
          ],
          [
           "117, Westville Road, Cardiff CF23 5AG",
           360000
          ],
          [
           "96, Ffordd Nowell, Penylan, Cardiff CF23 9FB",
           345000
          ],
          [
           "96, Ffordd Nowell, Penylan, Cardiff CF23 9FB",
           300500
          ],
          [
           "96, Ffordd Nowell, Penylan, Cardiff CF23 9FB",
           280000
          ],
          [
           "6, Silver Street, Cardiff CF24 0LG",
           242000
          ],
          [
           "6, Silver Street, Cardiff CF24 0LG",
           149950
          ],
          [
           "71, Clifton Street, Cardiff CF24 1LT",
           192500
          ],
          [
           "71, Clifton Street, Cardiff CF24 1LT",
           137000
          ],
          [
           "71, Clifton Street, Cardiff CF24 1LT",
           93000
          ],
          [
           "71, Clifton Street, Cardiff CF24 1LT",
           53000
          ],
          [
           "71, Clifton Street, Cardiff CF24 1LT",
           37000
          ],
          [
           "120, Cottrell Road, Roath, Cardiff CF24 3EX",
           267500
          ],
          [
           "265, Albany Road, Cardiff CF24 3NX",
           510000
          ],
          [
           "265, Albany Road, Cardiff CF24 3NX",
           400000
          ],
          [
           "29, Spring Gardens Place, Cardiff CF24 1QY",
           200000
          ],
          [
           "29, Spring Gardens Place, Cardiff CF24 1QY",
           165000
          ],
          [
           "29, Spring Gardens Place, Cardiff CF24 1QY",
           133000
          ],
          [
           "84, Cottrell Road, Roath, Cardiff CF24 3EZ",
           249000
          ],
          [
           "84, Cottrell Road, Roath, Cardiff CF24 3EZ",
           139580
          ],
          [
           "91, Mackintosh Place, Cardiff CF24 4RL",
           175000
          ],
          [
           "91, Mackintosh Place, Cardiff CF24 4RL",
           147000
          ],
          [
           "91, Mackintosh Place, Cardiff CF24 4RL",
           117000
          ],
          [
           "91, Mackintosh Place, Cardiff CF24 4RL",
           56875
          ],
          [
           "9, Alfred Street, Cardiff CF24 4TY",
           220000
          ],
          [
           "9, Alfred Street, Cardiff CF24 4TY",
           109664
          ],
          [
           "9, Alfred Street, Cardiff CF24 4TY",
           85000
          ],
          [
           "16, Talworth Street, Roath, Cardiff CF24 3EJ",
           240000
          ],
          [
           "16, Talworth Street, Roath, Cardiff CF24 3EJ",
           184000
          ],
          [
           "16, Talworth Street, Roath, Cardiff CF24 3EJ",
           183950
          ],
          [
           "16, Talworth Street, Roath, Cardiff CF24 3EJ",
           90000
          ],
          [
           "20, Silver Street, Cardiff CF24 0LG",
           236000
          ],
          [
           "20, Silver Street, Cardiff CF24 0LG",
           137500
          ],
          [
           "20, Silver Street, Cardiff CF24 0LG",
           47500
          ],
          [
           "20, Minster Road, Cardiff CF23 5AS",
           418863
          ],
          [
           "20, Minster Road, Cardiff CF23 5AS",
           315000
          ],
          [
           "20, Minster Road, Cardiff CF23 5AS",
           250000
          ],
          [
           "20, Minster Road, Cardiff CF23 5AS",
           182500
          ],
          [
           "20, Minster Road, Cardiff CF23 5AS",
           89950
          ],
          [
           "133, Keppoch Street, Cardiff CF24 3JU",
           234950
          ],
          [
           "133, Keppoch Street, Cardiff CF24 3JU",
           203000
          ],
          [
           "133, Keppoch Street, Cardiff CF24 3JU",
           149000
          ],
          [
           "133, Keppoch Street, Cardiff CF24 3JU",
           159950
          ],
          [
           "133, Keppoch Street, Cardiff CF24 3JU",
           86000
          ],
          [
           "133, Keppoch Street, Cardiff CF24 3JU",
           42500
          ],
          [
           "34a, Stacey Road, Cardiff CF24 1DU",
           145500
          ],
          [
           "34a, Stacey Road, Cardiff CF24 1DU",
           97000
          ],
          [
           "36, Topaz Street, Cardiff CF24 1PH",
           231000
          ],
          [
           "36, Topaz Street, Cardiff CF24 1PH",
           205000
          ],
          [
           "36, Topaz Street, Cardiff CF24 1PH",
           115000
          ],
          [
           "43, Inverness Place, Cardiff CF24 4RU",
           217000
          ],
          [
           "43, Inverness Place, Cardiff CF24 4RU",
           206000
          ],
          [
           "43, Inverness Place, Cardiff CF24 4RU",
           159950
          ],
          [
           "43, Inverness Place, Cardiff CF24 4RU",
           118000
          ],
          [
           "43, Inverness Place, Cardiff CF24 4RU",
           55000
          ]
         ],
         "hovertemplate": "<b>%{hovertext}</b><br><br>display_price=%{marker.color}<br>latitude=%{lat}<br>longitude=%{lon}<br>address=%{customdata[0]}<extra></extra>",
         "hovertext": [
          "9, Stallcourt Avenue, Cardiff CF23 5AL",
          "9, Stallcourt Avenue, Cardiff CF23 5AL",
          "87, Clifton Street, Cardiff CF24 1LT",
          "87, Clifton Street, Cardiff CF24 1LT",
          "87, Clifton Street, Cardiff CF24 1LT",
          "87, Clifton Street, Cardiff CF24 1LT",
          "101, Arran Street, Roath, Cardiff CF24 3HU",
          "101, Arran Street, Roath, Cardiff CF24 3HU",
          "101, Arran Street, Roath, Cardiff CF24 3HU",
          "101, Arran Street, Roath, Cardiff CF24 3HU",
          "34b, Amesbury Road, Cardiff CF23 5DW",
          "34b, Amesbury Road, Cardiff CF23 5DW",
          "34b, Amesbury Road, Cardiff CF23 5DW",
          "34b, Amesbury Road, Cardiff CF23 5DW",
          "10, Blanche Street, Cardiff CF24 1QT",
          "10, Blanche Street, Cardiff CF24 1QT",
          "10, Blanche Street, Cardiff CF24 1QT",
          "10, Blanche Street, Cardiff CF24 1QT",
          "307, Railway Street, Cardiff CF24 2NE",
          "307, Railway Street, Cardiff CF24 2NE",
          "48, Talworth Street, Roath, Cardiff CF24 3EH",
          "140, Glenroy Street, Cardiff CF24 3LA",
          "140, Glenroy Street, Cardiff CF24 3LA",
          "140, Glenroy Street, Cardiff CF24 3LA",
          "140, Glenroy Street, Cardiff CF24 3LA",
          "195, Inverness Place, Cardiff CF24 4RY",
          "100, Pearl Street, Cardiff CF24 1PL",
          "100, Pearl Street, Cardiff CF24 1PL",
          "100, Pearl Street, Cardiff CF24 1PL",
          "44, Metal Street, Cardiff CF24 0JZ",
          "60, Alfred Street, Cardiff CF24 4TZ",
          "60, Alfred Street, Cardiff CF24 4TZ",
          "28, Horwood Close, Cardiff CF24 2LW",
          "28, Horwood Close, Cardiff CF24 2LW",
          "28, Horwood Close, Cardiff CF24 2LW",
          "158, Railway Street, Cardiff CF24 2NH",
          "158, Railway Street, Cardiff CF24 2NH",
          "158, Railway Street, Cardiff CF24 2NH",
          "158, Railway Street, Cardiff CF24 2NH",
          "158, Railway Street, Cardiff CF24 2NH",
          "158, Railway Street, Cardiff CF24 2NH",
          "65, Strathnairn Street, Cardiff CF24 3JP",
          "65, Strathnairn Street, Cardiff CF24 3JP",
          "65, Strathnairn Street, Cardiff CF24 3JP",
          "8, Princes Avenue, Cardiff CF24 3SN",
          "8, Princes Avenue, Cardiff CF24 3SN",
          "167, Arabella Street, Cardiff CF24 4SY",
          "167, Arabella Street, Cardiff CF24 4SY",
          "167, Arabella Street, Cardiff CF24 4SY",
          "167, Arabella Street, Cardiff CF24 4SY",
          "37, Partridge Road, Cardiff CF24 3QW",
          "37, Partridge Road, Cardiff CF24 3QW",
          "56, Cottrell Road, Roath, Cardiff CF24 3EZ",
          "56, Cottrell Road, Roath, Cardiff CF24 3EZ",
          "56, Cottrell Road, Roath, Cardiff CF24 3EZ",
          "21, Westville Road, Cardiff CF23 5DE",
          "21, Westville Road, Cardiff CF23 5DE",
          "21, Westville Road, Cardiff CF23 5DE",
          "30, Piercefield Place, Cardiff CF24 0LD",
          "30, Piercefield Place, Cardiff CF24 0LD",
          "30, Piercefield Place, Cardiff CF24 0LD",
          "30, Piercefield Place, Cardiff CF24 0LD",
          "28, Lochaber Street, Cardiff CF24 3LS",
          "28, Lochaber Street, Cardiff CF24 3LS",
          "124, Arabella Street, Cardiff CF24 4SY",
          "124, Arabella Street, Cardiff CF24 4SY",
          "49, Cyfarthfa Street, Cardiff CF24 3HF",
          "49, Cyfarthfa Street, Cardiff CF24 3HF",
          "49, Cyfarthfa Street, Cardiff CF24 3HF",
          "31, Bradley Street, Cardiff CF24 1PE",
          "31, Bradley Street, Cardiff CF24 1PE",
          "31, Bradley Street, Cardiff CF24 1PE",
          "45, Doe Close, Penylan, Cardiff CF23 9HJ",
          "45, Doe Close, Penylan, Cardiff CF23 9HJ",
          "45, Doe Close, Penylan, Cardiff CF23 9HJ",
          "16, Deri Road, Cardiff CF23 5AJ",
          "16, Deri Road, Cardiff CF23 5AJ",
          "16, Deri Road, Cardiff CF23 5AJ",
          "16, Deri Road, Cardiff CF23 5AJ",
          "16, Deri Road, Cardiff CF23 5AJ",
          "16, Deri Road, Cardiff CF23 5AJ",
          "42, Doe Close, Penylan, Cardiff CF23 9HJ",
          "42, Doe Close, Penylan, Cardiff CF23 9HJ",
          "42, Doe Close, Penylan, Cardiff CF23 9HJ",
          "104, Keppoch Street, Cardiff CF24 3JU",
          "104, Keppoch Street, Cardiff CF24 3JU",
          "104, Keppoch Street, Cardiff CF24 3JU",
          "104, Keppoch Street, Cardiff CF24 3JU",
          "6, Pen Y Wain Place, Cardiff CF24 4GA",
          "6, Pen Y Wain Place, Cardiff CF24 4GA",
          "6, Pen Y Wain Place, Cardiff CF24 4GA",
          "13, Cecil Street, Roath, Cardiff CF24 1NU",
          "13, Cecil Street, Roath, Cardiff CF24 1NU",
          "13, Cecil Street, Roath, Cardiff CF24 1NU",
          "13, Cecil Street, Roath, Cardiff CF24 1NU",
          "69, Melrose Avenue, Penylan, Cardiff CF23 9AT",
          "69, Melrose Avenue, Penylan, Cardiff CF23 9AT",
          "69, Melrose Avenue, Penylan, Cardiff CF23 9AT",
          "69, Melrose Avenue, Penylan, Cardiff CF23 9AT",
          "69, Melrose Avenue, Penylan, Cardiff CF23 9AT",
          "96, Glenroy Street, Cardiff CF24 3JY",
          "96, Glenroy Street, Cardiff CF24 3JY",
          "96, Glenroy Street, Cardiff CF24 3JY",
          "96, Glenroy Street, Cardiff CF24 3JY",
          "96, Glenroy Street, Cardiff CF24 3JY",
          "55, Princes Street, Cardiff CF24 3SL",
          "55, Princes Street, Cardiff CF24 3SL",
          "92, Cyfarthfa Street, Cardiff CF24 3HG",
          "92, Cyfarthfa Street, Cardiff CF24 3HG",
          "92, Cyfarthfa Street, Cardiff CF24 3HG",
          "73, Clifton Street, Cardiff CF24 1LT",
          "73, Clifton Street, Cardiff CF24 1LT",
          "85, Broadway, Cardiff CF24 1QF",
          "66, Upper Kincraig Street, Roath, Cardiff CF24 3HB",
          "66, Upper Kincraig Street, Roath, Cardiff CF24 3HB",
          "66, Upper Kincraig Street, Roath, Cardiff CF24 3HB",
          "31, Arthur Street, Cardiff CF24 1QR",
          "31, Arthur Street, Cardiff CF24 1QR",
          "31, Arthur Street, Cardiff CF24 1QR",
          "111, Treharris Street, Cardiff CF24 3HP",
          "111, Treharris Street, Cardiff CF24 3HP",
          "4, Pen Y Wain Place, Cardiff CF24 4GA",
          "48, Ruby Street, Cardiff CF24 1LN",
          "48, Ruby Street, Cardiff CF24 1LN",
          "62, Diana Street, Cardiff CF24 4TW",
          "62, Diana Street, Cardiff CF24 4TW",
          "103, Arran Street, Roath, Cardiff CF24 3HU",
          "103, Arran Street, Roath, Cardiff CF24 3HU",
          "103, Arran Street, Roath, Cardiff CF24 3HU",
          "103, Arran Street, Roath, Cardiff CF24 3HU",
          "80, Keppoch Street, Cardiff CF24 3JU",
          "80, Keppoch Street, Cardiff CF24 3JU",
          "80, Keppoch Street, Cardiff CF24 3JU",
          "227, Newport Road, Cardiff CF24 1RG",
          "227, Newport Road, Cardiff CF24 1RG",
          "9, Blanche Street, Cardiff CF24 1QS",
          "9, Blanche Street, Cardiff CF24 1QS",
          "9, Blanche Street, Cardiff CF24 1QS",
          "9, Blanche Street, Cardiff CF24 1QS",
          "50, Talworth Street, Roath, Cardiff CF24 3EH",
          "50, Talworth Street, Roath, Cardiff CF24 3EH",
          "181, Arabella Street, Cardiff CF24 4SZ",
          "181, Arabella Street, Cardiff CF24 4SZ",
          "181, Arabella Street, Cardiff CF24 4SZ",
          "181, Arabella Street, Cardiff CF24 4SZ",
          "181, Arabella Street, Cardiff CF24 4SZ",
          "46, Sandringham Road, Cardiff CF23 5BL",
          "46, Sandringham Road, Cardiff CF23 5BL",
          "Flat 10, Windsor Court, Moira Terrace, Cardiff CF24 0DZ",
          "Flat 10, Windsor Court, Moira Terrace, Cardiff CF24 0DZ",
          "Flat 10, Windsor Court, Moira Terrace, Cardiff CF24 0DZ",
          "Flat 10, Windsor Court, Moira Terrace, Cardiff CF24 0DZ",
          "Flat 10, Windsor Court, Moira Terrace, Cardiff CF24 0DZ",
          "Flat 10, Windsor Court, Moira Terrace, Cardiff CF24 0DZ",
          "Flat 10, Windsor Court, Moira Terrace, Cardiff CF24 0DZ",
          "Flat 10, Windsor Court, Moira Terrace, Cardiff CF24 0DZ",
          "5, Dalcross Street, Cardiff CF24 4SD",
          "5, Dalcross Street, Cardiff CF24 4SD",
          "5, Dalcross Street, Cardiff CF24 4SD",
          "5, Dalcross Street, Cardiff CF24 4SD",
          "80b, Connaught Road, Cardiff CF24 3PX",
          "80b, Connaught Road, Cardiff CF24 3PX",
          "80b, Connaught Road, Cardiff CF24 3PX",
          "80b, Connaught Road, Cardiff CF24 3PX",
          "80b, Connaught Road, Cardiff CF24 3PX",
          "80b, Connaught Road, Cardiff CF24 3PX",
          "80b, Connaught Road, Cardiff CF24 3PX",
          "14, Cottrell Road, Roath, Cardiff CF24 3EY",
          "1, Tyler Street, Cardiff CF24 1QP",
          "1, Tyler Street, Cardiff CF24 1QP",
          "33, Horwood Close, Cardiff CF24 2LW",
          "33, Horwood Close, Cardiff CF24 2LW",
          "33, Horwood Close, Cardiff CF24 2LW",
          "33, Horwood Close, Cardiff CF24 2LW",
          "112, Cyfarthfa Street, Cardiff CF24 3HG",
          "112, Cyfarthfa Street, Cardiff CF24 3HG",
          "112, Cyfarthfa Street, Cardiff CF24 3HG",
          "112, Cyfarthfa Street, Cardiff CF24 3HG",
          "112, Cyfarthfa Street, Cardiff CF24 3HG",
          "5, Amesbury Road, Cardiff CF23 5DW",
          "5, Amesbury Road, Cardiff CF23 5DW",
          "5, Amesbury Road, Cardiff CF23 5DW",
          "40, Arabella Street, Cardiff CF24 4TA",
          "40, Arabella Street, Cardiff CF24 4TA",
          "40, Arabella Street, Cardiff CF24 4TA",
          "40, Arabella Street, Cardiff CF24 4TA",
          "40, Arabella Street, Cardiff CF24 4TA",
          "167, Treharris Street, Cardiff CF24 3HQ",
          "167, Treharris Street, Cardiff CF24 3HQ",
          "167, Treharris Street, Cardiff CF24 3HQ",
          "167, Treharris Street, Cardiff CF24 3HQ",
          "167, Treharris Street, Cardiff CF24 3HQ",
          "167, Treharris Street, Cardiff CF24 3HQ",
          "12, Wordsworth Avenue, Cardiff CF24 3FQ",
          "12, Wordsworth Avenue, Cardiff CF24 3FQ",
          "12, Wordsworth Avenue, Cardiff CF24 3FQ",
          "141, Kimberley Road, Cardiff CF23 5AF",
          "141, Kimberley Road, Cardiff CF23 5AF",
          "34, Alfred Street, Cardiff CF24 4TY",
          "34, Alfred Street, Cardiff CF24 4TY",
          "34, Alfred Street, Cardiff CF24 4TY",
          "34, Alfred Street, Cardiff CF24 4TY",
          "34, Alfred Street, Cardiff CF24 4TY",
          "10, Deri Road, Cardiff CF23 5AJ",
          "10, Deri Road, Cardiff CF23 5AJ",
          "10, Deri Road, Cardiff CF23 5AJ",
          "28, Alfred Street, Cardiff CF24 4TY",
          "28, Alfred Street, Cardiff CF24 4TY",
          "28, Alfred Street, Cardiff CF24 4TY",
          "10, Stallcourt Avenue, Cardiff CF23 5AN",
          "10, Stallcourt Avenue, Cardiff CF23 5AN",
          "10, Stallcourt Avenue, Cardiff CF23 5AN",
          "127, Cyfarthfa Street, Cardiff CF24 3HG",
          "122, Arran Street, Roath, Cardiff CF24 3HU",
          "122, Arran Street, Roath, Cardiff CF24 3HU",
          "122, Arran Street, Roath, Cardiff CF24 3HU",
          "122, Arran Street, Roath, Cardiff CF24 3HU",
          "100, Keppoch Street, Cardiff CF24 3JU",
          "100, Keppoch Street, Cardiff CF24 3JU",
          "100, Keppoch Street, Cardiff CF24 3JU",
          "100, Keppoch Street, Cardiff CF24 3JU",
          "100, Keppoch Street, Cardiff CF24 3JU",
          "12, Tyler Street, Cardiff CF24 1QP",
          "12, Tyler Street, Cardiff CF24 1QP",
          "12, Tyler Street, Cardiff CF24 1QP",
          "12, Tyler Street, Cardiff CF24 1QP",
          "106, Cyfarthfa Street, Cardiff CF24 3HG",
          "18, Theodora Street, Cardiff CF24 1PD",
          "18, Theodora Street, Cardiff CF24 1PD",
          "18, Theodora Street, Cardiff CF24 1PD",
          "18, Theodora Street, Cardiff CF24 1PD",
          "18, Theodora Street, Cardiff CF24 1PD",
          "78, Mackintosh Place, Cardiff CF24 4RR",
          "57, Cyfarthfa Street, Cardiff CF24 3HF",
          "57, Cyfarthfa Street, Cardiff CF24 3HF",
          "57, Cyfarthfa Street, Cardiff CF24 3HF",
          "57, Cyfarthfa Street, Cardiff CF24 3HF",
          "16, Bradley Street, Cardiff CF24 1PE",
          "16, Bradley Street, Cardiff CF24 1PE",
          "16, Bradley Street, Cardiff CF24 1PE",
          "22, Treharris Street, Cardiff CF24 3HN",
          "22, Treharris Street, Cardiff CF24 3HN",
          "215, Inverness Place, Cardiff CF24 4RY",
          "215, Inverness Place, Cardiff CF24 4RY",
          "215, Inverness Place, Cardiff CF24 4RY",
          "12c, Oakfield Street, Cardiff CF24 3RD",
          "12c, Oakfield Street, Cardiff CF24 3RD",
          "70, Amesbury Road, Cardiff CF23 5DY",
          "70, Amesbury Road, Cardiff CF23 5DY",
          "70, Amesbury Road, Cardiff CF23 5DY",
          "70, Amesbury Road, Cardiff CF23 5DY",
          "17, Doe Close, Penylan, Cardiff CF23 9HJ",
          "17, Doe Close, Penylan, Cardiff CF23 9HJ",
          "17, Doe Close, Penylan, Cardiff CF23 9HJ",
          "51, Waterloo Gardens, Cardiff CF23 5AB",
          "51, Waterloo Gardens, Cardiff CF23 5AB",
          "15, Sapphire Street, Cardiff CF24 1PY",
          "15, Sapphire Street, Cardiff CF24 1PY",
          "20, Angus Street, Cardiff CF24 3LY",
          "20, Angus Street, Cardiff CF24 3LY",
          "20, Angus Street, Cardiff CF24 3LY",
          "20, Angus Street, Cardiff CF24 3LY",
          "20, Angus Street, Cardiff CF24 3LY",
          "20, Angus Street, Cardiff CF24 3LY",
          "18, Blanche Street, Cardiff CF24 1QT",
          "18, Blanche Street, Cardiff CF24 1QT",
          "75, Melrose Avenue, Penylan, Cardiff CF23 9AT",
          "Flat 51, Thomas Court, Marlborough Road, Cardiff CF23 5EZ",
          "Flat 51, Thomas Court, Marlborough Road, Cardiff CF23 5EZ",
          "Flat 51, Thomas Court, Marlborough Road, Cardiff CF23 5EZ",
          "82, Donald Street, Cardiff CF24 4TR",
          "82, Donald Street, Cardiff CF24 4TR",
          "82, Donald Street, Cardiff CF24 4TR",
          "82, Donald Street, Cardiff CF24 4TR",
          "179, Railway Street, Cardiff CF24 2NB",
          "179, Railway Street, Cardiff CF24 2NB",
          "179, Railway Street, Cardiff CF24 2NB",
          "179, Railway Street, Cardiff CF24 2NB",
          "60, Clifton Street, Cardiff CF24 1LT",
          "60, Clifton Street, Cardiff CF24 1LT",
          "60, Clifton Street, Cardiff CF24 1LT",
          "60, Clifton Street, Cardiff CF24 1LT",
          "10, Tyler Street, Cardiff CF24 1QP",
          "155, Cyfarthfa Street, Cardiff CF24 3HH",
          "155, Cyfarthfa Street, Cardiff CF24 3HH",
          "155, Cyfarthfa Street, Cardiff CF24 3HH",
          "155, Cyfarthfa Street, Cardiff CF24 3HH",
          "155, Cyfarthfa Street, Cardiff CF24 3HH",
          "155, Cyfarthfa Street, Cardiff CF24 3HH",
          "111, Glenroy Street, Cardiff CF24 3JZ",
          "111, Glenroy Street, Cardiff CF24 3JZ",
          "111, Glenroy Street, Cardiff CF24 3JZ",
          "99, Inverness Place, Cardiff CF24 4RW",
          "99, Inverness Place, Cardiff CF24 4RW",
          "99, Inverness Place, Cardiff CF24 4RW",
          "47, Moy Road, Roath, Cardiff CF24 4SH",
          "47, Moy Road, Roath, Cardiff CF24 4SH",
          "47, Moy Road, Roath, Cardiff CF24 4SH",
          "47, Moy Road, Roath, Cardiff CF24 4SH",
          "162, Pearl Street, Cardiff CF24 1RB",
          "162, Pearl Street, Cardiff CF24 1RB",
          "8, Cottrell Road, Roath, Cardiff CF24 3EY",
          "8, Cottrell Road, Roath, Cardiff CF24 3EY",
          "46, Sapphire Street, Cardiff CF24 1PZ",
          "46, Sapphire Street, Cardiff CF24 1PZ",
          "46, Sapphire Street, Cardiff CF24 1PZ",
          "46, Sapphire Street, Cardiff CF24 1PZ",
          "46, Sapphire Street, Cardiff CF24 1PZ",
          "19, Cyfarthfa Street, Cardiff CF24 3HE",
          "19, Cyfarthfa Street, Cardiff CF24 3HE",
          "19, Cyfarthfa Street, Cardiff CF24 3HE",
          "19, Cyfarthfa Street, Cardiff CF24 3HE",
          "19, Cyfarthfa Street, Cardiff CF24 3HE",
          "19, Cyfarthfa Street, Cardiff CF24 3HE",
          "126, Arabella Street, Cardiff CF24 4SY",
          "126, Arabella Street, Cardiff CF24 4SY",
          "126, Arabella Street, Cardiff CF24 4SY",
          "69, Treharris Street, Cardiff CF24 3HL",
          "69, Treharris Street, Cardiff CF24 3HL",
          "69, Treharris Street, Cardiff CF24 3HL",
          "69, Treharris Street, Cardiff CF24 3HL",
          "66, Clifton Street, Cardiff CF24 1LT",
          "66, Clifton Street, Cardiff CF24 1LT",
          "66, Clifton Street, Cardiff CF24 1LT",
          "66, Clifton Street, Cardiff CF24 1LT",
          "66, Clifton Street, Cardiff CF24 1LT",
          "425, Newport Road, Cardiff CF24 1RP",
          "8, Braeval Street, Cardiff CF24 4SJ",
          "8, Braeval Street, Cardiff CF24 4SJ",
          "8, Braeval Street, Cardiff CF24 4SJ",
          "8, Braeval Street, Cardiff CF24 4SJ",
          "3, Princes Street, Cardiff CF24 3PR",
          "3, Princes Street, Cardiff CF24 3PR",
          "3, Princes Street, Cardiff CF24 3PR",
          "130, Cottrell Road, Roath, Cardiff CF24 3EX",
          "130, Cottrell Road, Roath, Cardiff CF24 3EX",
          "130, Cottrell Road, Roath, Cardiff CF24 3EX",
          "130, Cottrell Road, Roath, Cardiff CF24 3EX",
          "13, Kimberley Road, Cardiff CF23 5DH",
          "13, Kimberley Road, Cardiff CF23 5DH",
          "13, Kimberley Road, Cardiff CF23 5DH",
          "13, Kimberley Road, Cardiff CF23 5DH",
          "13, Kimberley Road, Cardiff CF23 5DH",
          "13, Kimberley Road, Cardiff CF23 5DH",
          "29, Ruby Street, Cardiff CF24 1LP",
          "29, Ruby Street, Cardiff CF24 1LP",
          "29, Ruby Street, Cardiff CF24 1LP",
          "29, Ruby Street, Cardiff CF24 1LP",
          "32, Horwood Close, Cardiff CF24 2LW",
          "32, Horwood Close, Cardiff CF24 2LW",
          "32, Horwood Close, Cardiff CF24 2LW",
          "158, Glenroy Street, Cardiff CF24 3LA",
          "3b, Moira Place, Cardiff CF24 0ER",
          "3b, Moira Place, Cardiff CF24 0ER",
          "10, Sandringham Road, Cardiff CF23 5BH",
          "10, Sandringham Road, Cardiff CF23 5BH",
          "64, Clifton Street, Cardiff CF24 1LT",
          "136, Daviot Street, Cardiff CF24 4SQ",
          "136, Daviot Street, Cardiff CF24 4SQ",
          "136, Daviot Street, Cardiff CF24 4SQ",
          "136, Daviot Street, Cardiff CF24 4SQ",
          "136, Daviot Street, Cardiff CF24 4SQ",
          "27, Cecil Street, Roath, Cardiff CF24 1NU",
          "32, Roath Court Road, Cardiff CF24 3SD",
          "32, Roath Court Road, Cardiff CF24 3SD",
          "34, Arabella Street, Cardiff CF24 4TA",
          "34, Arabella Street, Cardiff CF24 4TA",
          "34, Arabella Street, Cardiff CF24 4TA",
          "14, Westville Road, Cardiff CF23 5AG",
          "14, Westville Road, Cardiff CF23 5AG",
          "40, Metal Street, Cardiff CF24 0JZ",
          "40, Metal Street, Cardiff CF24 0JZ",
          "40, Metal Street, Cardiff CF24 0JZ",
          "8, Augusta Street, Cardiff CF24 0EN",
          "8, Augusta Street, Cardiff CF24 0EN",
          "8, Augusta Street, Cardiff CF24 0EN",
          "12, Daviot Street, Cardiff CF24 4SL",
          "12, Daviot Street, Cardiff CF24 4SL",
          "12, Daviot Street, Cardiff CF24 4SL",
          "12, Daviot Street, Cardiff CF24 4SL",
          "160, Donald Street, Cardiff CF24 4TP",
          "4, Upper Kincraig Street, Roath, Cardiff CF24 3HA",
          "4, Upper Kincraig Street, Roath, Cardiff CF24 3HA",
          "4, Upper Kincraig Street, Roath, Cardiff CF24 3HA",
          "66, Cottrell Road, Roath, Cardiff CF24 3EZ",
          "66, Cottrell Road, Roath, Cardiff CF24 3EZ",
          "15, Amesbury Road, Cardiff CF23 5DW",
          "15, Amesbury Road, Cardiff CF23 5DW",
          "46, Arran Street, Roath, Cardiff CF24 3HS",
          "33, Boverton Street, Cardiff CF23 5ES",
          "33, Boverton Street, Cardiff CF23 5ES",
          "33, Boverton Street, Cardiff CF23 5ES",
          "33, Boverton Street, Cardiff CF23 5ES",
          "93, Anderson Place, Cardiff CF24 0HH",
          "2, Pearl Place, Cardiff CF24 1HE",
          "2, Pearl Place, Cardiff CF24 1HE",
          "115, Bedford Street, Cardiff CF24 3DB",
          "34, Cyfarthfa Street, Cardiff CF24 3HE",
          "34, Cyfarthfa Street, Cardiff CF24 3HE",
          "34, Cyfarthfa Street, Cardiff CF24 3HE",
          "34, Cyfarthfa Street, Cardiff CF24 3HE",
          "34, Cyfarthfa Street, Cardiff CF24 3HE",
          "141, Keppoch Street, Cardiff CF24 3JU",
          "141, Keppoch Street, Cardiff CF24 3JU",
          "141, Keppoch Street, Cardiff CF24 3JU",
          "141, Keppoch Street, Cardiff CF24 3JU",
          "141, Keppoch Street, Cardiff CF24 3JU",
          "24, Upper Kincraig Street, Roath, Cardiff CF24 3HA",
          "24, Upper Kincraig Street, Roath, Cardiff CF24 3HA",
          "24, Upper Kincraig Street, Roath, Cardiff CF24 3HA",
          "24, Upper Kincraig Street, Roath, Cardiff CF24 3HA",
          "24, Upper Kincraig Street, Roath, Cardiff CF24 3HA",
          "102, Keppoch Street, Cardiff CF24 3JU",
          "102, Keppoch Street, Cardiff CF24 3JU",
          "56, Emerald Street, Cardiff CF24 1QB",
          "56, Emerald Street, Cardiff CF24 1QB",
          "56, Emerald Street, Cardiff CF24 1QB",
          "56, Emerald Street, Cardiff CF24 1QB",
          "84, Arabella Street, Cardiff CF24 4TB",
          "84, Arabella Street, Cardiff CF24 4TB",
          "84, Arabella Street, Cardiff CF24 4TB",
          "84, Arabella Street, Cardiff CF24 4TB",
          "73, Marlborough Road, Cardiff CF23 5BU",
          "73, Marlborough Road, Cardiff CF23 5BU",
          "4, Blanche Street, Cardiff CF24 1QT",
          "4, Blanche Street, Cardiff CF24 1QT",
          "51, Constellation Street, Cardiff CF24 0HJ",
          "51, Constellation Street, Cardiff CF24 0HJ",
          "51, Constellation Street, Cardiff CF24 0HJ",
          "51, Constellation Street, Cardiff CF24 0HJ",
          "51, Constellation Street, Cardiff CF24 0HJ",
          "225, Inverness Place, Cardiff CF24 4RY",
          "225, Inverness Place, Cardiff CF24 4RY",
          "225, Inverness Place, Cardiff CF24 4RY",
          "225, Inverness Place, Cardiff CF24 4RY",
          "225, Inverness Place, Cardiff CF24 4RY",
          "15, Waterloo Close, Cardiff CF23 5ED",
          "15, Waterloo Close, Cardiff CF23 5ED",
          "19, Braeval Street, Cardiff CF24 4SJ",
          "19, Braeval Street, Cardiff CF24 4SJ",
          "12, Spring Gardens Place, Cardiff CF24 1QZ",
          "12, Spring Gardens Place, Cardiff CF24 1QZ",
          "12, Spring Gardens Place, Cardiff CF24 1QZ",
          "28, Elm Street, Cardiff CF24 3QS",
          "28, Elm Street, Cardiff CF24 3QS",
          "28, Elm Street, Cardiff CF24 3QS",
          "1, Cameron Street, Cardiff CF24 2NX",
          "1, Cameron Street, Cardiff CF24 2NX",
          "1, Cameron Street, Cardiff CF24 2NX",
          "1, Cameron Street, Cardiff CF24 2NX",
          "88, Colchester Avenue, Penylan, Cardiff CF23 9AZ",
          "88, Colchester Avenue, Penylan, Cardiff CF23 9AZ",
          "22, Upper Kincraig Street, Roath, Cardiff CF24 3HA",
          "22, Upper Kincraig Street, Roath, Cardiff CF24 3HA",
          "7, Stacey Road, Cardiff CF24 1DR",
          "7, Stacey Road, Cardiff CF24 1DR",
          "7, Stacey Road, Cardiff CF24 1DR",
          "7, Stacey Road, Cardiff CF24 1DR",
          "7, Stacey Road, Cardiff CF24 1DR",
          "7, Stacey Road, Cardiff CF24 1DR",
          "7, Stacey Road, Cardiff CF24 1DR",
          "11, Prince Leopold Street, Cardiff CF24 0HT",
          "11, Prince Leopold Street, Cardiff CF24 0HT",
          "10, Morlais Street, Cardiff CF23 5HQ",
          "10, Morlais Street, Cardiff CF23 5HQ",
          "10, Morlais Street, Cardiff CF23 5HQ",
          "83, Cyfarthfa Street, Cardiff CF24 3HF",
          "83, Cyfarthfa Street, Cardiff CF24 3HF",
          "83, Cyfarthfa Street, Cardiff CF24 3HF",
          "20, Prince Leopold Street, Cardiff CF24 0HT",
          "20, Prince Leopold Street, Cardiff CF24 0HT",
          "39, Doe Close, Penylan, Cardiff CF23 9HJ",
          "138, Mackintosh Place, Cardiff CF24 4RS",
          "129, Cyfarthfa Street, Cardiff CF24 3HH",
          "129, Cyfarthfa Street, Cardiff CF24 3HH",
          "129, Cyfarthfa Street, Cardiff CF24 3HH",
          "129, Cyfarthfa Street, Cardiff CF24 3HH",
          "40, Spring Gardens Terrace, Cardiff CF24 1QX",
          "40, Spring Gardens Terrace, Cardiff CF24 1QX",
          "40, Spring Gardens Terrace, Cardiff CF24 1QX",
          "40, Spring Gardens Terrace, Cardiff CF24 1QX",
          "26, Deri Road, Cardiff CF23 5AJ",
          "26, Deri Road, Cardiff CF23 5AJ",
          "15, Blanche Street, Cardiff CF24 1QS",
          "138, Donald Street, Cardiff CF24 4TN",
          "37, Blanche Street, Cardiff CF24 1QS",
          "37, Blanche Street, Cardiff CF24 1QS",
          "37, Blanche Street, Cardiff CF24 1QS",
          "37, Blanche Street, Cardiff CF24 1QS",
          "10, Wellfield Place, Cardiff CF24 3PD",
          "10, Wellfield Place, Cardiff CF24 3PD",
          "37, Mafeking Road, Cardiff CF23 5DQ",
          "37, Mafeking Road, Cardiff CF23 5DQ",
          "114, Inverness Place, Cardiff CF24 4SA",
          "114, Inverness Place, Cardiff CF24 4SA",
          "114, Inverness Place, Cardiff CF24 4SA",
          "114, Inverness Place, Cardiff CF24 4SA",
          "114, Inverness Place, Cardiff CF24 4SA",
          "Ground Floor Flat, 106, Connaught Road, Cardiff CF24 3PY",
          "26, Moira Place, Cardiff CF24 0ET",
          "26, Moira Place, Cardiff CF24 0ET",
          "26, Moira Place, Cardiff CF24 0ET",
          "5, Melrose Avenue, Penylan, Cardiff CF23 9AR",
          "45, Upper Kincraig Street, Roath, Cardiff CF24 3HB",
          "45, Upper Kincraig Street, Roath, Cardiff CF24 3HB",
          "45, Upper Kincraig Street, Roath, Cardiff CF24 3HB",
          "45, Upper Kincraig Street, Roath, Cardiff CF24 3HB",
          "45, Upper Kincraig Street, Roath, Cardiff CF24 3HB",
          "31, Amesbury Road, Cardiff CF23 5DW",
          "31, Amesbury Road, Cardiff CF23 5DW",
          "31, Amesbury Road, Cardiff CF23 5DW",
          "12, Orbit Street, Cardiff CF24 0JX",
          "12, Orbit Street, Cardiff CF24 0JX",
          "118, Kimberley Road, Cardiff CF23 5AF",
          "118, Kimberley Road, Cardiff CF23 5AF",
          "78, Inverness Place, Cardiff CF24 4SA",
          "117, Westville Road, Cardiff CF23 5AG",
          "96, Ffordd Nowell, Penylan, Cardiff CF23 9FB",
          "96, Ffordd Nowell, Penylan, Cardiff CF23 9FB",
          "96, Ffordd Nowell, Penylan, Cardiff CF23 9FB",
          "6, Silver Street, Cardiff CF24 0LG",
          "6, Silver Street, Cardiff CF24 0LG",
          "71, Clifton Street, Cardiff CF24 1LT",
          "71, Clifton Street, Cardiff CF24 1LT",
          "71, Clifton Street, Cardiff CF24 1LT",
          "71, Clifton Street, Cardiff CF24 1LT",
          "71, Clifton Street, Cardiff CF24 1LT",
          "120, Cottrell Road, Roath, Cardiff CF24 3EX",
          "265, Albany Road, Cardiff CF24 3NX",
          "265, Albany Road, Cardiff CF24 3NX",
          "29, Spring Gardens Place, Cardiff CF24 1QY",
          "29, Spring Gardens Place, Cardiff CF24 1QY",
          "29, Spring Gardens Place, Cardiff CF24 1QY",
          "84, Cottrell Road, Roath, Cardiff CF24 3EZ",
          "84, Cottrell Road, Roath, Cardiff CF24 3EZ",
          "91, Mackintosh Place, Cardiff CF24 4RL",
          "91, Mackintosh Place, Cardiff CF24 4RL",
          "91, Mackintosh Place, Cardiff CF24 4RL",
          "91, Mackintosh Place, Cardiff CF24 4RL",
          "9, Alfred Street, Cardiff CF24 4TY",
          "9, Alfred Street, Cardiff CF24 4TY",
          "9, Alfred Street, Cardiff CF24 4TY",
          "16, Talworth Street, Roath, Cardiff CF24 3EJ",
          "16, Talworth Street, Roath, Cardiff CF24 3EJ",
          "16, Talworth Street, Roath, Cardiff CF24 3EJ",
          "16, Talworth Street, Roath, Cardiff CF24 3EJ",
          "20, Silver Street, Cardiff CF24 0LG",
          "20, Silver Street, Cardiff CF24 0LG",
          "20, Silver Street, Cardiff CF24 0LG",
          "20, Minster Road, Cardiff CF23 5AS",
          "20, Minster Road, Cardiff CF23 5AS",
          "20, Minster Road, Cardiff CF23 5AS",
          "20, Minster Road, Cardiff CF23 5AS",
          "20, Minster Road, Cardiff CF23 5AS",
          "133, Keppoch Street, Cardiff CF24 3JU",
          "133, Keppoch Street, Cardiff CF24 3JU",
          "133, Keppoch Street, Cardiff CF24 3JU",
          "133, Keppoch Street, Cardiff CF24 3JU",
          "133, Keppoch Street, Cardiff CF24 3JU",
          "133, Keppoch Street, Cardiff CF24 3JU",
          "34a, Stacey Road, Cardiff CF24 1DU",
          "34a, Stacey Road, Cardiff CF24 1DU",
          "36, Topaz Street, Cardiff CF24 1PH",
          "36, Topaz Street, Cardiff CF24 1PH",
          "36, Topaz Street, Cardiff CF24 1PH",
          "43, Inverness Place, Cardiff CF24 4RU",
          "43, Inverness Place, Cardiff CF24 4RU",
          "43, Inverness Place, Cardiff CF24 4RU",
          "43, Inverness Place, Cardiff CF24 4RU",
          "43, Inverness Place, Cardiff CF24 4RU"
         ],
         "lat": [
          51.49517,
          51.49517,
          51.48374,
          51.48374,
          51.48374,
          51.48374,
          51.49129,
          51.49129,
          51.49129,
          51.49129,
          51.49692,
          51.49692,
          51.49692,
          51.49692,
          51.48955,
          51.48955,
          51.48955,
          51.48955,
          51.48812,
          51.48812,
          51.48848,
          51.49299,
          51.49299,
          51.49299,
          51.49299,
          51.4975,
          51.48647,
          51.48647,
          51.48647,
          51.48505,
          51.49583,
          51.49583,
          51.48849,
          51.48849,
          51.48849,
          51.48694,
          51.48694,
          51.48694,
          51.48694,
          51.48694,
          51.48694,
          51.49288,
          51.49288,
          51.49288,
          51.49045,
          51.49045,
          51.49662,
          51.49662,
          51.49662,
          51.49662,
          51.48854,
          51.48854,
          51.4922,
          51.4922,
          51.4922,
          51.49654,
          51.49654,
          51.49654,
          51.48567,
          51.48567,
          51.48567,
          51.48567,
          51.49612,
          51.49612,
          51.49662,
          51.49662,
          51.49011,
          51.49011,
          51.49011,
          51.48863,
          51.48863,
          51.48863,
          51.49689,
          51.49689,
          51.49689,
          51.49544,
          51.49544,
          51.49544,
          51.49544,
          51.49544,
          51.49544,
          51.49689,
          51.49689,
          51.49689,
          51.49227,
          51.49227,
          51.49227,
          51.49227,
          51.49728,
          51.49728,
          51.49728,
          51.48762,
          51.48762,
          51.48762,
          51.48762,
          51.49759,
          51.49759,
          51.49759,
          51.49759,
          51.49759,
          51.49225,
          51.49225,
          51.49225,
          51.49225,
          51.49225,
          51.49207,
          51.49207,
          51.49021,
          51.49021,
          51.49021,
          51.48374,
          51.48374,
          51.48861,
          51.49201,
          51.49201,
          51.49201,
          51.48927,
          51.48927,
          51.48927,
          51.49084,
          51.49084,
          51.49728,
          51.48571,
          51.48571,
          51.49574,
          51.49574,
          51.49129,
          51.49129,
          51.49129,
          51.49129,
          51.49227,
          51.49227,
          51.49227,
          51.49101,
          51.49101,
          51.48981,
          51.48981,
          51.48981,
          51.48981,
          51.48848,
          51.48848,
          51.49742,
          51.49742,
          51.49742,
          51.49742,
          51.49742,
          51.49433,
          51.49433,
          51.48248,
          51.48248,
          51.48248,
          51.48248,
          51.48248,
          51.48248,
          51.48248,
          51.48248,
          51.4958,
          51.4958,
          51.4958,
          51.4958,
          51.4927,
          51.4927,
          51.4927,
          51.4927,
          51.4927,
          51.4927,
          51.4927,
          51.49121,
          51.49006,
          51.49006,
          51.48849,
          51.48849,
          51.48849,
          51.48849,
          51.49021,
          51.49021,
          51.49021,
          51.49021,
          51.49021,
          51.49692,
          51.49692,
          51.49692,
          51.49393,
          51.49393,
          51.49393,
          51.49393,
          51.49393,
          51.49112,
          51.49112,
          51.49112,
          51.49112,
          51.49112,
          51.49112,
          51.48717,
          51.48717,
          51.48717,
          51.49642,
          51.49642,
          51.4944,
          51.4944,
          51.4944,
          51.4944,
          51.4944,
          51.49544,
          51.49544,
          51.49544,
          51.4944,
          51.4944,
          51.4944,
          51.49508,
          51.49508,
          51.49508,
          51.49021,
          51.49129,
          51.49129,
          51.49129,
          51.49129,
          51.49227,
          51.49227,
          51.49227,
          51.49227,
          51.49227,
          51.49006,
          51.49006,
          51.49006,
          51.49006,
          51.49021,
          51.48809,
          51.48809,
          51.48809,
          51.48809,
          51.48809,
          51.49508,
          51.49011,
          51.49011,
          51.49011,
          51.49011,
          51.48863,
          51.48863,
          51.48863,
          51.48991,
          51.48991,
          51.4975,
          51.4975,
          51.4975,
          51.48936,
          51.48936,
          51.49686,
          51.49686,
          51.49686,
          51.49686,
          51.49689,
          51.49689,
          51.49689,
          51.49491,
          51.49491,
          51.48695,
          51.48695,
          51.49486,
          51.49486,
          51.49486,
          51.49486,
          51.49486,
          51.49486,
          51.48955,
          51.48955,
          51.49759,
          51.49519,
          51.49519,
          51.49519,
          51.49566,
          51.49566,
          51.49566,
          51.49566,
          51.48603,
          51.48603,
          51.48603,
          51.48603,
          51.48374,
          51.48374,
          51.48374,
          51.48374,
          51.49006,
          51.49049,
          51.49049,
          51.49049,
          51.49049,
          51.49049,
          51.49049,
          51.49271,
          51.49271,
          51.49271,
          51.49517,
          51.49517,
          51.49517,
          51.49427,
          51.49427,
          51.49427,
          51.49427,
          51.48829,
          51.48829,
          51.49121,
          51.49121,
          51.48669,
          51.48669,
          51.48669,
          51.48669,
          51.48669,
          51.48973,
          51.48973,
          51.48973,
          51.48973,
          51.48973,
          51.48973,
          51.49662,
          51.49662,
          51.49662,
          51.49055,
          51.49055,
          51.49055,
          51.49055,
          51.48374,
          51.48374,
          51.48374,
          51.48374,
          51.48374,
          51.49309,
          51.49435,
          51.49435,
          51.49435,
          51.49435,
          51.49035,
          51.49035,
          51.49035,
          51.49317,
          51.49317,
          51.49317,
          51.49317,
          51.49716,
          51.49716,
          51.49716,
          51.49716,
          51.49716,
          51.49716,
          51.48588,
          51.48588,
          51.48588,
          51.48588,
          51.48849,
          51.48849,
          51.48849,
          51.49299,
          51.48213,
          51.48213,
          51.49573,
          51.49573,
          51.48374,
          51.49623,
          51.49623,
          51.49623,
          51.49623,
          51.49623,
          51.48762,
          51.49214,
          51.49214,
          51.49393,
          51.49393,
          51.49393,
          51.49606,
          51.49606,
          51.48505,
          51.48505,
          51.48505,
          51.48276,
          51.48276,
          51.48276,
          51.49515,
          51.49515,
          51.49515,
          51.49515,
          51.49752,
          51.49172,
          51.49172,
          51.49172,
          51.4922,
          51.4922,
          51.49692,
          51.49692,
          51.49036,
          51.49903,
          51.49903,
          51.49903,
          51.49903,
          51.483,
          51.48392,
          51.48392,
          51.4888,
          51.48973,
          51.48973,
          51.48973,
          51.48973,
          51.48973,
          51.49227,
          51.49227,
          51.49227,
          51.49227,
          51.49227,
          51.49172,
          51.49172,
          51.49172,
          51.49172,
          51.49172,
          51.49227,
          51.49227,
          51.48624,
          51.48624,
          51.48624,
          51.48624,
          51.49536,
          51.49536,
          51.49536,
          51.49536,
          51.49405,
          51.49405,
          51.48955,
          51.48955,
          51.48243,
          51.48243,
          51.48243,
          51.48243,
          51.48243,
          51.4975,
          51.4975,
          51.4975,
          51.4975,
          51.4975,
          51.49502,
          51.49502,
          51.49435,
          51.49435,
          51.49046,
          51.49046,
          51.49046,
          51.48806,
          51.48806,
          51.48806,
          51.48676,
          51.48676,
          51.48676,
          51.48676,
          51.49812,
          51.49812,
          51.49172,
          51.49172,
          51.48831,
          51.48831,
          51.48831,
          51.48831,
          51.48831,
          51.48831,
          51.48831,
          51.48153,
          51.48153,
          51.4993,
          51.4993,
          51.4993,
          51.49011,
          51.49011,
          51.49011,
          51.48153,
          51.48153,
          51.49689,
          51.49633,
          51.49049,
          51.49049,
          51.49049,
          51.49049,
          51.48992,
          51.48992,
          51.48992,
          51.48992,
          51.49544,
          51.49544,
          51.48981,
          51.49672,
          51.48981,
          51.48981,
          51.48981,
          51.48981,
          51.49471,
          51.49471,
          51.49772,
          51.49772,
          51.49526,
          51.49526,
          51.49526,
          51.49526,
          51.49526,
          51.4931,
          51.48169,
          51.48169,
          51.48169,
          51.49854,
          51.49201,
          51.49201,
          51.49201,
          51.49201,
          51.49201,
          51.49692,
          51.49692,
          51.49692,
          51.48504,
          51.48504,
          51.49642,
          51.49642,
          51.49526,
          51.49606,
          51.49539,
          51.49539,
          51.49539,
          51.4855,
          51.4855,
          51.48374,
          51.48374,
          51.48374,
          51.48374,
          51.48374,
          51.49317,
          51.49289,
          51.49289,
          51.49064,
          51.49064,
          51.49064,
          51.4922,
          51.4922,
          51.49516,
          51.49516,
          51.49516,
          51.49516,
          51.4944,
          51.4944,
          51.4944,
          51.4892,
          51.4892,
          51.4892,
          51.4892,
          51.4855,
          51.4855,
          51.4855,
          51.49223,
          51.49223,
          51.49223,
          51.49223,
          51.49223,
          51.49227,
          51.49227,
          51.49227,
          51.49227,
          51.49227,
          51.49227,
          51.48913,
          51.48913,
          51.48526,
          51.48526,
          51.48526,
          51.49356,
          51.49356,
          51.49356,
          51.49356,
          51.49356
         ],
         "legendgroup": "",
         "lon": [
          -3.15421,
          -3.15421,
          -3.1558,
          -3.1558,
          -3.1558,
          -3.1558,
          -3.16463,
          -3.16463,
          -3.16463,
          -3.16463,
          -3.15872,
          -3.15872,
          -3.15872,
          -3.15872,
          -3.15018,
          -3.15018,
          -3.15018,
          -3.15018,
          -3.14899,
          -3.14899,
          -3.16686,
          -3.16568,
          -3.16568,
          -3.16568,
          -3.16568,
          -3.17314,
          -3.15241,
          -3.15241,
          -3.15241,
          -3.15972,
          -3.16892,
          -3.16892,
          -3.14727,
          -3.14727,
          -3.14727,
          -3.14997,
          -3.14997,
          -3.14997,
          -3.14997,
          -3.14997,
          -3.14997,
          -3.16741,
          -3.16741,
          -3.16741,
          -3.15885,
          -3.15885,
          -3.17139,
          -3.17139,
          -3.17139,
          -3.17139,
          -3.1611,
          -3.1611,
          -3.16408,
          -3.16408,
          -3.16408,
          -3.16131,
          -3.16131,
          -3.16131,
          -3.16031,
          -3.16031,
          -3.16031,
          -3.16031,
          -3.16691,
          -3.16691,
          -3.17139,
          -3.17139,
          -3.16618,
          -3.16618,
          -3.16618,
          -3.15145,
          -3.15145,
          -3.15145,
          -3.15296,
          -3.15296,
          -3.15296,
          -3.15451,
          -3.15451,
          -3.15451,
          -3.15451,
          -3.15451,
          -3.15451,
          -3.15296,
          -3.15296,
          -3.15296,
          -3.16537,
          -3.16537,
          -3.16537,
          -3.16537,
          -3.16853,
          -3.16853,
          -3.16853,
          -3.15402,
          -3.15402,
          -3.15402,
          -3.15402,
          -3.15543,
          -3.15543,
          -3.15543,
          -3.15543,
          -3.15543,
          -3.16768,
          -3.16768,
          -3.16768,
          -3.16768,
          -3.16768,
          -3.15889,
          -3.15889,
          -3.16489,
          -3.16489,
          -3.16489,
          -3.1558,
          -3.1558,
          -3.1539,
          -3.16508,
          -3.16508,
          -3.16508,
          -3.15046,
          -3.15046,
          -3.15046,
          -3.16519,
          -3.16519,
          -3.16853,
          -3.15657,
          -3.15657,
          -3.16921,
          -3.16921,
          -3.16463,
          -3.16463,
          -3.16463,
          -3.16463,
          -3.16537,
          -3.16537,
          -3.16537,
          -3.1567,
          -3.1567,
          -3.15019,
          -3.15019,
          -3.15019,
          -3.15019,
          -3.16686,
          -3.16686,
          -3.17213,
          -3.17213,
          -3.17213,
          -3.17213,
          -3.17213,
          -3.15722,
          -3.15722,
          -3.16484,
          -3.16484,
          -3.16484,
          -3.16484,
          -3.16484,
          -3.16484,
          -3.16484,
          -3.16484,
          -3.17281,
          -3.17281,
          -3.17281,
          -3.17281,
          -3.16212,
          -3.16212,
          -3.16212,
          -3.16212,
          -3.16212,
          -3.16212,
          -3.16212,
          -3.16333,
          -3.15221,
          -3.15221,
          -3.14727,
          -3.14727,
          -3.14727,
          -3.14727,
          -3.16489,
          -3.16489,
          -3.16489,
          -3.16489,
          -3.16489,
          -3.15872,
          -3.15872,
          -3.15872,
          -3.17031,
          -3.17031,
          -3.17031,
          -3.17031,
          -3.17031,
          -3.16419,
          -3.16419,
          -3.16419,
          -3.16419,
          -3.16419,
          -3.16419,
          -3.16337,
          -3.16337,
          -3.16337,
          -3.15554,
          -3.15554,
          -3.16817,
          -3.16817,
          -3.16817,
          -3.16817,
          -3.16817,
          -3.15451,
          -3.15451,
          -3.15451,
          -3.16817,
          -3.16817,
          -3.16817,
          -3.15378,
          -3.15378,
          -3.15378,
          -3.16489,
          -3.16463,
          -3.16463,
          -3.16463,
          -3.16463,
          -3.16537,
          -3.16537,
          -3.16537,
          -3.16537,
          -3.16537,
          -3.15221,
          -3.15221,
          -3.15221,
          -3.15221,
          -3.16489,
          -3.15202,
          -3.15202,
          -3.15202,
          -3.15202,
          -3.15202,
          -3.17279,
          -3.16618,
          -3.16618,
          -3.16618,
          -3.16618,
          -3.15145,
          -3.15145,
          -3.15145,
          -3.16776,
          -3.16776,
          -3.17314,
          -3.17314,
          -3.17314,
          -3.15968,
          -3.15968,
          -3.15598,
          -3.15598,
          -3.15598,
          -3.15598,
          -3.15296,
          -3.15296,
          -3.15296,
          -3.15334,
          -3.15334,
          -3.15761,
          -3.15761,
          -3.16717,
          -3.16717,
          -3.16717,
          -3.16717,
          -3.16717,
          -3.16717,
          -3.15018,
          -3.15018,
          -3.15543,
          -3.16156,
          -3.16156,
          -3.16156,
          -3.17004,
          -3.17004,
          -3.17004,
          -3.17004,
          -3.15139,
          -3.15139,
          -3.15139,
          -3.15139,
          -3.1558,
          -3.1558,
          -3.1558,
          -3.1558,
          -3.15221,
          -3.16346,
          -3.16346,
          -3.16346,
          -3.16346,
          -3.16346,
          -3.16346,
          -3.16668,
          -3.16668,
          -3.16668,
          -3.17236,
          -3.17236,
          -3.17236,
          -3.1722,
          -3.1722,
          -3.1722,
          -3.1722,
          -3.15015,
          -3.15015,
          -3.16333,
          -3.16333,
          -3.15731,
          -3.15731,
          -3.15731,
          -3.15731,
          -3.15731,
          -3.16761,
          -3.16761,
          -3.16761,
          -3.16761,
          -3.16761,
          -3.16761,
          -3.17139,
          -3.17139,
          -3.17139,
          -3.16634,
          -3.16634,
          -3.16634,
          -3.16634,
          -3.1558,
          -3.1558,
          -3.1558,
          -3.1558,
          -3.1558,
          -3.14638,
          -3.17378,
          -3.17378,
          -3.17378,
          -3.17378,
          -3.15956,
          -3.15956,
          -3.15956,
          -3.16511,
          -3.16511,
          -3.16511,
          -3.16511,
          -3.16204,
          -3.16204,
          -3.16204,
          -3.16204,
          -3.16204,
          -3.16204,
          -3.15671,
          -3.15671,
          -3.15671,
          -3.15671,
          -3.14727,
          -3.14727,
          -3.14727,
          -3.16568,
          -3.16368,
          -3.16368,
          -3.161,
          -3.161,
          -3.1558,
          -3.17441,
          -3.17441,
          -3.17441,
          -3.17441,
          -3.17441,
          -3.15402,
          -3.16091,
          -3.16091,
          -3.17031,
          -3.17031,
          -3.17031,
          -3.15539,
          -3.15539,
          -3.15972,
          -3.15972,
          -3.15972,
          -3.16384,
          -3.16384,
          -3.16384,
          -3.17395,
          -3.17395,
          -3.17395,
          -3.17395,
          -3.17113,
          -3.16623,
          -3.16623,
          -3.16623,
          -3.16408,
          -3.16408,
          -3.15872,
          -3.15872,
          -3.16821,
          -3.17304,
          -3.17304,
          -3.17304,
          -3.17304,
          -3.15765,
          -3.15537,
          -3.15537,
          -3.17047,
          -3.16761,
          -3.16761,
          -3.16761,
          -3.16761,
          -3.16761,
          -3.16537,
          -3.16537,
          -3.16537,
          -3.16537,
          -3.16537,
          -3.16623,
          -3.16623,
          -3.16623,
          -3.16623,
          -3.16623,
          -3.16537,
          -3.16537,
          -3.15687,
          -3.15687,
          -3.15687,
          -3.15687,
          -3.17107,
          -3.17107,
          -3.17107,
          -3.17107,
          -3.15879,
          -3.15879,
          -3.15018,
          -3.15018,
          -3.16052,
          -3.16052,
          -3.16052,
          -3.16052,
          -3.16052,
          -3.17314,
          -3.17314,
          -3.17314,
          -3.17314,
          -3.17314,
          -3.15162,
          -3.15162,
          -3.17378,
          -3.17378,
          -3.14833,
          -3.14833,
          -3.14833,
          -3.16368,
          -3.16368,
          -3.16368,
          -3.14954,
          -3.14954,
          -3.14954,
          -3.14954,
          -3.15573,
          -3.15573,
          -3.16623,
          -3.16623,
          -3.15721,
          -3.15721,
          -3.15721,
          -3.15721,
          -3.15721,
          -3.15721,
          -3.15721,
          -3.1602,
          -3.1602,
          -3.17348,
          -3.17348,
          -3.17348,
          -3.16618,
          -3.16618,
          -3.16618,
          -3.1602,
          -3.1602,
          -3.15296,
          -3.17326,
          -3.16346,
          -3.16346,
          -3.16346,
          -3.16346,
          -3.14817,
          -3.14817,
          -3.14817,
          -3.14817,
          -3.15451,
          -3.15451,
          -3.15019,
          -3.17053,
          -3.15019,
          -3.15019,
          -3.15019,
          -3.15019,
          -3.16486,
          -3.16486,
          -3.16047,
          -3.16047,
          -3.17193,
          -3.17193,
          -3.17193,
          -3.17193,
          -3.17193,
          -3.16324,
          -3.16294,
          -3.16294,
          -3.16294,
          -3.15934,
          -3.16508,
          -3.16508,
          -3.16508,
          -3.16508,
          -3.16508,
          -3.15872,
          -3.15872,
          -3.15872,
          -3.16029,
          -3.16029,
          -3.15554,
          -3.15554,
          -3.17193,
          -3.15539,
          -3.15018,
          -3.15018,
          -3.15018,
          -3.15887,
          -3.15887,
          -3.1558,
          -3.1558,
          -3.1558,
          -3.1558,
          -3.1558,
          -3.16511,
          -3.15704,
          -3.15704,
          -3.14848,
          -3.14848,
          -3.14848,
          -3.16408,
          -3.16408,
          -3.17337,
          -3.17337,
          -3.17337,
          -3.17337,
          -3.16817,
          -3.16817,
          -3.16817,
          -3.16674,
          -3.16674,
          -3.16674,
          -3.16674,
          -3.15887,
          -3.15887,
          -3.15887,
          -3.15183,
          -3.15183,
          -3.15183,
          -3.15183,
          -3.15183,
          -3.16537,
          -3.16537,
          -3.16537,
          -3.16537,
          -3.16537,
          -3.16537,
          -3.15579,
          -3.15579,
          -3.15598,
          -3.15598,
          -3.15598,
          -3.1716,
          -3.1716,
          -3.1716,
          -3.1716,
          -3.1716
         ],
         "marker": {
          "color": [
           437000,
           330000,
           240000,
           207000,
           151000,
           80500,
           250000,
           172500,
           125000,
           68000,
           252000,
           167500,
           79950,
           45500,
           230000,
           131000,
           127000,
           57300,
           233750,
           206000,
           250000,
           245000,
           191250,
           151000,
           138500,
           237000,
           220000,
           135000,
           101000,
           238000,
           275000,
           81000,
           202000,
           155000,
           41950,
           240000,
           220000,
           150000,
           139500,
           108000,
           62000,
           245000,
           193000,
           124500,
           430000,
           249999,
           340000,
           218000,
           181000,
           75000,
           422000,
           169000,
           261000,
           169500,
           44000,
           680000,
           462000,
           307500,
           290000,
           180000,
           198000,
           50500,
           495000,
           335000,
           310000,
           239950,
           229500,
           165000,
           65000,
           270000,
           69500,
           20000,
           357500,
           235000,
           207500,
           483000,
           396000,
           370000,
           249999,
           199950,
           72500,
           325000,
           224950,
           239250,
           257500,
           215000,
           156000,
           104950,
           422250,
           93000,
           76000,
           245000,
           196000,
           145000,
           40000,
           450000,
           340550,
           262000,
           240000,
           116000,
           270000,
           182500,
           164950,
           134000,
           46500,
           535000,
           126000,
           253000,
           210000,
           167000,
           190000,
           128000,
           190000,
           273000,
           178000,
           85500,
           205000,
           51500,
           58000,
           263000,
           175000,
           336000,
           234000,
           175000,
           289750,
           168000,
           241000,
           135000,
           85950,
           60000,
           245000,
           166500,
           124000,
           505000,
           87950,
           225000,
           165000,
           133500,
           56000,
           260000,
           169950,
           277500,
           220000,
           205000,
           172000,
           164250,
           660000,
           553000,
           127000,
           120000,
           110000,
           98000,
           85000,
           80000,
           34500,
           26000,
           225000,
           185000,
           155000,
           43000,
           175000,
           142000,
           118500,
           102500,
           95000,
           67000,
           29000,
           210000,
           190000,
           25704,
           190000,
           155000,
           120000,
           44950,
           256000,
           210000,
           160000,
           134000,
           142000,
           507500,
           365000,
           105000,
           192500,
           149950,
           66000,
           49000,
           43950,
           265000,
           210000,
           150000,
           159950,
           77000,
           43950,
           490000,
           350000,
           100000,
           425000,
           270000,
           318000,
           270000,
           180000,
           135000,
           66000,
           530250,
           298000,
           208000,
           285000,
           235000,
           155000,
           547000,
           226500,
           240000,
           215000,
           270000,
           255050,
           217000,
           59995,
           236000,
           165000,
           157000,
           152000,
           87000,
           212500,
           198000,
           140000,
           130000,
           224000,
           250000,
           215000,
           130000,
           48500,
           41500,
           335000,
           248000,
           149950,
           114600,
           71000,
           240000,
           189000,
           52000,
           220000,
           60000,
           335000,
           247500,
           153000,
           132000,
           105000,
           482500,
           390000,
           307500,
           175000,
           365000,
           239950,
           225000,
           477500,
           405000,
           195000,
           39950,
           264000,
           250000,
           197000,
           140000,
           48050,
           41000,
           190000,
           125000,
           475000,
           185000,
           180000,
           196950,
           310000,
           225000,
           92000,
           70500,
           240000,
           165000,
           87500,
           75000,
           197000,
           172000,
           133000,
           87500,
           210000,
           245000,
           152000,
           148500,
           85000,
           59950,
           41000,
           260000,
           175000,
           103000,
           320000,
           240000,
           174950,
           220000,
           136500,
           126579,
           50000,
           232000,
           38000,
           245000,
           58500,
           230000,
           169950,
           79950,
           69950,
           49250,
           250000,
           185000,
           139000,
           144000,
           116000,
           85500,
           250000,
           195500,
           155000,
           232000,
           175200,
           140500,
           46950,
           212000,
           150000,
           124000,
           114000,
           45500,
           230000,
           270000,
           227500,
           157000,
           80000,
           480000,
           365000,
           72000,
           245000,
           150000,
           73000,
           50000,
           575000,
           428450,
           340000,
           312000,
           282000,
           190000,
           230000,
           138000,
           122500,
           39500,
           160000,
           130000,
           100000,
           225000,
           140000,
           85500,
           505000,
           120000,
           225000,
           138000,
           101000,
           65000,
           33500,
           30000,
           205000,
           490000,
           238000,
           295000,
           200000,
           151000,
           485000,
           250000,
           245000,
           146000,
           105000,
           215000,
           146000,
           100000,
           245000,
           179950,
           145000,
           60000,
           194000,
           269000,
           155000,
           49950,
           290000,
           154950,
           450000,
           225000,
           236500,
           502000,
           430000,
           405000,
           135000,
           178000,
           265000,
           220000,
           210000,
           250000,
           238344,
           163100,
           140000,
           60000,
           235000,
           152000,
           145250,
           70000,
           55500,
           275000,
           156500,
           147000,
           99000,
           49950,
           234500,
           46750,
           220000,
           135500,
           135000,
           137000,
           300550,
           222000,
           85000,
           58750,
           467000,
           98000,
           193000,
           40000,
           220000,
           130000,
           136242,
           135000,
           51500,
           349000,
           290000,
           250000,
           160000,
           60000,
           280000,
           64000,
           267000,
           182500,
           210000,
           141000,
           29000,
           247000,
           227500,
           110000,
           250000,
           200000,
           120000,
           37500,
           690000,
           310000,
           225000,
           196775,
           306250,
           220000,
           180000,
           132500,
           72000,
           57950,
           57950,
           205000,
           185000,
           500000,
           448000,
           95000,
           220000,
           135000,
           56950,
           175000,
           42000,
           340000,
           243500,
           245000,
           173000,
           179000,
           100000,
           193000,
           147000,
           110000,
           38750,
           525000,
           345000,
           190000,
           295000,
           235000,
           160000,
           110000,
           120000,
           286000,
           145000,
           505000,
           285000,
           312000,
           160000,
           155000,
           150000,
           77950,
           172250,
           303000,
           62000,
           33000,
           435000,
           268000,
           205000,
           167500,
           143000,
           69000,
           465000,
           260000,
           84000,
           140000,
           128000,
           675000,
           105550,
           280000,
           360000,
           345000,
           300500,
           280000,
           242000,
           149950,
           192500,
           137000,
           93000,
           53000,
           37000,
           267500,
           510000,
           400000,
           200000,
           165000,
           133000,
           249000,
           139580,
           175000,
           147000,
           117000,
           56875,
           220000,
           109664,
           85000,
           240000,
           184000,
           183950,
           90000,
           236000,
           137500,
           47500,
           418863,
           315000,
           250000,
           182500,
           89950,
           234950,
           203000,
           149000,
           159950,
           86000,
           42500,
           145500,
           97000,
           231000,
           205000,
           115000,
           217000,
           206000,
           159950,
           118000,
           55000
          ],
          "coloraxis": "coloraxis",
          "size": [
           437000,
           330000,
           240000,
           207000,
           151000,
           80500,
           250000,
           172500,
           125000,
           68000,
           252000,
           167500,
           79950,
           45500,
           230000,
           131000,
           127000,
           57300,
           233750,
           206000,
           250000,
           245000,
           191250,
           151000,
           138500,
           237000,
           220000,
           135000,
           101000,
           238000,
           275000,
           81000,
           202000,
           155000,
           41950,
           240000,
           220000,
           150000,
           139500,
           108000,
           62000,
           245000,
           193000,
           124500,
           430000,
           249999,
           340000,
           218000,
           181000,
           75000,
           422000,
           169000,
           261000,
           169500,
           44000,
           680000,
           462000,
           307500,
           290000,
           180000,
           198000,
           50500,
           495000,
           335000,
           310000,
           239950,
           229500,
           165000,
           65000,
           270000,
           69500,
           20000,
           357500,
           235000,
           207500,
           483000,
           396000,
           370000,
           249999,
           199950,
           72500,
           325000,
           224950,
           239250,
           257500,
           215000,
           156000,
           104950,
           422250,
           93000,
           76000,
           245000,
           196000,
           145000,
           40000,
           450000,
           340550,
           262000,
           240000,
           116000,
           270000,
           182500,
           164950,
           134000,
           46500,
           535000,
           126000,
           253000,
           210000,
           167000,
           190000,
           128000,
           190000,
           273000,
           178000,
           85500,
           205000,
           51500,
           58000,
           263000,
           175000,
           336000,
           234000,
           175000,
           289750,
           168000,
           241000,
           135000,
           85950,
           60000,
           245000,
           166500,
           124000,
           505000,
           87950,
           225000,
           165000,
           133500,
           56000,
           260000,
           169950,
           277500,
           220000,
           205000,
           172000,
           164250,
           660000,
           553000,
           127000,
           120000,
           110000,
           98000,
           85000,
           80000,
           34500,
           26000,
           225000,
           185000,
           155000,
           43000,
           175000,
           142000,
           118500,
           102500,
           95000,
           67000,
           29000,
           210000,
           190000,
           25704,
           190000,
           155000,
           120000,
           44950,
           256000,
           210000,
           160000,
           134000,
           142000,
           507500,
           365000,
           105000,
           192500,
           149950,
           66000,
           49000,
           43950,
           265000,
           210000,
           150000,
           159950,
           77000,
           43950,
           490000,
           350000,
           100000,
           425000,
           270000,
           318000,
           270000,
           180000,
           135000,
           66000,
           530250,
           298000,
           208000,
           285000,
           235000,
           155000,
           547000,
           226500,
           240000,
           215000,
           270000,
           255050,
           217000,
           59995,
           236000,
           165000,
           157000,
           152000,
           87000,
           212500,
           198000,
           140000,
           130000,
           224000,
           250000,
           215000,
           130000,
           48500,
           41500,
           335000,
           248000,
           149950,
           114600,
           71000,
           240000,
           189000,
           52000,
           220000,
           60000,
           335000,
           247500,
           153000,
           132000,
           105000,
           482500,
           390000,
           307500,
           175000,
           365000,
           239950,
           225000,
           477500,
           405000,
           195000,
           39950,
           264000,
           250000,
           197000,
           140000,
           48050,
           41000,
           190000,
           125000,
           475000,
           185000,
           180000,
           196950,
           310000,
           225000,
           92000,
           70500,
           240000,
           165000,
           87500,
           75000,
           197000,
           172000,
           133000,
           87500,
           210000,
           245000,
           152000,
           148500,
           85000,
           59950,
           41000,
           260000,
           175000,
           103000,
           320000,
           240000,
           174950,
           220000,
           136500,
           126579,
           50000,
           232000,
           38000,
           245000,
           58500,
           230000,
           169950,
           79950,
           69950,
           49250,
           250000,
           185000,
           139000,
           144000,
           116000,
           85500,
           250000,
           195500,
           155000,
           232000,
           175200,
           140500,
           46950,
           212000,
           150000,
           124000,
           114000,
           45500,
           230000,
           270000,
           227500,
           157000,
           80000,
           480000,
           365000,
           72000,
           245000,
           150000,
           73000,
           50000,
           575000,
           428450,
           340000,
           312000,
           282000,
           190000,
           230000,
           138000,
           122500,
           39500,
           160000,
           130000,
           100000,
           225000,
           140000,
           85500,
           505000,
           120000,
           225000,
           138000,
           101000,
           65000,
           33500,
           30000,
           205000,
           490000,
           238000,
           295000,
           200000,
           151000,
           485000,
           250000,
           245000,
           146000,
           105000,
           215000,
           146000,
           100000,
           245000,
           179950,
           145000,
           60000,
           194000,
           269000,
           155000,
           49950,
           290000,
           154950,
           450000,
           225000,
           236500,
           502000,
           430000,
           405000,
           135000,
           178000,
           265000,
           220000,
           210000,
           250000,
           238344,
           163100,
           140000,
           60000,
           235000,
           152000,
           145250,
           70000,
           55500,
           275000,
           156500,
           147000,
           99000,
           49950,
           234500,
           46750,
           220000,
           135500,
           135000,
           137000,
           300550,
           222000,
           85000,
           58750,
           467000,
           98000,
           193000,
           40000,
           220000,
           130000,
           136242,
           135000,
           51500,
           349000,
           290000,
           250000,
           160000,
           60000,
           280000,
           64000,
           267000,
           182500,
           210000,
           141000,
           29000,
           247000,
           227500,
           110000,
           250000,
           200000,
           120000,
           37500,
           690000,
           310000,
           225000,
           196775,
           306250,
           220000,
           180000,
           132500,
           72000,
           57950,
           57950,
           205000,
           185000,
           500000,
           448000,
           95000,
           220000,
           135000,
           56950,
           175000,
           42000,
           340000,
           243500,
           245000,
           173000,
           179000,
           100000,
           193000,
           147000,
           110000,
           38750,
           525000,
           345000,
           190000,
           295000,
           235000,
           160000,
           110000,
           120000,
           286000,
           145000,
           505000,
           285000,
           312000,
           160000,
           155000,
           150000,
           77950,
           172250,
           303000,
           62000,
           33000,
           435000,
           268000,
           205000,
           167500,
           143000,
           69000,
           465000,
           260000,
           84000,
           140000,
           128000,
           675000,
           105550,
           280000,
           360000,
           345000,
           300500,
           280000,
           242000,
           149950,
           192500,
           137000,
           93000,
           53000,
           37000,
           267500,
           510000,
           400000,
           200000,
           165000,
           133000,
           249000,
           139580,
           175000,
           147000,
           117000,
           56875,
           220000,
           109664,
           85000,
           240000,
           184000,
           183950,
           90000,
           236000,
           137500,
           47500,
           418863,
           315000,
           250000,
           182500,
           89950,
           234950,
           203000,
           149000,
           159950,
           86000,
           42500,
           145500,
           97000,
           231000,
           205000,
           115000,
           217000,
           206000,
           159950,
           118000,
           55000
          ],
          "sizemode": "area",
          "sizeref": 1725
         },
         "mode": "markers",
         "name": "",
         "showlegend": false,
         "subplot": "mapbox",
         "type": "scattermapbox"
        }
       ],
       "layout": {
        "coloraxis": {
         "colorbar": {
          "title": {
           "text": "display_price"
          }
         },
         "colorscale": [
          [
           0,
           "yellow"
          ],
          [
           1,
           "red"
          ]
         ]
        },
        "height": 600,
        "legend": {
         "itemsizing": "constant",
         "tracegroupgap": 0
        },
        "mapbox": {
         "center": {
          "lat": 51.49145142105264,
          "lon": -3.161580614035088
         },
         "domain": {
          "x": [
           0,
           1
          ],
          "y": [
           0,
           1
          ]
         },
         "style": "open-street-map",
         "zoom": 13
        },
        "margin": {
         "b": 0,
         "l": 0,
         "r": 0,
         "t": 0
        },
        "template": {
         "data": {
          "bar": [
           {
            "error_x": {
             "color": "#2a3f5f"
            },
            "error_y": {
             "color": "#2a3f5f"
            },
            "marker": {
             "line": {
              "color": "#E5ECF6",
              "width": 0.5
             },
             "pattern": {
              "fillmode": "overlay",
              "size": 10,
              "solidity": 0.2
             }
            },
            "type": "bar"
           }
          ],
          "barpolar": [
           {
            "marker": {
             "line": {
              "color": "#E5ECF6",
              "width": 0.5
             },
             "pattern": {
              "fillmode": "overlay",
              "size": 10,
              "solidity": 0.2
             }
            },
            "type": "barpolar"
           }
          ],
          "carpet": [
           {
            "aaxis": {
             "endlinecolor": "#2a3f5f",
             "gridcolor": "white",
             "linecolor": "white",
             "minorgridcolor": "white",
             "startlinecolor": "#2a3f5f"
            },
            "baxis": {
             "endlinecolor": "#2a3f5f",
             "gridcolor": "white",
             "linecolor": "white",
             "minorgridcolor": "white",
             "startlinecolor": "#2a3f5f"
            },
            "type": "carpet"
           }
          ],
          "choropleth": [
           {
            "colorbar": {
             "outlinewidth": 0,
             "ticks": ""
            },
            "type": "choropleth"
           }
          ],
          "contour": [
           {
            "colorbar": {
             "outlinewidth": 0,
             "ticks": ""
            },
            "colorscale": [
             [
              0,
              "#0d0887"
             ],
             [
              0.1111111111111111,
              "#46039f"
             ],
             [
              0.2222222222222222,
              "#7201a8"
             ],
             [
              0.3333333333333333,
              "#9c179e"
             ],
             [
              0.4444444444444444,
              "#bd3786"
             ],
             [
              0.5555555555555556,
              "#d8576b"
             ],
             [
              0.6666666666666666,
              "#ed7953"
             ],
             [
              0.7777777777777778,
              "#fb9f3a"
             ],
             [
              0.8888888888888888,
              "#fdca26"
             ],
             [
              1,
              "#f0f921"
             ]
            ],
            "type": "contour"
           }
          ],
          "contourcarpet": [
           {
            "colorbar": {
             "outlinewidth": 0,
             "ticks": ""
            },
            "type": "contourcarpet"
           }
          ],
          "heatmap": [
           {
            "colorbar": {
             "outlinewidth": 0,
             "ticks": ""
            },
            "colorscale": [
             [
              0,
              "#0d0887"
             ],
             [
              0.1111111111111111,
              "#46039f"
             ],
             [
              0.2222222222222222,
              "#7201a8"
             ],
             [
              0.3333333333333333,
              "#9c179e"
             ],
             [
              0.4444444444444444,
              "#bd3786"
             ],
             [
              0.5555555555555556,
              "#d8576b"
             ],
             [
              0.6666666666666666,
              "#ed7953"
             ],
             [
              0.7777777777777778,
              "#fb9f3a"
             ],
             [
              0.8888888888888888,
              "#fdca26"
             ],
             [
              1,
              "#f0f921"
             ]
            ],
            "type": "heatmap"
           }
          ],
          "heatmapgl": [
           {
            "colorbar": {
             "outlinewidth": 0,
             "ticks": ""
            },
            "colorscale": [
             [
              0,
              "#0d0887"
             ],
             [
              0.1111111111111111,
              "#46039f"
             ],
             [
              0.2222222222222222,
              "#7201a8"
             ],
             [
              0.3333333333333333,
              "#9c179e"
             ],
             [
              0.4444444444444444,
              "#bd3786"
             ],
             [
              0.5555555555555556,
              "#d8576b"
             ],
             [
              0.6666666666666666,
              "#ed7953"
             ],
             [
              0.7777777777777778,
              "#fb9f3a"
             ],
             [
              0.8888888888888888,
              "#fdca26"
             ],
             [
              1,
              "#f0f921"
             ]
            ],
            "type": "heatmapgl"
           }
          ],
          "histogram": [
           {
            "marker": {
             "pattern": {
              "fillmode": "overlay",
              "size": 10,
              "solidity": 0.2
             }
            },
            "type": "histogram"
           }
          ],
          "histogram2d": [
           {
            "colorbar": {
             "outlinewidth": 0,
             "ticks": ""
            },
            "colorscale": [
             [
              0,
              "#0d0887"
             ],
             [
              0.1111111111111111,
              "#46039f"
             ],
             [
              0.2222222222222222,
              "#7201a8"
             ],
             [
              0.3333333333333333,
              "#9c179e"
             ],
             [
              0.4444444444444444,
              "#bd3786"
             ],
             [
              0.5555555555555556,
              "#d8576b"
             ],
             [
              0.6666666666666666,
              "#ed7953"
             ],
             [
              0.7777777777777778,
              "#fb9f3a"
             ],
             [
              0.8888888888888888,
              "#fdca26"
             ],
             [
              1,
              "#f0f921"
             ]
            ],
            "type": "histogram2d"
           }
          ],
          "histogram2dcontour": [
           {
            "colorbar": {
             "outlinewidth": 0,
             "ticks": ""
            },
            "colorscale": [
             [
              0,
              "#0d0887"
             ],
             [
              0.1111111111111111,
              "#46039f"
             ],
             [
              0.2222222222222222,
              "#7201a8"
             ],
             [
              0.3333333333333333,
              "#9c179e"
             ],
             [
              0.4444444444444444,
              "#bd3786"
             ],
             [
              0.5555555555555556,
              "#d8576b"
             ],
             [
              0.6666666666666666,
              "#ed7953"
             ],
             [
              0.7777777777777778,
              "#fb9f3a"
             ],
             [
              0.8888888888888888,
              "#fdca26"
             ],
             [
              1,
              "#f0f921"
             ]
            ],
            "type": "histogram2dcontour"
           }
          ],
          "mesh3d": [
           {
            "colorbar": {
             "outlinewidth": 0,
             "ticks": ""
            },
            "type": "mesh3d"
           }
          ],
          "parcoords": [
           {
            "line": {
             "colorbar": {
              "outlinewidth": 0,
              "ticks": ""
             }
            },
            "type": "parcoords"
           }
          ],
          "pie": [
           {
            "automargin": true,
            "type": "pie"
           }
          ],
          "scatter": [
           {
            "fillpattern": {
             "fillmode": "overlay",
             "size": 10,
             "solidity": 0.2
            },
            "type": "scatter"
           }
          ],
          "scatter3d": [
           {
            "line": {
             "colorbar": {
              "outlinewidth": 0,
              "ticks": ""
             }
            },
            "marker": {
             "colorbar": {
              "outlinewidth": 0,
              "ticks": ""
             }
            },
            "type": "scatter3d"
           }
          ],
          "scattercarpet": [
           {
            "marker": {
             "colorbar": {
              "outlinewidth": 0,
              "ticks": ""
             }
            },
            "type": "scattercarpet"
           }
          ],
          "scattergeo": [
           {
            "marker": {
             "colorbar": {
              "outlinewidth": 0,
              "ticks": ""
             }
            },
            "type": "scattergeo"
           }
          ],
          "scattergl": [
           {
            "marker": {
             "colorbar": {
              "outlinewidth": 0,
              "ticks": ""
             }
            },
            "type": "scattergl"
           }
          ],
          "scattermapbox": [
           {
            "marker": {
             "colorbar": {
              "outlinewidth": 0,
              "ticks": ""
             }
            },
            "type": "scattermapbox"
           }
          ],
          "scatterpolar": [
           {
            "marker": {
             "colorbar": {
              "outlinewidth": 0,
              "ticks": ""
             }
            },
            "type": "scatterpolar"
           }
          ],
          "scatterpolargl": [
           {
            "marker": {
             "colorbar": {
              "outlinewidth": 0,
              "ticks": ""
             }
            },
            "type": "scatterpolargl"
           }
          ],
          "scatterternary": [
           {
            "marker": {
             "colorbar": {
              "outlinewidth": 0,
              "ticks": ""
             }
            },
            "type": "scatterternary"
           }
          ],
          "surface": [
           {
            "colorbar": {
             "outlinewidth": 0,
             "ticks": ""
            },
            "colorscale": [
             [
              0,
              "#0d0887"
             ],
             [
              0.1111111111111111,
              "#46039f"
             ],
             [
              0.2222222222222222,
              "#7201a8"
             ],
             [
              0.3333333333333333,
              "#9c179e"
             ],
             [
              0.4444444444444444,
              "#bd3786"
             ],
             [
              0.5555555555555556,
              "#d8576b"
             ],
             [
              0.6666666666666666,
              "#ed7953"
             ],
             [
              0.7777777777777778,
              "#fb9f3a"
             ],
             [
              0.8888888888888888,
              "#fdca26"
             ],
             [
              1,
              "#f0f921"
             ]
            ],
            "type": "surface"
           }
          ],
          "table": [
           {
            "cells": {
             "fill": {
              "color": "#EBF0F8"
             },
             "line": {
              "color": "white"
             }
            },
            "header": {
             "fill": {
              "color": "#C8D4E3"
             },
             "line": {
              "color": "white"
             }
            },
            "type": "table"
           }
          ]
         },
         "layout": {
          "annotationdefaults": {
           "arrowcolor": "#2a3f5f",
           "arrowhead": 0,
           "arrowwidth": 1
          },
          "autotypenumbers": "strict",
          "coloraxis": {
           "colorbar": {
            "outlinewidth": 0,
            "ticks": ""
           }
          },
          "colorscale": {
           "diverging": [
            [
             0,
             "#8e0152"
            ],
            [
             0.1,
             "#c51b7d"
            ],
            [
             0.2,
             "#de77ae"
            ],
            [
             0.3,
             "#f1b6da"
            ],
            [
             0.4,
             "#fde0ef"
            ],
            [
             0.5,
             "#f7f7f7"
            ],
            [
             0.6,
             "#e6f5d0"
            ],
            [
             0.7,
             "#b8e186"
            ],
            [
             0.8,
             "#7fbc41"
            ],
            [
             0.9,
             "#4d9221"
            ],
            [
             1,
             "#276419"
            ]
           ],
           "sequential": [
            [
             0,
             "#0d0887"
            ],
            [
             0.1111111111111111,
             "#46039f"
            ],
            [
             0.2222222222222222,
             "#7201a8"
            ],
            [
             0.3333333333333333,
             "#9c179e"
            ],
            [
             0.4444444444444444,
             "#bd3786"
            ],
            [
             0.5555555555555556,
             "#d8576b"
            ],
            [
             0.6666666666666666,
             "#ed7953"
            ],
            [
             0.7777777777777778,
             "#fb9f3a"
            ],
            [
             0.8888888888888888,
             "#fdca26"
            ],
            [
             1,
             "#f0f921"
            ]
           ],
           "sequentialminus": [
            [
             0,
             "#0d0887"
            ],
            [
             0.1111111111111111,
             "#46039f"
            ],
            [
             0.2222222222222222,
             "#7201a8"
            ],
            [
             0.3333333333333333,
             "#9c179e"
            ],
            [
             0.4444444444444444,
             "#bd3786"
            ],
            [
             0.5555555555555556,
             "#d8576b"
            ],
            [
             0.6666666666666666,
             "#ed7953"
            ],
            [
             0.7777777777777778,
             "#fb9f3a"
            ],
            [
             0.8888888888888888,
             "#fdca26"
            ],
            [
             1,
             "#f0f921"
            ]
           ]
          },
          "colorway": [
           "#636efa",
           "#EF553B",
           "#00cc96",
           "#ab63fa",
           "#FFA15A",
           "#19d3f3",
           "#FF6692",
           "#B6E880",
           "#FF97FF",
           "#FECB52"
          ],
          "font": {
           "color": "#2a3f5f"
          },
          "geo": {
           "bgcolor": "white",
           "lakecolor": "white",
           "landcolor": "#E5ECF6",
           "showlakes": true,
           "showland": true,
           "subunitcolor": "white"
          },
          "hoverlabel": {
           "align": "left"
          },
          "hovermode": "closest",
          "mapbox": {
           "style": "light"
          },
          "paper_bgcolor": "white",
          "plot_bgcolor": "#E5ECF6",
          "polar": {
           "angularaxis": {
            "gridcolor": "white",
            "linecolor": "white",
            "ticks": ""
           },
           "bgcolor": "#E5ECF6",
           "radialaxis": {
            "gridcolor": "white",
            "linecolor": "white",
            "ticks": ""
           }
          },
          "scene": {
           "xaxis": {
            "backgroundcolor": "#E5ECF6",
            "gridcolor": "white",
            "gridwidth": 2,
            "linecolor": "white",
            "showbackground": true,
            "ticks": "",
            "zerolinecolor": "white"
           },
           "yaxis": {
            "backgroundcolor": "#E5ECF6",
            "gridcolor": "white",
            "gridwidth": 2,
            "linecolor": "white",
            "showbackground": true,
            "ticks": "",
            "zerolinecolor": "white"
           },
           "zaxis": {
            "backgroundcolor": "#E5ECF6",
            "gridcolor": "white",
            "gridwidth": 2,
            "linecolor": "white",
            "showbackground": true,
            "ticks": "",
            "zerolinecolor": "white"
           }
          },
          "shapedefaults": {
           "line": {
            "color": "#2a3f5f"
           }
          },
          "ternary": {
           "aaxis": {
            "gridcolor": "white",
            "linecolor": "white",
            "ticks": ""
           },
           "baxis": {
            "gridcolor": "white",
            "linecolor": "white",
            "ticks": ""
           },
           "bgcolor": "#E5ECF6",
           "caxis": {
            "gridcolor": "white",
            "linecolor": "white",
            "ticks": ""
           }
          },
          "title": {
           "x": 0.05
          },
          "xaxis": {
           "automargin": true,
           "gridcolor": "white",
           "linecolor": "white",
           "ticks": "",
           "title": {
            "standoff": 15
           },
           "zerolinecolor": "white",
           "zerolinewidth": 2
          },
          "yaxis": {
           "automargin": true,
           "gridcolor": "white",
           "linecolor": "white",
           "ticks": "",
           "title": {
            "standoff": 15
           },
           "zerolinecolor": "white",
           "zerolinewidth": 2
          }
         }
        },
        "width": 1200
       }
      }
     },
     "metadata": {},
     "output_type": "display_data"
    }
   ],
   "source": [
    "color_scale = [(0, 'yellow'), (1,'red')]\n",
    "\n",
    "fig = px.scatter_mapbox(df, \n",
    "                        lat=\"latitude\", \n",
    "                        lon=\"longitude\", \n",
    "                        hover_name=\"address\", \n",
    "                        hover_data=[\"address\", \"display_price\"],\n",
    "                        color=\"display_price\",\n",
    "                        color_continuous_scale=color_scale,\n",
    "                        size=\"display_price\",\n",
    "                        zoom=13, \n",
    "                        height=600,\n",
    "                        width=1200)\n",
    "\n",
    "fig.update_layout(mapbox_style=\"open-street-map\")\n",
    "fig.update_layout(margin={\"r\":0,\"t\":0,\"l\":0,\"b\":0})\n",
    "fig.show()"
   ]
  }
 ],
 "metadata": {
  "kernelspec": {
   "display_name": "DataSci",
   "language": "python",
   "name": "python3"
  },
  "language_info": {
   "codemirror_mode": {
    "name": "ipython",
    "version": 3
   },
   "file_extension": ".py",
   "mimetype": "text/x-python",
   "name": "python",
   "nbconvert_exporter": "python",
   "pygments_lexer": "ipython3",
   "version": "3.11.11"
  }
 },
 "nbformat": 4,
 "nbformat_minor": 2
}
