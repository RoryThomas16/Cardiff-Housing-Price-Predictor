{
 "cells": [
  {
   "cell_type": "code",
   "execution_count": 6,
   "metadata": {},
   "outputs": [],
   "source": [
    "import requests\n",
    "from bs4 import BeautifulSoup\n",
    "import json\n",
    "import pandas as pd\n",
    "import csv\n",
    "from datetime import datetime"
   ]
  },
  {
   "cell_type": "code",
   "execution_count": 3,
   "metadata": {},
   "outputs": [
    {
     "name": "stdout",
     "output_type": "stream",
     "text": [
      "Number of Entries 'as read from RightMove: 735\n",
      "Number of Entries 'as read from RightMove: 570\n"
     ]
    }
   ],
   "source": [
    "num_pages = 10 # Number of pages to look at - change as needed\n",
    "urls = []\n",
    "df = pd.DataFrame()\n",
    "\n",
    "for idx in range(1,num_pages+1):  # Create list of urls corresponding pages we are going to scrape.\n",
    "    url = \"https://www.rightmove.co.uk/house-prices/roath.html?pageNumber=\" + str(idx)\n",
    "    urls.append(url)\n",
    "    \n",
    "for url in urls:\n",
    "    r = requests.get(url)\n",
    "    # Parsing the HTML\n",
    "    soup = BeautifulSoup(r.text, 'html.parser')\n",
    "    content = json.loads(soup.find_all(\"script\")[-4].text.split(\" = \")[1].split(\";\")[0])  # Convert content of page to a dictionary\n",
    "    content.pop('isAuthenticated', None)\n",
    "    content.pop('metadata', None)\n",
    "    content = content['searchResult']['properties'] # Access only the property data\n",
    "\n",
    "    data = []\n",
    "    for property in content:\n",
    "        address = property.get('address')\n",
    "        propertyType = property.get('propertyType')\n",
    "        bedrooms = property.get('bedrooms')\n",
    "        bathrooms = property.get('bathrooms')\n",
    "        location = property.get('location')\n",
    "        latitude = location['lat']\n",
    "        longitude = location['lng']\n",
    "        transactions = property.get('transactions')\n",
    "        for transaction in transactions:\n",
    "            display_price = transaction['displayPrice']\n",
    "            date_sold = transaction['dateSold']\n",
    "            tenure = transaction['tenure']\n",
    "            new_build = transaction['newBuild']\n",
    "            data.append({\n",
    "                'address': address,\n",
    "                'propertyType': propertyType,\n",
    "                'bedrooms': bedrooms,\n",
    "                'bathrooms': bathrooms,\n",
    "                'latitude': latitude,\n",
    "                'longitude': longitude,\n",
    "                'display_price': display_price,\n",
    "                'date_sold': date_sold\n",
    "                \n",
    "            })\n",
    "    new_df = pd.DataFrame(data)\n",
    "    df = pd.concat([df,new_df])\n",
    "\n",
    "# Some basic clean up\n",
    "print(f\"Number of Entries 'as read from RightMove: {len(df)}\")\n",
    "df.dropna(axis=0, inplace=True)# drop empty rows with missing data, it's not worth trying to preserve these.\n",
    "print(f\"Number of Entries 'as read from RightMove: {len(df)}\")\n",
    "df.reset_index(inplace=True)\n",
    "df.drop(columns='index', inplace=True)"
   ]
  },
  {
   "cell_type": "code",
   "execution_count": 7,
   "metadata": {},
   "outputs": [
    {
     "name": "stdout",
     "output_type": "stream",
     "text": [
      "DataFrame written to rightmove_housing_data_20250330_232910.csv\n"
     ]
    }
   ],
   "source": [
    "# Generate a timestamp\n",
    "timestamp = datetime.now().strftime('%Y%m%d_%H%M%S')\n",
    "\n",
    "# Write the DataFrame to a CSV file with the timestamp in the file name\n",
    "output_file = f\"rightmove_housing_data_{timestamp}.csv\"\n",
    "df.to_csv(output_file, index=False)\n",
    "\n",
    "print(f\"DataFrame written to {output_file}\")"
   ]
  }
 ],
 "metadata": {
  "kernelspec": {
   "display_name": "DataSci",
   "language": "python",
   "name": "python3"
  },
  "language_info": {
   "codemirror_mode": {
    "name": "ipython",
    "version": 3
   },
   "file_extension": ".py",
   "mimetype": "text/x-python",
   "name": "python",
   "nbconvert_exporter": "python",
   "pygments_lexer": "ipython3",
   "version": "3.11.11"
  }
 },
 "nbformat": 4,
 "nbformat_minor": 2
}
