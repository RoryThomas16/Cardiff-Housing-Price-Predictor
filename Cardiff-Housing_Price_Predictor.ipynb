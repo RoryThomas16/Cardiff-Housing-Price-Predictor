{
 "cells": [
  {
   "cell_type": "markdown",
   "metadata": {},
   "source": [
    "So the motivation for this was, to be entirely honest, kind of selfish. I'm buying a house and I want to see how much my house *could* increase by in 'N' years. Basically, a kind of experiment. It is also handy for me to practice time-series analysis, bit of data science stuff, and some ML practice.\n",
    "\n",
    "The project is broken down into a few parts:\n",
    "1. the web-scraping, to gather data from the [RightMove.co.uk](https://www.rightmove.co.uk) website. For historical data, and then use this to try and predict how the houses will increase.\n",
    "2. the analysis of the data, see if there any trends I can see from this analysis as is.\n",
    "3. the forecasting, can I do some basic forecasting with the data alone, or can I set up an ML model to predict it for me.\n",
    "\n",
    "# 1. Importing and Pre-Processing\n",
    "## 1.1 Imports and Load Data"
   ]
  },
  {
   "cell_type": "code",
   "execution_count": 1,
   "metadata": {},
   "outputs": [],
   "source": [
    "random_code = 42  # Random code to use and replicate results for each run.\n",
    "\n",
    "# Data Imports\n",
    "import pandas as pd\n",
    "import matplotlib.pyplot as plt\n",
    "import seaborn as sns\n",
    "\n",
    "# Geography imports\n",
    "import plotly.express as px\n",
    "\n",
    "\n",
    "# Personal Import\n",
    "from Dataset_Snapshot import RightMoveScraper"
   ]
  },
  {
   "cell_type": "markdown",
   "metadata": {},
   "source": [
    "Run the next function as needed if you need a new CSV to work with. This will generate a CSV for every run of this code, this is not ideal. Plus also as a basic tool, a separate python file will suffice."
   ]
  },
  {
   "cell_type": "code",
   "execution_count": 2,
   "metadata": {},
   "outputs": [
    {
     "data": {
      "text/plain": [
       "'# Create an instance of the scraper\\nscraper = RightMoveScraper(num_pages=10)  # Adjust the number of pages as needed\\nscraper.run()'"
      ]
     },
     "execution_count": 2,
     "metadata": {},
     "output_type": "execute_result"
    }
   ],
   "source": [
    "\"\"\"# Create an instance of the scraper\n",
    "scraper = RightMoveScraper(num_pages=10)  # Adjust the number of pages as needed\n",
    "scraper.run()\"\"\""
   ]
  },
  {
   "cell_type": "code",
   "execution_count": 3,
   "metadata": {},
   "outputs": [],
   "source": [
    "data_file = 'rightmove_housing_data_20250330_233719.csv'\n",
    "df = pd.read_csv(data_file)"
   ]
  },
  {
   "cell_type": "markdown",
   "metadata": {},
   "source": [
    "## 1.2 Data Clean Up\n",
    "Tidy up the data now as it's not really in a state to use just yet."
   ]
  },
  {
   "cell_type": "code",
   "execution_count": 4,
   "metadata": {},
   "outputs": [
    {
     "name": "stdout",
     "output_type": "stream",
     "text": [
      "address           object\n",
      "propertyType      object\n",
      "bedrooms         float64\n",
      "bathrooms        float64\n",
      "latitude         float64\n",
      "longitude        float64\n",
      "display_price     object\n",
      "date_sold         object\n",
      "dtype: object\n"
     ]
    }
   ],
   "source": [
    "print(df.dtypes)  # Look at the types of each column"
   ]
  },
  {
   "cell_type": "code",
   "execution_count": 5,
   "metadata": {},
   "outputs": [
    {
     "name": "stdout",
     "output_type": "stream",
     "text": [
      "address           object\n",
      "propertyType      object\n",
      "bedrooms         float64\n",
      "bathrooms        float64\n",
      "latitude         float64\n",
      "longitude        float64\n",
      "display_price    float64\n",
      "date_sold          int32\n",
      "dtype: object\n"
     ]
    }
   ],
   "source": [
    "# Display Price Changes - change from 'str' to 'float'\n",
    "df['display_price'] = df['display_price'].replace('[^0-9.]', '', regex=True).astype(float) \n",
    "# Date Sold changes - change from DD-MM-YYYY 'str' to YYYYMMDD 'int'\n",
    "df['date_sold'] = pd.to_datetime(df['date_sold'], errors='coerce')\n",
    "df['date_sold'] = df['date_sold'].dt.strftime('%Y%m%d').astype(int)\n",
    "print(df.dtypes)  # Look "
   ]
  },
  {
   "cell_type": "code",
   "execution_count": 6,
   "metadata": {},
   "outputs": [
    {
     "data": {
      "application/vnd.microsoft.datawrangler.viewer.v0+json": {
       "columns": [
        {
         "name": "index",
         "rawType": "int64",
         "type": "integer"
        },
        {
         "name": "address",
         "rawType": "object",
         "type": "string"
        },
        {
         "name": "propertyType",
         "rawType": "object",
         "type": "string"
        },
        {
         "name": "bedrooms",
         "rawType": "float64",
         "type": "float"
        },
        {
         "name": "bathrooms",
         "rawType": "float64",
         "type": "float"
        },
        {
         "name": "latitude",
         "rawType": "float64",
         "type": "float"
        },
        {
         "name": "longitude",
         "rawType": "float64",
         "type": "float"
        },
        {
         "name": "display_price",
         "rawType": "float64",
         "type": "float"
        },
        {
         "name": "date_sold",
         "rawType": "int32",
         "type": "integer"
        }
       ],
       "conversionMethod": "pd.DataFrame",
       "ref": "870d6321-17fa-48c3-b7d5-5bd4f1856403",
       "rows": [
        [
         "0",
         "9, Stallcourt Avenue, Cardiff CF23 5AL",
         "TERRACED",
         "3.0",
         "2.0",
         "51.49517",
         "-3.15421",
         "437000.0",
         "20250110"
        ],
        [
         "1",
         "9, Stallcourt Avenue, Cardiff CF23 5AL",
         "TERRACED",
         "3.0",
         "2.0",
         "51.49517",
         "-3.15421",
         "330000.0",
         "20190418"
        ],
        [
         "2",
         "87, Clifton Street, Cardiff CF24 1LT",
         "TERRACED",
         "3.0",
         "1.0",
         "51.48374",
         "-3.1558",
         "240000.0",
         "20250110"
        ],
        [
         "3",
         "87, Clifton Street, Cardiff CF24 1LT",
         "TERRACED",
         "3.0",
         "1.0",
         "51.48374",
         "-3.1558",
         "207000.0",
         "20221028"
        ],
        [
         "4",
         "87, Clifton Street, Cardiff CF24 1LT",
         "TERRACED",
         "3.0",
         "1.0",
         "51.48374",
         "-3.1558",
         "151000.0",
         "20150723"
        ]
       ],
       "shape": {
        "columns": 8,
        "rows": 5
       }
      },
      "text/html": [
       "<div>\n",
       "<style scoped>\n",
       "    .dataframe tbody tr th:only-of-type {\n",
       "        vertical-align: middle;\n",
       "    }\n",
       "\n",
       "    .dataframe tbody tr th {\n",
       "        vertical-align: top;\n",
       "    }\n",
       "\n",
       "    .dataframe thead th {\n",
       "        text-align: right;\n",
       "    }\n",
       "</style>\n",
       "<table border=\"1\" class=\"dataframe\">\n",
       "  <thead>\n",
       "    <tr style=\"text-align: right;\">\n",
       "      <th></th>\n",
       "      <th>address</th>\n",
       "      <th>propertyType</th>\n",
       "      <th>bedrooms</th>\n",
       "      <th>bathrooms</th>\n",
       "      <th>latitude</th>\n",
       "      <th>longitude</th>\n",
       "      <th>display_price</th>\n",
       "      <th>date_sold</th>\n",
       "    </tr>\n",
       "  </thead>\n",
       "  <tbody>\n",
       "    <tr>\n",
       "      <th>0</th>\n",
       "      <td>9, Stallcourt Avenue, Cardiff CF23 5AL</td>\n",
       "      <td>TERRACED</td>\n",
       "      <td>3.0</td>\n",
       "      <td>2.0</td>\n",
       "      <td>51.49517</td>\n",
       "      <td>-3.15421</td>\n",
       "      <td>437000.0</td>\n",
       "      <td>20250110</td>\n",
       "    </tr>\n",
       "    <tr>\n",
       "      <th>1</th>\n",
       "      <td>9, Stallcourt Avenue, Cardiff CF23 5AL</td>\n",
       "      <td>TERRACED</td>\n",
       "      <td>3.0</td>\n",
       "      <td>2.0</td>\n",
       "      <td>51.49517</td>\n",
       "      <td>-3.15421</td>\n",
       "      <td>330000.0</td>\n",
       "      <td>20190418</td>\n",
       "    </tr>\n",
       "    <tr>\n",
       "      <th>2</th>\n",
       "      <td>87, Clifton Street, Cardiff CF24 1LT</td>\n",
       "      <td>TERRACED</td>\n",
       "      <td>3.0</td>\n",
       "      <td>1.0</td>\n",
       "      <td>51.48374</td>\n",
       "      <td>-3.15580</td>\n",
       "      <td>240000.0</td>\n",
       "      <td>20250110</td>\n",
       "    </tr>\n",
       "    <tr>\n",
       "      <th>3</th>\n",
       "      <td>87, Clifton Street, Cardiff CF24 1LT</td>\n",
       "      <td>TERRACED</td>\n",
       "      <td>3.0</td>\n",
       "      <td>1.0</td>\n",
       "      <td>51.48374</td>\n",
       "      <td>-3.15580</td>\n",
       "      <td>207000.0</td>\n",
       "      <td>20221028</td>\n",
       "    </tr>\n",
       "    <tr>\n",
       "      <th>4</th>\n",
       "      <td>87, Clifton Street, Cardiff CF24 1LT</td>\n",
       "      <td>TERRACED</td>\n",
       "      <td>3.0</td>\n",
       "      <td>1.0</td>\n",
       "      <td>51.48374</td>\n",
       "      <td>-3.15580</td>\n",
       "      <td>151000.0</td>\n",
       "      <td>20150723</td>\n",
       "    </tr>\n",
       "  </tbody>\n",
       "</table>\n",
       "</div>"
      ],
      "text/plain": [
       "                                  address propertyType  bedrooms  bathrooms  \\\n",
       "0  9, Stallcourt Avenue, Cardiff CF23 5AL     TERRACED       3.0        2.0   \n",
       "1  9, Stallcourt Avenue, Cardiff CF23 5AL     TERRACED       3.0        2.0   \n",
       "2    87, Clifton Street, Cardiff CF24 1LT     TERRACED       3.0        1.0   \n",
       "3    87, Clifton Street, Cardiff CF24 1LT     TERRACED       3.0        1.0   \n",
       "4    87, Clifton Street, Cardiff CF24 1LT     TERRACED       3.0        1.0   \n",
       "\n",
       "   latitude  longitude  display_price  date_sold  \n",
       "0  51.49517   -3.15421       437000.0   20250110  \n",
       "1  51.49517   -3.15421       330000.0   20190418  \n",
       "2  51.48374   -3.15580       240000.0   20250110  \n",
       "3  51.48374   -3.15580       207000.0   20221028  \n",
       "4  51.48374   -3.15580       151000.0   20150723  "
      ]
     },
     "execution_count": 6,
     "metadata": {},
     "output_type": "execute_result"
    }
   ],
   "source": [
    "df.head()"
   ]
  },
  {
   "cell_type": "markdown",
   "metadata": {},
   "source": [
    "## 1.3 Basic Analysis"
   ]
  },
  {
   "cell_type": "code",
   "execution_count": 7,
   "metadata": {},
   "outputs": [
    {
     "data": {
      "application/vnd.plotly.v1+json": {
       "config": {
        "plotlyServerURL": "https://plot.ly"
       },
       "data": [
        {
         "customdata": [
          [
           "9, Stallcourt Avenue, Cardiff CF23 5AL",
           437000,
           20250110
          ],
          [
           "9, Stallcourt Avenue, Cardiff CF23 5AL",
           330000,
           20190418
          ],
          [
           "87, Clifton Street, Cardiff CF24 1LT",
           240000,
           20250110
          ],
          [
           "87, Clifton Street, Cardiff CF24 1LT",
           207000,
           20221028
          ],
          [
           "87, Clifton Street, Cardiff CF24 1LT",
           151000,
           20150723
          ],
          [
           "87, Clifton Street, Cardiff CF24 1LT",
           80500,
           20141013
          ],
          [
           "101, Arran Street, Roath, Cardiff CF24 3HU",
           250000,
           20250106
          ],
          [
           "101, Arran Street, Roath, Cardiff CF24 3HU",
           172500,
           20140325
          ],
          [
           "101, Arran Street, Roath, Cardiff CF24 3HU",
           125000,
           20030414
          ],
          [
           "101, Arran Street, Roath, Cardiff CF24 3HU",
           68000,
           19990528
          ],
          [
           "34b, Amesbury Road, Cardiff CF23 5DW",
           252000,
           20241220
          ],
          [
           "34b, Amesbury Road, Cardiff CF23 5DW",
           167500,
           20061127
          ],
          [
           "34b, Amesbury Road, Cardiff CF23 5DW",
           79950,
           20011109
          ],
          [
           "34b, Amesbury Road, Cardiff CF23 5DW",
           45500,
           19961206
          ],
          [
           "10, Blanche Street, Cardiff CF24 1QT",
           230000,
           20241220
          ],
          [
           "10, Blanche Street, Cardiff CF24 1QT",
           131000,
           20090904
          ],
          [
           "10, Blanche Street, Cardiff CF24 1QT",
           127000,
           20050615
          ],
          [
           "10, Blanche Street, Cardiff CF24 1QT",
           57300,
           20010723
          ],
          [
           "307, Railway Street, Cardiff CF24 2NE",
           233750,
           20241217
          ],
          [
           "307, Railway Street, Cardiff CF24 2NE",
           206000,
           20211216
          ],
          [
           "48, Talworth Street, Roath, Cardiff CF24 3EH",
           250000,
           20241217
          ],
          [
           "140, Glenroy Street, Cardiff CF24 3LA",
           245000,
           20241212
          ],
          [
           "140, Glenroy Street, Cardiff CF24 3LA",
           191250,
           20170630
          ],
          [
           "140, Glenroy Street, Cardiff CF24 3LA",
           151000,
           20130731
          ],
          [
           "140, Glenroy Street, Cardiff CF24 3LA",
           138500,
           20040301
          ],
          [
           "195, Inverness Place, Cardiff CF24 4RY",
           237000,
           20241212
          ],
          [
           "100, Pearl Street, Cardiff CF24 1PL",
           220000,
           20241211
          ],
          [
           "100, Pearl Street, Cardiff CF24 1PL",
           135000,
           20100525
          ],
          [
           "100, Pearl Street, Cardiff CF24 1PL",
           101000,
           20091104
          ],
          [
           "44, Metal Street, Cardiff CF24 0JZ",
           238000,
           20241211
          ],
          [
           "60, Alfred Street, Cardiff CF24 4TZ",
           275000,
           20241209
          ],
          [
           "60, Alfred Street, Cardiff CF24 4TZ",
           81000,
           19991222
          ],
          [
           "28, Horwood Close, Cardiff CF24 2LW",
           202000,
           20241209
          ],
          [
           "28, Horwood Close, Cardiff CF24 2LW",
           155000,
           20180817
          ],
          [
           "28, Horwood Close, Cardiff CF24 2LW",
           41950,
           19980821
          ],
          [
           "158, Railway Street, Cardiff CF24 2NH",
           240000,
           20241206
          ],
          [
           "158, Railway Street, Cardiff CF24 2NH",
           220000,
           20211222
          ],
          [
           "158, Railway Street, Cardiff CF24 2NH",
           150000,
           20141110
          ],
          [
           "158, Railway Street, Cardiff CF24 2NH",
           139500,
           20070102
          ],
          [
           "158, Railway Street, Cardiff CF24 2NH",
           108000,
           20030718
          ],
          [
           "158, Railway Street, Cardiff CF24 2NH",
           62000,
           20001106
          ],
          [
           "65, Strathnairn Street, Cardiff CF24 3JP",
           245000,
           20241206
          ],
          [
           "65, Strathnairn Street, Cardiff CF24 3JP",
           193000,
           20200131
          ],
          [
           "65, Strathnairn Street, Cardiff CF24 3JP",
           124500,
           20120802
          ],
          [
           "8, Princes Avenue, Cardiff CF24 3SN",
           430000,
           20241129
          ],
          [
           "8, Princes Avenue, Cardiff CF24 3SN",
           249999,
           20141002
          ],
          [
           "167, Arabella Street, Cardiff CF24 4SY",
           340000,
           20241129
          ],
          [
           "167, Arabella Street, Cardiff CF24 4SY",
           218000,
           20150812
          ],
          [
           "167, Arabella Street, Cardiff CF24 4SY",
           181000,
           20060714
          ],
          [
           "167, Arabella Street, Cardiff CF24 4SY",
           75000,
           19981218
          ],
          [
           "37, Partridge Road, Cardiff CF24 3QW",
           422000,
           20241129
          ],
          [
           "37, Partridge Road, Cardiff CF24 3QW",
           169000,
           20020624
          ],
          [
           "56, Cottrell Road, Roath, Cardiff CF24 3EZ",
           261000,
           20241127
          ],
          [
           "56, Cottrell Road, Roath, Cardiff CF24 3EZ",
           169500,
           20160128
          ],
          [
           "56, Cottrell Road, Roath, Cardiff CF24 3EZ",
           44000,
           19960628
          ],
          [
           "21, Westville Road, Cardiff CF23 5DE",
           680000,
           20241127
          ],
          [
           "21, Westville Road, Cardiff CF23 5DE",
           462000,
           20200228
          ],
          [
           "21, Westville Road, Cardiff CF23 5DE",
           307500,
           20170310
          ],
          [
           "30, Piercefield Place, Cardiff CF24 0LD",
           290000,
           20241126
          ],
          [
           "30, Piercefield Place, Cardiff CF24 0LD",
           180000,
           20160115
          ],
          [
           "30, Piercefield Place, Cardiff CF24 0LD",
           198000,
           20090911
          ],
          [
           "30, Piercefield Place, Cardiff CF24 0LD",
           50500,
           19970228
          ],
          [
           "28, Lochaber Street, Cardiff CF24 3LS",
           495000,
           20241125
          ],
          [
           "28, Lochaber Street, Cardiff CF24 3LS",
           335000,
           20170929
          ],
          [
           "124, Arabella Street, Cardiff CF24 4SY",
           310000,
           20241125
          ],
          [
           "124, Arabella Street, Cardiff CF24 4SY",
           239950,
           20170413
          ],
          [
           "49, Cyfarthfa Street, Cardiff CF24 3HF",
           229500,
           20241122
          ],
          [
           "49, Cyfarthfa Street, Cardiff CF24 3HF",
           165000,
           20160629
          ],
          [
           "49, Cyfarthfa Street, Cardiff CF24 3HF",
           65000,
           20010727
          ],
          [
           "31, Bradley Street, Cardiff CF24 1PE",
           270000,
           20241120
          ],
          [
           "31, Bradley Street, Cardiff CF24 1PE",
           69500,
           20020228
          ],
          [
           "31, Bradley Street, Cardiff CF24 1PE",
           20000,
           19951101
          ],
          [
           "45, Doe Close, Penylan, Cardiff CF23 9HJ",
           357500,
           20241114
          ],
          [
           "45, Doe Close, Penylan, Cardiff CF23 9HJ",
           235000,
           20150515
          ],
          [
           "45, Doe Close, Penylan, Cardiff CF23 9HJ",
           207500,
           20031217
          ],
          [
           "16, Deri Road, Cardiff CF23 5AJ",
           483000,
           20241111
          ],
          [
           "16, Deri Road, Cardiff CF23 5AJ",
           396000,
           20200821
          ],
          [
           "16, Deri Road, Cardiff CF23 5AJ",
           370000,
           20171025
          ],
          [
           "16, Deri Road, Cardiff CF23 5AJ",
           249999,
           20050622
          ],
          [
           "16, Deri Road, Cardiff CF23 5AJ",
           199950,
           20030207
          ],
          [
           "16, Deri Road, Cardiff CF23 5AJ",
           72500,
           19951124
          ],
          [
           "42, Doe Close, Penylan, Cardiff CF23 9HJ",
           325000,
           20241108
          ],
          [
           "42, Doe Close, Penylan, Cardiff CF23 9HJ",
           224950,
           20140905
          ],
          [
           "42, Doe Close, Penylan, Cardiff CF23 9HJ",
           239250,
           20040826
          ],
          [
           "104, Keppoch Street, Cardiff CF24 3JU",
           257500,
           20241104
          ],
          [
           "104, Keppoch Street, Cardiff CF24 3JU",
           215000,
           20210903
          ],
          [
           "104, Keppoch Street, Cardiff CF24 3JU",
           156000,
           20120316
          ],
          [
           "104, Keppoch Street, Cardiff CF24 3JU",
           104950,
           20020607
          ],
          [
           "6, Pen Y Wain Place, Cardiff CF24 4GA",
           422250,
           20241104
          ],
          [
           "6, Pen Y Wain Place, Cardiff CF24 4GA",
           93000,
           19990201
          ],
          [
           "6, Pen Y Wain Place, Cardiff CF24 4GA",
           76000,
           19970221
          ],
          [
           "13, Cecil Street, Roath, Cardiff CF24 1NU",
           245000,
           20241104
          ],
          [
           "13, Cecil Street, Roath, Cardiff CF24 1NU",
           196000,
           20181102
          ],
          [
           "13, Cecil Street, Roath, Cardiff CF24 1NU",
           145000,
           20130524
          ],
          [
           "13, Cecil Street, Roath, Cardiff CF24 1NU",
           40000,
           19980227
          ],
          [
           "69, Melrose Avenue, Penylan, Cardiff CF23 9AT",
           450000,
           20241104
          ],
          [
           "69, Melrose Avenue, Penylan, Cardiff CF23 9AT",
           340550,
           20151030
          ],
          [
           "69, Melrose Avenue, Penylan, Cardiff CF23 9AT",
           262000,
           20080307
          ],
          [
           "69, Melrose Avenue, Penylan, Cardiff CF23 9AT",
           240000,
           20050520
          ],
          [
           "69, Melrose Avenue, Penylan, Cardiff CF23 9AT",
           116000,
           20010515
          ],
          [
           "96, Glenroy Street, Cardiff CF24 3JY",
           270000,
           20241104
          ],
          [
           "96, Glenroy Street, Cardiff CF24 3JY",
           182500,
           20160304
          ],
          [
           "96, Glenroy Street, Cardiff CF24 3JY",
           164950,
           20060810
          ],
          [
           "96, Glenroy Street, Cardiff CF24 3JY",
           134000,
           20031208
          ],
          [
           "96, Glenroy Street, Cardiff CF24 3JY",
           46500,
           19961010
          ],
          [
           "55, Princes Street, Cardiff CF24 3SL",
           535000,
           20241101
          ],
          [
           "55, Princes Street, Cardiff CF24 3SL",
           126000,
           19980423
          ],
          [
           "92, Cyfarthfa Street, Cardiff CF24 3HG",
           253000,
           20241101
          ],
          [
           "92, Cyfarthfa Street, Cardiff CF24 3HG",
           210000,
           20201209
          ],
          [
           "92, Cyfarthfa Street, Cardiff CF24 3HG",
           167000,
           20051102
          ],
          [
           "73, Clifton Street, Cardiff CF24 1LT",
           190000,
           20241031
          ],
          [
           "73, Clifton Street, Cardiff CF24 1LT",
           128000,
           20060623
          ],
          [
           "85, Broadway, Cardiff CF24 1QF",
           190000,
           20241030
          ],
          [
           "66, Upper Kincraig Street, Roath, Cardiff CF24 3HB",
           273000,
           20241030
          ],
          [
           "66, Upper Kincraig Street, Roath, Cardiff CF24 3HB",
           178000,
           20170922
          ],
          [
           "66, Upper Kincraig Street, Roath, Cardiff CF24 3HB",
           85500,
           20020524
          ],
          [
           "31, Arthur Street, Cardiff CF24 1QR",
           205000,
           20241025
          ],
          [
           "31, Arthur Street, Cardiff CF24 1QR",
           51500,
           20000204
          ],
          [
           "31, Arthur Street, Cardiff CF24 1QR",
           58000,
           19980325
          ],
          [
           "111, Treharris Street, Cardiff CF24 3HP",
           263000,
           20241025
          ],
          [
           "111, Treharris Street, Cardiff CF24 3HP",
           175000,
           20190711
          ],
          [
           "4, Pen Y Wain Place, Cardiff CF24 4GA",
           336000,
           20241025
          ],
          [
           "48, Ruby Street, Cardiff CF24 1LN",
           234000,
           20241025
          ],
          [
           "48, Ruby Street, Cardiff CF24 1LN",
           175000,
           20211210
          ],
          [
           "62, Diana Street, Cardiff CF24 4TW",
           289750,
           20241025
          ],
          [
           "62, Diana Street, Cardiff CF24 4TW",
           168000,
           20110729
          ],
          [
           "103, Arran Street, Roath, Cardiff CF24 3HU",
           241000,
           20241025
          ],
          [
           "103, Arran Street, Roath, Cardiff CF24 3HU",
           135000,
           20030411
          ],
          [
           "103, Arran Street, Roath, Cardiff CF24 3HU",
           85950,
           20010712
          ],
          [
           "103, Arran Street, Roath, Cardiff CF24 3HU",
           60000,
           20010226
          ],
          [
           "80, Keppoch Street, Cardiff CF24 3JU",
           245000,
           20241025
          ],
          [
           "80, Keppoch Street, Cardiff CF24 3JU",
           166500,
           20150119
          ],
          [
           "80, Keppoch Street, Cardiff CF24 3JU",
           124000,
           20030901
          ],
          [
           "227, Newport Road, Cardiff CF24 1RG",
           505000,
           20241024
          ],
          [
           "227, Newport Road, Cardiff CF24 1RG",
           87950,
           19960920
          ],
          [
           "9, Blanche Street, Cardiff CF24 1QS",
           225000,
           20241022
          ],
          [
           "9, Blanche Street, Cardiff CF24 1QS",
           165000,
           20180903
          ],
          [
           "9, Blanche Street, Cardiff CF24 1QS",
           133500,
           20041216
          ],
          [
           "9, Blanche Street, Cardiff CF24 1QS",
           56000,
           20010924
          ],
          [
           "50, Talworth Street, Roath, Cardiff CF24 3EH",
           260000,
           20241021
          ],
          [
           "50, Talworth Street, Roath, Cardiff CF24 3EH",
           169950,
           20040823
          ],
          [
           "181, Arabella Street, Cardiff CF24 4SZ",
           277500,
           20241018
          ],
          [
           "181, Arabella Street, Cardiff CF24 4SZ",
           220000,
           20200312
          ],
          [
           "181, Arabella Street, Cardiff CF24 4SZ",
           205000,
           20160408
          ],
          [
           "181, Arabella Street, Cardiff CF24 4SZ",
           172000,
           20140709
          ],
          [
           "181, Arabella Street, Cardiff CF24 4SZ",
           164250,
           20091113
          ],
          [
           "46, Sandringham Road, Cardiff CF23 5BL",
           660000,
           20241016
          ],
          [
           "46, Sandringham Road, Cardiff CF23 5BL",
           553000,
           20180709
          ],
          [
           "Flat 10, Windsor Court, Moira Terrace, Cardiff CF24 0DZ",
           127000,
           20241014
          ],
          [
           "Flat 10, Windsor Court, Moira Terrace, Cardiff CF24 0DZ",
           120000,
           20230428
          ],
          [
           "Flat 10, Windsor Court, Moira Terrace, Cardiff CF24 0DZ",
           110000,
           20190117
          ],
          [
           "Flat 10, Windsor Court, Moira Terrace, Cardiff CF24 0DZ",
           98000,
           20160715
          ],
          [
           "Flat 10, Windsor Court, Moira Terrace, Cardiff CF24 0DZ",
           85000,
           20140404
          ],
          [
           "Flat 10, Windsor Court, Moira Terrace, Cardiff CF24 0DZ",
           80000,
           20050427
          ],
          [
           "Flat 10, Windsor Court, Moira Terrace, Cardiff CF24 0DZ",
           34500,
           20011001
          ],
          [
           "Flat 10, Windsor Court, Moira Terrace, Cardiff CF24 0DZ",
           26000,
           19990427
          ],
          [
           "5, Dalcross Street, Cardiff CF24 4SD",
           225000,
           20241007
          ],
          [
           "5, Dalcross Street, Cardiff CF24 4SD",
           185000,
           20171219
          ],
          [
           "5, Dalcross Street, Cardiff CF24 4SD",
           155000,
           20170324
          ],
          [
           "5, Dalcross Street, Cardiff CF24 4SD",
           43000,
           19990401
          ],
          [
           "80b, Connaught Road, Cardiff CF24 3PX",
           175000,
           20241004
          ],
          [
           "80b, Connaught Road, Cardiff CF24 3PX",
           142000,
           20211008
          ],
          [
           "80b, Connaught Road, Cardiff CF24 3PX",
           118500,
           20191122
          ],
          [
           "80b, Connaught Road, Cardiff CF24 3PX",
           102500,
           20070420
          ],
          [
           "80b, Connaught Road, Cardiff CF24 3PX",
           95000,
           20051216
          ],
          [
           "80b, Connaught Road, Cardiff CF24 3PX",
           67000,
           20030718
          ],
          [
           "80b, Connaught Road, Cardiff CF24 3PX",
           29000,
           19981030
          ],
          [
           "14, Cottrell Road, Roath, Cardiff CF24 3EY",
           210000,
           20241004
          ],
          [
           "1, Tyler Street, Cardiff CF24 1QP",
           190000,
           20241004
          ],
          [
           "1, Tyler Street, Cardiff CF24 1QP",
           25704,
           20000114
          ],
          [
           "33, Horwood Close, Cardiff CF24 2LW",
           190000,
           20241001
          ],
          [
           "33, Horwood Close, Cardiff CF24 2LW",
           155000,
           20190103
          ],
          [
           "33, Horwood Close, Cardiff CF24 2LW",
           120000,
           20051021
          ],
          [
           "33, Horwood Close, Cardiff CF24 2LW",
           44950,
           19991004
          ],
          [
           "112, Cyfarthfa Street, Cardiff CF24 3HG",
           256000,
           20240923
          ],
          [
           "112, Cyfarthfa Street, Cardiff CF24 3HG",
           210000,
           20210716
          ],
          [
           "112, Cyfarthfa Street, Cardiff CF24 3HG",
           160000,
           20200622
          ],
          [
           "112, Cyfarthfa Street, Cardiff CF24 3HG",
           134000,
           20090331
          ],
          [
           "112, Cyfarthfa Street, Cardiff CF24 3HG",
           142000,
           20051221
          ],
          [
           "5, Amesbury Road, Cardiff CF23 5DW",
           507500,
           20240923
          ],
          [
           "5, Amesbury Road, Cardiff CF23 5DW",
           365000,
           20190620
          ],
          [
           "5, Amesbury Road, Cardiff CF23 5DW",
           105000,
           20000609
          ],
          [
           "40, Arabella Street, Cardiff CF24 4TA",
           192500,
           20240920
          ],
          [
           "40, Arabella Street, Cardiff CF24 4TA",
           149950,
           20070907
          ],
          [
           "40, Arabella Street, Cardiff CF24 4TA",
           66000,
           19991101
          ],
          [
           "40, Arabella Street, Cardiff CF24 4TA",
           49000,
           19970418
          ],
          [
           "40, Arabella Street, Cardiff CF24 4TA",
           43950,
           19960320
          ],
          [
           "167, Treharris Street, Cardiff CF24 3HQ",
           265000,
           20240920
          ],
          [
           "167, Treharris Street, Cardiff CF24 3HQ",
           210000,
           20180921
          ],
          [
           "167, Treharris Street, Cardiff CF24 3HQ",
           150000,
           20120817
          ],
          [
           "167, Treharris Street, Cardiff CF24 3HQ",
           159950,
           20061113
          ],
          [
           "167, Treharris Street, Cardiff CF24 3HQ",
           77000,
           20010427
          ],
          [
           "167, Treharris Street, Cardiff CF24 3HQ",
           43950,
           19971210
          ],
          [
           "12, Wordsworth Avenue, Cardiff CF24 3FQ",
           490000,
           20240920
          ],
          [
           "12, Wordsworth Avenue, Cardiff CF24 3FQ",
           350000,
           20060929
          ],
          [
           "12, Wordsworth Avenue, Cardiff CF24 3FQ",
           100000,
           19950531
          ],
          [
           "141, Kimberley Road, Cardiff CF23 5AF",
           425000,
           20240920
          ],
          [
           "141, Kimberley Road, Cardiff CF23 5AF",
           270000,
           20091014
          ],
          [
           "34, Alfred Street, Cardiff CF24 4TY",
           318000,
           20240918
          ],
          [
           "34, Alfred Street, Cardiff CF24 4TY",
           270000,
           20190510
          ],
          [
           "34, Alfred Street, Cardiff CF24 4TY",
           180000,
           20140704
          ],
          [
           "34, Alfred Street, Cardiff CF24 4TY",
           135000,
           20020920
          ],
          [
           "34, Alfred Street, Cardiff CF24 4TY",
           66000,
           19980904
          ],
          [
           "10, Deri Road, Cardiff CF23 5AJ",
           530250,
           20240918
          ],
          [
           "10, Deri Road, Cardiff CF23 5AJ",
           298000,
           20140704
          ],
          [
           "10, Deri Road, Cardiff CF23 5AJ",
           208000,
           20060223
          ],
          [
           "28, Alfred Street, Cardiff CF24 4TY",
           285000,
           20240917
          ],
          [
           "28, Alfred Street, Cardiff CF24 4TY",
           235000,
           20171016
          ],
          [
           "28, Alfred Street, Cardiff CF24 4TY",
           155000,
           20170413
          ],
          [
           "10, Stallcourt Avenue, Cardiff CF23 5AN",
           547000,
           20240916
          ],
          [
           "10, Stallcourt Avenue, Cardiff CF23 5AN",
           226500,
           20081010
          ],
          [
           "10, Stallcourt Avenue, Cardiff CF23 5AN",
           240000,
           20060530
          ],
          [
           "127, Cyfarthfa Street, Cardiff CF24 3HG",
           215000,
           20240913
          ],
          [
           "122, Arran Street, Roath, Cardiff CF24 3HU",
           270000,
           20240912
          ],
          [
           "122, Arran Street, Roath, Cardiff CF24 3HU",
           255050,
           20210924
          ],
          [
           "122, Arran Street, Roath, Cardiff CF24 3HU",
           217000,
           20180511
          ],
          [
           "122, Arran Street, Roath, Cardiff CF24 3HU",
           59995,
           19980622
          ],
          [
           "100, Keppoch Street, Cardiff CF24 3JU",
           236000,
           20240906
          ],
          [
           "100, Keppoch Street, Cardiff CF24 3JU",
           165000,
           20151218
          ],
          [
           "100, Keppoch Street, Cardiff CF24 3JU",
           157000,
           20091104
          ],
          [
           "100, Keppoch Street, Cardiff CF24 3JU",
           152000,
           20050218
          ],
          [
           "100, Keppoch Street, Cardiff CF24 3JU",
           87000,
           20030606
          ],
          [
           "12, Tyler Street, Cardiff CF24 1QP",
           212500,
           20240905
          ],
          [
           "12, Tyler Street, Cardiff CF24 1QP",
           198000,
           20220201
          ],
          [
           "12, Tyler Street, Cardiff CF24 1QP",
           140000,
           20180810
          ],
          [
           "12, Tyler Street, Cardiff CF24 1QP",
           130000,
           20061020
          ],
          [
           "106, Cyfarthfa Street, Cardiff CF24 3HG",
           224000,
           20240903
          ],
          [
           "18, Theodora Street, Cardiff CF24 1PD",
           250000,
           20240902
          ],
          [
           "18, Theodora Street, Cardiff CF24 1PD",
           215000,
           20191219
          ],
          [
           "18, Theodora Street, Cardiff CF24 1PD",
           130000,
           20070626
          ],
          [
           "18, Theodora Street, Cardiff CF24 1PD",
           48500,
           19980731
          ],
          [
           "18, Theodora Street, Cardiff CF24 1PD",
           41500,
           19961203
          ],
          [
           "78, Mackintosh Place, Cardiff CF24 4RR",
           335000,
           20240902
          ],
          [
           "57, Cyfarthfa Street, Cardiff CF24 3HF",
           248000,
           20240830
          ],
          [
           "57, Cyfarthfa Street, Cardiff CF24 3HF",
           149950,
           20140102
          ],
          [
           "57, Cyfarthfa Street, Cardiff CF24 3HF",
           114600,
           20030627
          ],
          [
           "57, Cyfarthfa Street, Cardiff CF24 3HF",
           71000,
           20010420
          ],
          [
           "16, Bradley Street, Cardiff CF24 1PE",
           240000,
           20240830
          ],
          [
           "16, Bradley Street, Cardiff CF24 1PE",
           189000,
           20180622
          ],
          [
           "16, Bradley Street, Cardiff CF24 1PE",
           52000,
           20000331
          ],
          [
           "22, Treharris Street, Cardiff CF24 3HN",
           220000,
           20240823
          ],
          [
           "22, Treharris Street, Cardiff CF24 3HN",
           60000,
           20010108
          ],
          [
           "215, Inverness Place, Cardiff CF24 4RY",
           335000,
           20240823
          ],
          [
           "215, Inverness Place, Cardiff CF24 4RY",
           247500,
           20181204
          ],
          [
           "215, Inverness Place, Cardiff CF24 4RY",
           153000,
           20110509
          ],
          [
           "12c, Oakfield Street, Cardiff CF24 3RD",
           132000,
           20240823
          ],
          [
           "12c, Oakfield Street, Cardiff CF24 3RD",
           105000,
           20200515
          ],
          [
           "70, Amesbury Road, Cardiff CF23 5DY",
           482500,
           20240823
          ],
          [
           "70, Amesbury Road, Cardiff CF23 5DY",
           390000,
           20180817
          ],
          [
           "70, Amesbury Road, Cardiff CF23 5DY",
           307500,
           20111118
          ],
          [
           "70, Amesbury Road, Cardiff CF23 5DY",
           175000,
           20091120
          ],
          [
           "17, Doe Close, Penylan, Cardiff CF23 9HJ",
           365000,
           20240823
          ],
          [
           "17, Doe Close, Penylan, Cardiff CF23 9HJ",
           239950,
           20070810
          ],
          [
           "17, Doe Close, Penylan, Cardiff CF23 9HJ",
           225000,
           20040930
          ],
          [
           "51, Waterloo Gardens, Cardiff CF23 5AB",
           477500,
           20240823
          ],
          [
           "51, Waterloo Gardens, Cardiff CF23 5AB",
           405000,
           20220720
          ],
          [
           "15, Sapphire Street, Cardiff CF24 1PY",
           195000,
           20240823
          ],
          [
           "15, Sapphire Street, Cardiff CF24 1PY",
           39950,
           19960712
          ],
          [
           "20, Angus Street, Cardiff CF24 3LY",
           264000,
           20240823
          ],
          [
           "20, Angus Street, Cardiff CF24 3LY",
           250000,
           20210813
          ],
          [
           "20, Angus Street, Cardiff CF24 3LY",
           197000,
           20171006
          ],
          [
           "20, Angus Street, Cardiff CF24 3LY",
           140000,
           20101216
          ],
          [
           "20, Angus Street, Cardiff CF24 3LY",
           48050,
           19950613
          ],
          [
           "20, Angus Street, Cardiff CF24 3LY",
           41000,
           19950315
          ],
          [
           "18, Blanche Street, Cardiff CF24 1QT",
           190000,
           20240820
          ],
          [
           "18, Blanche Street, Cardiff CF24 1QT",
           125000,
           20140729
          ],
          [
           "75, Melrose Avenue, Penylan, Cardiff CF23 9AT",
           475000,
           20240816
          ],
          [
           "Flat 51, Thomas Court, Marlborough Road, Cardiff CF23 5EZ",
           185000,
           20240816
          ],
          [
           "Flat 51, Thomas Court, Marlborough Road, Cardiff CF23 5EZ",
           180000,
           20151127
          ],
          [
           "Flat 51, Thomas Court, Marlborough Road, Cardiff CF23 5EZ",
           196950,
           20140328
          ],
          [
           "82, Donald Street, Cardiff CF24 4TR",
           310000,
           20240816
          ],
          [
           "82, Donald Street, Cardiff CF24 4TR",
           225000,
           20181130
          ],
          [
           "82, Donald Street, Cardiff CF24 4TR",
           92000,
           20010713
          ],
          [
           "82, Donald Street, Cardiff CF24 4TR",
           70500,
           19980911
          ],
          [
           "179, Railway Street, Cardiff CF24 2NB",
           240000,
           20240816
          ],
          [
           "179, Railway Street, Cardiff CF24 2NB",
           165000,
           20171031
          ],
          [
           "179, Railway Street, Cardiff CF24 2NB",
           87500,
           20021029
          ],
          [
           "179, Railway Street, Cardiff CF24 2NB",
           75000,
           20011217
          ],
          [
           "60, Clifton Street, Cardiff CF24 1LT",
           197000,
           20240814
          ],
          [
           "60, Clifton Street, Cardiff CF24 1LT",
           172000,
           20180720
          ],
          [
           "60, Clifton Street, Cardiff CF24 1LT",
           133000,
           20070730
          ],
          [
           "60, Clifton Street, Cardiff CF24 1LT",
           87500,
           20020731
          ],
          [
           "10, Tyler Street, Cardiff CF24 1QP",
           210000,
           20240812
          ],
          [
           "155, Cyfarthfa Street, Cardiff CF24 3HH",
           245000,
           20240812
          ],
          [
           "155, Cyfarthfa Street, Cardiff CF24 3HH",
           152000,
           20140728
          ],
          [
           "155, Cyfarthfa Street, Cardiff CF24 3HH",
           148500,
           20050919
          ],
          [
           "155, Cyfarthfa Street, Cardiff CF24 3HH",
           85000,
           20020419
          ],
          [
           "155, Cyfarthfa Street, Cardiff CF24 3HH",
           59950,
           20001020
          ],
          [
           "155, Cyfarthfa Street, Cardiff CF24 3HH",
           41000,
           19950309
          ],
          [
           "111, Glenroy Street, Cardiff CF24 3JZ",
           260000,
           20240812
          ],
          [
           "111, Glenroy Street, Cardiff CF24 3JZ",
           175000,
           20070706
          ],
          [
           "111, Glenroy Street, Cardiff CF24 3JZ",
           103000,
           20030702
          ],
          [
           "99, Inverness Place, Cardiff CF24 4RW",
           320000,
           20240809
          ],
          [
           "99, Inverness Place, Cardiff CF24 4RW",
           240000,
           20210625
          ],
          [
           "99, Inverness Place, Cardiff CF24 4RW",
           174950,
           20080911
          ],
          [
           "47, Moy Road, Roath, Cardiff CF24 4SH",
           220000,
           20240809
          ],
          [
           "47, Moy Road, Roath, Cardiff CF24 4SH",
           136500,
           20030106
          ],
          [
           "47, Moy Road, Roath, Cardiff CF24 4SH",
           126579,
           20020531
          ],
          [
           "47, Moy Road, Roath, Cardiff CF24 4SH",
           50000,
           19960829
          ],
          [
           "162, Pearl Street, Cardiff CF24 1RB",
           232000,
           20240809
          ],
          [
           "162, Pearl Street, Cardiff CF24 1RB",
           38000,
           19960517
          ],
          [
           "8, Cottrell Road, Roath, Cardiff CF24 3EY",
           245000,
           20240809
          ],
          [
           "8, Cottrell Road, Roath, Cardiff CF24 3EY",
           58500,
           19970704
          ],
          [
           "46, Sapphire Street, Cardiff CF24 1PZ",
           230000,
           20240809
          ],
          [
           "46, Sapphire Street, Cardiff CF24 1PZ",
           169950,
           20170405
          ],
          [
           "46, Sapphire Street, Cardiff CF24 1PZ",
           79950,
           20010501
          ],
          [
           "46, Sapphire Street, Cardiff CF24 1PZ",
           69950,
           20000414
          ],
          [
           "46, Sapphire Street, Cardiff CF24 1PZ",
           49250,
           19970321
          ],
          [
           "19, Cyfarthfa Street, Cardiff CF24 3HE",
           250000,
           20240806
          ],
          [
           "19, Cyfarthfa Street, Cardiff CF24 3HE",
           185000,
           20170407
          ],
          [
           "19, Cyfarthfa Street, Cardiff CF24 3HE",
           139000,
           20130614
          ],
          [
           "19, Cyfarthfa Street, Cardiff CF24 3HE",
           144000,
           20050718
          ],
          [
           "19, Cyfarthfa Street, Cardiff CF24 3HE",
           116000,
           20030414
          ],
          [
           "19, Cyfarthfa Street, Cardiff CF24 3HE",
           85500,
           20011217
          ],
          [
           "126, Arabella Street, Cardiff CF24 4SY",
           250000,
           20240805
          ],
          [
           "126, Arabella Street, Cardiff CF24 4SY",
           195500,
           20161111
          ],
          [
           "126, Arabella Street, Cardiff CF24 4SY",
           155000,
           20100921
          ],
          [
           "69, Treharris Street, Cardiff CF24 3HL",
           232000,
           20240802
          ],
          [
           "69, Treharris Street, Cardiff CF24 3HL",
           175200,
           20150612
          ],
          [
           "69, Treharris Street, Cardiff CF24 3HL",
           140500,
           20110909
          ],
          [
           "69, Treharris Street, Cardiff CF24 3HL",
           46950,
           19960806
          ],
          [
           "66, Clifton Street, Cardiff CF24 1LT",
           212000,
           20240802
          ],
          [
           "66, Clifton Street, Cardiff CF24 1LT",
           150000,
           20180928
          ],
          [
           "66, Clifton Street, Cardiff CF24 1LT",
           124000,
           20110719
          ],
          [
           "66, Clifton Street, Cardiff CF24 1LT",
           114000,
           20040305
          ],
          [
           "66, Clifton Street, Cardiff CF24 1LT",
           45500,
           19981230
          ],
          [
           "425, Newport Road, Cardiff CF24 1RP",
           230000,
           20240802
          ],
          [
           "8, Braeval Street, Cardiff CF24 4SJ",
           270000,
           20240801
          ],
          [
           "8, Braeval Street, Cardiff CF24 4SJ",
           227500,
           20221025
          ],
          [
           "8, Braeval Street, Cardiff CF24 4SJ",
           157000,
           20040716
          ],
          [
           "8, Braeval Street, Cardiff CF24 4SJ",
           80000,
           20010803
          ],
          [
           "3, Princes Street, Cardiff CF24 3PR",
           480000,
           20240731
          ],
          [
           "3, Princes Street, Cardiff CF24 3PR",
           365000,
           20161202
          ],
          [
           "3, Princes Street, Cardiff CF24 3PR",
           72000,
           19960830
          ],
          [
           "130, Cottrell Road, Roath, Cardiff CF24 3EX",
           245000,
           20240731
          ],
          [
           "130, Cottrell Road, Roath, Cardiff CF24 3EX",
           150000,
           20051209
          ],
          [
           "130, Cottrell Road, Roath, Cardiff CF24 3EX",
           73000,
           20010724
          ],
          [
           "130, Cottrell Road, Roath, Cardiff CF24 3EX",
           50000,
           19970313
          ],
          [
           "13, Kimberley Road, Cardiff CF23 5DH",
           575000,
           20240731
          ],
          [
           "13, Kimberley Road, Cardiff CF23 5DH",
           428450,
           20151124
          ],
          [
           "13, Kimberley Road, Cardiff CF23 5DH",
           340000,
           20150618
          ],
          [
           "13, Kimberley Road, Cardiff CF23 5DH",
           312000,
           20070302
          ],
          [
           "13, Kimberley Road, Cardiff CF23 5DH",
           282000,
           20031222
          ],
          [
           "13, Kimberley Road, Cardiff CF23 5DH",
           190000,
           20021004
          ],
          [
           "29, Ruby Street, Cardiff CF24 1LP",
           230000,
           20240726
          ],
          [
           "29, Ruby Street, Cardiff CF24 1LP",
           138000,
           20150902
          ],
          [
           "29, Ruby Street, Cardiff CF24 1LP",
           122500,
           20090327
          ],
          [
           "29, Ruby Street, Cardiff CF24 1LP",
           39500,
           19970829
          ],
          [
           "32, Horwood Close, Cardiff CF24 2LW",
           160000,
           20240726
          ],
          [
           "32, Horwood Close, Cardiff CF24 2LW",
           130000,
           20181015
          ],
          [
           "32, Horwood Close, Cardiff CF24 2LW",
           100000,
           20060904
          ],
          [
           "158, Glenroy Street, Cardiff CF24 3LA",
           225000,
           20240726
          ],
          [
           "3b, Moira Place, Cardiff CF24 0ER",
           140000,
           20240726
          ],
          [
           "3b, Moira Place, Cardiff CF24 0ER",
           85500,
           20120119
          ],
          [
           "10, Sandringham Road, Cardiff CF23 5BH",
           505000,
           20240723
          ],
          [
           "10, Sandringham Road, Cardiff CF23 5BH",
           120000,
           19981222
          ],
          [
           "64, Clifton Street, Cardiff CF24 1LT",
           225000,
           20240723
          ],
          [
           "136, Daviot Street, Cardiff CF24 4SQ",
           138000,
           20240722
          ],
          [
           "136, Daviot Street, Cardiff CF24 4SQ",
           101000,
           20150518
          ],
          [
           "136, Daviot Street, Cardiff CF24 4SQ",
           65000,
           20020930
          ],
          [
           "136, Daviot Street, Cardiff CF24 4SQ",
           33500,
           19980424
          ],
          [
           "136, Daviot Street, Cardiff CF24 4SQ",
           30000,
           19961023
          ],
          [
           "27, Cecil Street, Roath, Cardiff CF24 1NU",
           205000,
           20240719
          ],
          [
           "32, Roath Court Road, Cardiff CF24 3SD",
           490000,
           20240719
          ],
          [
           "32, Roath Court Road, Cardiff CF24 3SD",
           238000,
           20120601
          ],
          [
           "34, Arabella Street, Cardiff CF24 4TA",
           295000,
           20240719
          ],
          [
           "34, Arabella Street, Cardiff CF24 4TA",
           200000,
           20161026
          ],
          [
           "34, Arabella Street, Cardiff CF24 4TA",
           151000,
           20101124
          ],
          [
           "14, Westville Road, Cardiff CF23 5AG",
           485000,
           20240712
          ],
          [
           "14, Westville Road, Cardiff CF23 5AG",
           250000,
           20130705
          ],
          [
           "40, Metal Street, Cardiff CF24 0JZ",
           245000,
           20240710
          ],
          [
           "40, Metal Street, Cardiff CF24 0JZ",
           146000,
           20111222
          ],
          [
           "40, Metal Street, Cardiff CF24 0JZ",
           105000,
           20090521
          ],
          [
           "8, Augusta Street, Cardiff CF24 0EN",
           215000,
           20240710
          ],
          [
           "8, Augusta Street, Cardiff CF24 0EN",
           146000,
           20070820
          ],
          [
           "8, Augusta Street, Cardiff CF24 0EN",
           100000,
           20030627
          ],
          [
           "12, Daviot Street, Cardiff CF24 4SL",
           245000,
           20240708
          ],
          [
           "12, Daviot Street, Cardiff CF24 4SL",
           179950,
           20151016
          ],
          [
           "12, Daviot Street, Cardiff CF24 4SL",
           145000,
           20090624
          ],
          [
           "12, Daviot Street, Cardiff CF24 4SL",
           60000,
           20011217
          ],
          [
           "160, Donald Street, Cardiff CF24 4TP",
           194000,
           20240708
          ],
          [
           "4, Upper Kincraig Street, Roath, Cardiff CF24 3HA",
           269000,
           20240705
          ],
          [
           "4, Upper Kincraig Street, Roath, Cardiff CF24 3HA",
           155000,
           20151214
          ],
          [
           "4, Upper Kincraig Street, Roath, Cardiff CF24 3HA",
           49950,
           19960705
          ],
          [
           "66, Cottrell Road, Roath, Cardiff CF24 3EZ",
           290000,
           20240701
          ],
          [
           "66, Cottrell Road, Roath, Cardiff CF24 3EZ",
           154950,
           20140708
          ],
          [
           "15, Amesbury Road, Cardiff CF23 5DW",
           450000,
           20240628
          ],
          [
           "15, Amesbury Road, Cardiff CF23 5DW",
           225000,
           20130618
          ],
          [
           "46, Arran Street, Roath, Cardiff CF24 3HS",
           236500,
           20240628
          ],
          [
           "33, Boverton Street, Cardiff CF23 5ES",
           502000,
           20240627
          ],
          [
           "33, Boverton Street, Cardiff CF23 5ES",
           430000,
           20190313
          ],
          [
           "33, Boverton Street, Cardiff CF23 5ES",
           405000,
           20160520
          ],
          [
           "33, Boverton Street, Cardiff CF23 5ES",
           135000,
           20000331
          ],
          [
           "93, Anderson Place, Cardiff CF24 0HH",
           178000,
           20240625
          ],
          [
           "2, Pearl Place, Cardiff CF24 1HE",
           265000,
           20240624
          ],
          [
           "2, Pearl Place, Cardiff CF24 1HE",
           220000,
           20201218
          ],
          [
           "115, Bedford Street, Cardiff CF24 3DB",
           210000,
           20240624
          ],
          [
           "34, Cyfarthfa Street, Cardiff CF24 3HE",
           250000,
           20240621
          ],
          [
           "34, Cyfarthfa Street, Cardiff CF24 3HE",
           238344,
           20220224
          ],
          [
           "34, Cyfarthfa Street, Cardiff CF24 3HE",
           163100,
           20141121
          ],
          [
           "34, Cyfarthfa Street, Cardiff CF24 3HE",
           140000,
           20110727
          ],
          [
           "34, Cyfarthfa Street, Cardiff CF24 3HE",
           60000,
           20001221
          ],
          [
           "141, Keppoch Street, Cardiff CF24 3JU",
           235000,
           20240621
          ],
          [
           "141, Keppoch Street, Cardiff CF24 3JU",
           152000,
           20131028
          ],
          [
           "141, Keppoch Street, Cardiff CF24 3JU",
           145250,
           20060726
          ],
          [
           "141, Keppoch Street, Cardiff CF24 3JU",
           70000,
           20000623
          ],
          [
           "141, Keppoch Street, Cardiff CF24 3JU",
           55500,
           19970929
          ],
          [
           "24, Upper Kincraig Street, Roath, Cardiff CF24 3HA",
           275000,
           20240621
          ],
          [
           "24, Upper Kincraig Street, Roath, Cardiff CF24 3HA",
           156500,
           20130719
          ],
          [
           "24, Upper Kincraig Street, Roath, Cardiff CF24 3HA",
           147000,
           20090929
          ],
          [
           "24, Upper Kincraig Street, Roath, Cardiff CF24 3HA",
           99000,
           20020923
          ],
          [
           "24, Upper Kincraig Street, Roath, Cardiff CF24 3HA",
           49950,
           19970117
          ],
          [
           "102, Keppoch Street, Cardiff CF24 3JU",
           234500,
           20240620
          ],
          [
           "102, Keppoch Street, Cardiff CF24 3JU",
           46750,
           19961025
          ],
          [
           "56, Emerald Street, Cardiff CF24 1QB",
           220000,
           20240620
          ],
          [
           "56, Emerald Street, Cardiff CF24 1QB",
           135500,
           20130628
          ],
          [
           "56, Emerald Street, Cardiff CF24 1QB",
           135000,
           20110722
          ],
          [
           "56, Emerald Street, Cardiff CF24 1QB",
           137000,
           20060630
          ],
          [
           "84, Arabella Street, Cardiff CF24 4TB",
           300550,
           20240619
          ],
          [
           "84, Arabella Street, Cardiff CF24 4TB",
           222000,
           20180131
          ],
          [
           "84, Arabella Street, Cardiff CF24 4TB",
           85000,
           20020314
          ],
          [
           "84, Arabella Street, Cardiff CF24 4TB",
           58750,
           19981002
          ],
          [
           "73, Marlborough Road, Cardiff CF23 5BU",
           467000,
           20240614
          ],
          [
           "73, Marlborough Road, Cardiff CF23 5BU",
           98000,
           19980803
          ],
          [
           "4, Blanche Street, Cardiff CF24 1QT",
           193000,
           20240614
          ],
          [
           "4, Blanche Street, Cardiff CF24 1QT",
           40000,
           19991223
          ],
          [
           "51, Constellation Street, Cardiff CF24 0HJ",
           220000,
           20240613
          ],
          [
           "51, Constellation Street, Cardiff CF24 0HJ",
           130000,
           20141218
          ],
          [
           "51, Constellation Street, Cardiff CF24 0HJ",
           136242,
           20121109
          ],
          [
           "51, Constellation Street, Cardiff CF24 0HJ",
           135000,
           20070302
          ],
          [
           "51, Constellation Street, Cardiff CF24 0HJ",
           51500,
           20001020
          ],
          [
           "225, Inverness Place, Cardiff CF24 4RY",
           349000,
           20240607
          ],
          [
           "225, Inverness Place, Cardiff CF24 4RY",
           290000,
           20200110
          ],
          [
           "225, Inverness Place, Cardiff CF24 4RY",
           250000,
           20161014
          ],
          [
           "225, Inverness Place, Cardiff CF24 4RY",
           160000,
           20091002
          ],
          [
           "225, Inverness Place, Cardiff CF24 4RY",
           60000,
           19950613
          ],
          [
           "15, Waterloo Close, Cardiff CF23 5ED",
           280000,
           20240605
          ],
          [
           "15, Waterloo Close, Cardiff CF23 5ED",
           64000,
           19970423
          ],
          [
           "19, Braeval Street, Cardiff CF24 4SJ",
           267000,
           20240603
          ],
          [
           "19, Braeval Street, Cardiff CF24 4SJ",
           182500,
           20181005
          ],
          [
           "12, Spring Gardens Place, Cardiff CF24 1QZ",
           210000,
           20240531
          ],
          [
           "12, Spring Gardens Place, Cardiff CF24 1QZ",
           141000,
           20180131
          ],
          [
           "12, Spring Gardens Place, Cardiff CF24 1QZ",
           29000,
           19960806
          ],
          [
           "28, Elm Street, Cardiff CF24 3QS",
           247000,
           20240531
          ],
          [
           "28, Elm Street, Cardiff CF24 3QS",
           227500,
           20230324
          ],
          [
           "28, Elm Street, Cardiff CF24 3QS",
           110000,
           20110607
          ],
          [
           "1, Cameron Street, Cardiff CF24 2NX",
           250000,
           20240530
          ],
          [
           "1, Cameron Street, Cardiff CF24 2NX",
           200000,
           20191029
          ],
          [
           "1, Cameron Street, Cardiff CF24 2NX",
           120000,
           20111104
          ],
          [
           "1, Cameron Street, Cardiff CF24 2NX",
           37500,
           19950908
          ],
          [
           "88, Colchester Avenue, Penylan, Cardiff CF23 9AZ",
           690000,
           20240529
          ],
          [
           "88, Colchester Avenue, Penylan, Cardiff CF23 9AZ",
           310000,
           20151030
          ],
          [
           "22, Upper Kincraig Street, Roath, Cardiff CF24 3HA",
           225000,
           20240528
          ],
          [
           "22, Upper Kincraig Street, Roath, Cardiff CF24 3HA",
           196775,
           20190902
          ],
          [
           "7, Stacey Road, Cardiff CF24 1DR",
           306250,
           20240524
          ],
          [
           "7, Stacey Road, Cardiff CF24 1DR",
           220000,
           20210427
          ],
          [
           "7, Stacey Road, Cardiff CF24 1DR",
           180000,
           20110815
          ],
          [
           "7, Stacey Road, Cardiff CF24 1DR",
           132500,
           20101116
          ],
          [
           "7, Stacey Road, Cardiff CF24 1DR",
           72000,
           20000913
          ],
          [
           "7, Stacey Road, Cardiff CF24 1DR",
           57950,
           19980306
          ],
          [
           "7, Stacey Road, Cardiff CF24 1DR",
           57950,
           19980306
          ],
          [
           "11, Prince Leopold Street, Cardiff CF24 0HT",
           205000,
           20240520
          ],
          [
           "11, Prince Leopold Street, Cardiff CF24 0HT",
           185000,
           20180907
          ],
          [
           "10, Morlais Street, Cardiff CF23 5HQ",
           500000,
           20240517
          ],
          [
           "10, Morlais Street, Cardiff CF23 5HQ",
           448000,
           20220506
          ],
          [
           "10, Morlais Street, Cardiff CF23 5HQ",
           95000,
           19970612
          ],
          [
           "83, Cyfarthfa Street, Cardiff CF24 3HF",
           220000,
           20240516
          ],
          [
           "83, Cyfarthfa Street, Cardiff CF24 3HF",
           135000,
           20110808
          ],
          [
           "83, Cyfarthfa Street, Cardiff CF24 3HF",
           56950,
           19990630
          ],
          [
           "20, Prince Leopold Street, Cardiff CF24 0HT",
           175000,
           20240515
          ],
          [
           "20, Prince Leopold Street, Cardiff CF24 0HT",
           42000,
           20000922
          ],
          [
           "39, Doe Close, Penylan, Cardiff CF23 9HJ",
           340000,
           20240514
          ],
          [
           "138, Mackintosh Place, Cardiff CF24 4RS",
           243500,
           20240510
          ],
          [
           "129, Cyfarthfa Street, Cardiff CF24 3HH",
           245000,
           20240510
          ],
          [
           "129, Cyfarthfa Street, Cardiff CF24 3HH",
           173000,
           20170630
          ],
          [
           "129, Cyfarthfa Street, Cardiff CF24 3HH",
           179000,
           20060602
          ],
          [
           "129, Cyfarthfa Street, Cardiff CF24 3HH",
           100000,
           20051118
          ],
          [
           "40, Spring Gardens Terrace, Cardiff CF24 1QX",
           193000,
           20240503
          ],
          [
           "40, Spring Gardens Terrace, Cardiff CF24 1QX",
           147000,
           20171030
          ],
          [
           "40, Spring Gardens Terrace, Cardiff CF24 1QX",
           110000,
           20150116
          ],
          [
           "40, Spring Gardens Terrace, Cardiff CF24 1QX",
           38750,
           19991101
          ],
          [
           "26, Deri Road, Cardiff CF23 5AJ",
           525000,
           20240503
          ],
          [
           "26, Deri Road, Cardiff CF23 5AJ",
           345000,
           20190208
          ],
          [
           "15, Blanche Street, Cardiff CF24 1QS",
           190000,
           20240430
          ],
          [
           "138, Donald Street, Cardiff CF24 4TN",
           295000,
           20240426
          ],
          [
           "37, Blanche Street, Cardiff CF24 1QS",
           235000,
           20240426
          ],
          [
           "37, Blanche Street, Cardiff CF24 1QS",
           160000,
           20180504
          ],
          [
           "37, Blanche Street, Cardiff CF24 1QS",
           110000,
           20080717
          ],
          [
           "37, Blanche Street, Cardiff CF24 1QS",
           120000,
           20040130
          ],
          [
           "10, Wellfield Place, Cardiff CF24 3PD",
           286000,
           20240425
          ],
          [
           "10, Wellfield Place, Cardiff CF24 3PD",
           145000,
           20031121
          ],
          [
           "37, Mafeking Road, Cardiff CF23 5DQ",
           505000,
           20240425
          ],
          [
           "37, Mafeking Road, Cardiff CF23 5DQ",
           285000,
           20140605
          ],
          [
           "114, Inverness Place, Cardiff CF24 4SA",
           312000,
           20240423
          ],
          [
           "114, Inverness Place, Cardiff CF24 4SA",
           160000,
           20140228
          ],
          [
           "114, Inverness Place, Cardiff CF24 4SA",
           155000,
           20061218
          ],
          [
           "114, Inverness Place, Cardiff CF24 4SA",
           150000,
           20040430
          ],
          [
           "114, Inverness Place, Cardiff CF24 4SA",
           77950,
           20010810
          ],
          [
           "Ground Floor Flat, 106, Connaught Road, Cardiff CF24 3PY",
           172250,
           20240419
          ],
          [
           "26, Moira Place, Cardiff CF24 0ET",
           303000,
           20240418
          ],
          [
           "26, Moira Place, Cardiff CF24 0ET",
           62000,
           20000128
          ],
          [
           "26, Moira Place, Cardiff CF24 0ET",
           33000,
           19980130
          ],
          [
           "5, Melrose Avenue, Penylan, Cardiff CF23 9AR",
           435000,
           20240412
          ],
          [
           "45, Upper Kincraig Street, Roath, Cardiff CF24 3HB",
           268000,
           20240412
          ],
          [
           "45, Upper Kincraig Street, Roath, Cardiff CF24 3HB",
           205000,
           20180119
          ],
          [
           "45, Upper Kincraig Street, Roath, Cardiff CF24 3HB",
           167500,
           20141103
          ],
          [
           "45, Upper Kincraig Street, Roath, Cardiff CF24 3HB",
           143000,
           20091015
          ],
          [
           "45, Upper Kincraig Street, Roath, Cardiff CF24 3HB",
           69000,
           19991215
          ],
          [
           "31, Amesbury Road, Cardiff CF23 5DW",
           465000,
           20240408
          ],
          [
           "31, Amesbury Road, Cardiff CF23 5DW",
           260000,
           20061005
          ],
          [
           "31, Amesbury Road, Cardiff CF23 5DW",
           84000,
           19970605
          ],
          [
           "12, Orbit Street, Cardiff CF24 0JX",
           140000,
           20240408
          ],
          [
           "12, Orbit Street, Cardiff CF24 0JX",
           128000,
           20170522
          ],
          [
           "118, Kimberley Road, Cardiff CF23 5AF",
           675000,
           20240408
          ],
          [
           "118, Kimberley Road, Cardiff CF23 5AF",
           105550,
           19970829
          ],
          [
           "78, Inverness Place, Cardiff CF24 4SA",
           280000,
           20240405
          ],
          [
           "117, Westville Road, Cardiff CF23 5AG",
           360000,
           20240405
          ],
          [
           "96, Ffordd Nowell, Penylan, Cardiff CF23 9FB",
           345000,
           20240405
          ],
          [
           "96, Ffordd Nowell, Penylan, Cardiff CF23 9FB",
           300500,
           20200911
          ],
          [
           "96, Ffordd Nowell, Penylan, Cardiff CF23 9FB",
           280000,
           20171201
          ],
          [
           "6, Silver Street, Cardiff CF24 0LG",
           242000,
           20240405
          ],
          [
           "6, Silver Street, Cardiff CF24 0LG",
           149950,
           20170525
          ],
          [
           "71, Clifton Street, Cardiff CF24 1LT",
           192500,
           20240405
          ],
          [
           "71, Clifton Street, Cardiff CF24 1LT",
           137000,
           20150826
          ],
          [
           "71, Clifton Street, Cardiff CF24 1LT",
           93000,
           20021010
          ],
          [
           "71, Clifton Street, Cardiff CF24 1LT",
           53000,
           20000508
          ],
          [
           "71, Clifton Street, Cardiff CF24 1LT",
           37000,
           19970313
          ],
          [
           "120, Cottrell Road, Roath, Cardiff CF24 3EX",
           267500,
           20240405
          ],
          [
           "265, Albany Road, Cardiff CF24 3NX",
           510000,
           20240403
          ],
          [
           "265, Albany Road, Cardiff CF24 3NX",
           400000,
           20190530
          ],
          [
           "29, Spring Gardens Place, Cardiff CF24 1QY",
           200000,
           20240328
          ],
          [
           "29, Spring Gardens Place, Cardiff CF24 1QY",
           165000,
           20201216
          ],
          [
           "29, Spring Gardens Place, Cardiff CF24 1QY",
           133000,
           20100729
          ],
          [
           "84, Cottrell Road, Roath, Cardiff CF24 3EZ",
           249000,
           20240328
          ],
          [
           "84, Cottrell Road, Roath, Cardiff CF24 3EZ",
           139580,
           20120323
          ],
          [
           "91, Mackintosh Place, Cardiff CF24 4RL",
           175000,
           20240328
          ],
          [
           "91, Mackintosh Place, Cardiff CF24 4RL",
           147000,
           20080313
          ],
          [
           "91, Mackintosh Place, Cardiff CF24 4RL",
           117000,
           20061122
          ],
          [
           "91, Mackintosh Place, Cardiff CF24 4RL",
           56875,
           19990309
          ],
          [
           "9, Alfred Street, Cardiff CF24 4TY",
           220000,
           20240326
          ],
          [
           "9, Alfred Street, Cardiff CF24 4TY",
           109664,
           20070706
          ],
          [
           "9, Alfred Street, Cardiff CF24 4TY",
           85000,
           20010928
          ],
          [
           "16, Talworth Street, Roath, Cardiff CF24 3EJ",
           240000,
           20240322
          ],
          [
           "16, Talworth Street, Roath, Cardiff CF24 3EJ",
           184000,
           20110531
          ],
          [
           "16, Talworth Street, Roath, Cardiff CF24 3EJ",
           183950,
           20070910
          ],
          [
           "16, Talworth Street, Roath, Cardiff CF24 3EJ",
           90000,
           20010831
          ],
          [
           "20, Silver Street, Cardiff CF24 0LG",
           236000,
           20240322
          ],
          [
           "20, Silver Street, Cardiff CF24 0LG",
           137500,
           20130619
          ],
          [
           "20, Silver Street, Cardiff CF24 0LG",
           47500,
           19970613
          ],
          [
           "20, Minster Road, Cardiff CF23 5AS",
           418863,
           20240322
          ],
          [
           "20, Minster Road, Cardiff CF23 5AS",
           315000,
           20181004
          ],
          [
           "20, Minster Road, Cardiff CF23 5AS",
           250000,
           20120706
          ],
          [
           "20, Minster Road, Cardiff CF23 5AS",
           182500,
           20040309
          ],
          [
           "20, Minster Road, Cardiff CF23 5AS",
           89950,
           19980327
          ],
          [
           "133, Keppoch Street, Cardiff CF24 3JU",
           234950,
           20240321
          ],
          [
           "133, Keppoch Street, Cardiff CF24 3JU",
           203000,
           20201218
          ],
          [
           "133, Keppoch Street, Cardiff CF24 3JU",
           149000,
           20111128
          ],
          [
           "133, Keppoch Street, Cardiff CF24 3JU",
           159950,
           20070601
          ],
          [
           "133, Keppoch Street, Cardiff CF24 3JU",
           86000,
           20020524
          ],
          [
           "133, Keppoch Street, Cardiff CF24 3JU",
           42500,
           19961030
          ],
          [
           "34a, Stacey Road, Cardiff CF24 1DU",
           145500,
           20240321
          ],
          [
           "34a, Stacey Road, Cardiff CF24 1DU",
           97000,
           20190425
          ],
          [
           "36, Topaz Street, Cardiff CF24 1PH",
           231000,
           20240318
          ],
          [
           "36, Topaz Street, Cardiff CF24 1PH",
           205000,
           20190809
          ],
          [
           "36, Topaz Street, Cardiff CF24 1PH",
           115000,
           20110825
          ],
          [
           "43, Inverness Place, Cardiff CF24 4RU",
           217000,
           20240315
          ],
          [
           "43, Inverness Place, Cardiff CF24 4RU",
           206000,
           20190830
          ],
          [
           "43, Inverness Place, Cardiff CF24 4RU",
           159950,
           20061201
          ],
          [
           "43, Inverness Place, Cardiff CF24 4RU",
           118000,
           20030124
          ],
          [
           "43, Inverness Place, Cardiff CF24 4RU",
           55000,
           20011023
          ]
         ],
         "hovertemplate": "<b>%{hovertext}</b><br><br>display_price=%{marker.color}<br>latitude=%{lat}<br>longitude=%{lon}<br>address=%{customdata[0]}<br>date_sold=%{customdata[2]}<extra></extra>",
         "hovertext": [
          "9, Stallcourt Avenue, Cardiff CF23 5AL",
          "9, Stallcourt Avenue, Cardiff CF23 5AL",
          "87, Clifton Street, Cardiff CF24 1LT",
          "87, Clifton Street, Cardiff CF24 1LT",
          "87, Clifton Street, Cardiff CF24 1LT",
          "87, Clifton Street, Cardiff CF24 1LT",
          "101, Arran Street, Roath, Cardiff CF24 3HU",
          "101, Arran Street, Roath, Cardiff CF24 3HU",
          "101, Arran Street, Roath, Cardiff CF24 3HU",
          "101, Arran Street, Roath, Cardiff CF24 3HU",
          "34b, Amesbury Road, Cardiff CF23 5DW",
          "34b, Amesbury Road, Cardiff CF23 5DW",
          "34b, Amesbury Road, Cardiff CF23 5DW",
          "34b, Amesbury Road, Cardiff CF23 5DW",
          "10, Blanche Street, Cardiff CF24 1QT",
          "10, Blanche Street, Cardiff CF24 1QT",
          "10, Blanche Street, Cardiff CF24 1QT",
          "10, Blanche Street, Cardiff CF24 1QT",
          "307, Railway Street, Cardiff CF24 2NE",
          "307, Railway Street, Cardiff CF24 2NE",
          "48, Talworth Street, Roath, Cardiff CF24 3EH",
          "140, Glenroy Street, Cardiff CF24 3LA",
          "140, Glenroy Street, Cardiff CF24 3LA",
          "140, Glenroy Street, Cardiff CF24 3LA",
          "140, Glenroy Street, Cardiff CF24 3LA",
          "195, Inverness Place, Cardiff CF24 4RY",
          "100, Pearl Street, Cardiff CF24 1PL",
          "100, Pearl Street, Cardiff CF24 1PL",
          "100, Pearl Street, Cardiff CF24 1PL",
          "44, Metal Street, Cardiff CF24 0JZ",
          "60, Alfred Street, Cardiff CF24 4TZ",
          "60, Alfred Street, Cardiff CF24 4TZ",
          "28, Horwood Close, Cardiff CF24 2LW",
          "28, Horwood Close, Cardiff CF24 2LW",
          "28, Horwood Close, Cardiff CF24 2LW",
          "158, Railway Street, Cardiff CF24 2NH",
          "158, Railway Street, Cardiff CF24 2NH",
          "158, Railway Street, Cardiff CF24 2NH",
          "158, Railway Street, Cardiff CF24 2NH",
          "158, Railway Street, Cardiff CF24 2NH",
          "158, Railway Street, Cardiff CF24 2NH",
          "65, Strathnairn Street, Cardiff CF24 3JP",
          "65, Strathnairn Street, Cardiff CF24 3JP",
          "65, Strathnairn Street, Cardiff CF24 3JP",
          "8, Princes Avenue, Cardiff CF24 3SN",
          "8, Princes Avenue, Cardiff CF24 3SN",
          "167, Arabella Street, Cardiff CF24 4SY",
          "167, Arabella Street, Cardiff CF24 4SY",
          "167, Arabella Street, Cardiff CF24 4SY",
          "167, Arabella Street, Cardiff CF24 4SY",
          "37, Partridge Road, Cardiff CF24 3QW",
          "37, Partridge Road, Cardiff CF24 3QW",
          "56, Cottrell Road, Roath, Cardiff CF24 3EZ",
          "56, Cottrell Road, Roath, Cardiff CF24 3EZ",
          "56, Cottrell Road, Roath, Cardiff CF24 3EZ",
          "21, Westville Road, Cardiff CF23 5DE",
          "21, Westville Road, Cardiff CF23 5DE",
          "21, Westville Road, Cardiff CF23 5DE",
          "30, Piercefield Place, Cardiff CF24 0LD",
          "30, Piercefield Place, Cardiff CF24 0LD",
          "30, Piercefield Place, Cardiff CF24 0LD",
          "30, Piercefield Place, Cardiff CF24 0LD",
          "28, Lochaber Street, Cardiff CF24 3LS",
          "28, Lochaber Street, Cardiff CF24 3LS",
          "124, Arabella Street, Cardiff CF24 4SY",
          "124, Arabella Street, Cardiff CF24 4SY",
          "49, Cyfarthfa Street, Cardiff CF24 3HF",
          "49, Cyfarthfa Street, Cardiff CF24 3HF",
          "49, Cyfarthfa Street, Cardiff CF24 3HF",
          "31, Bradley Street, Cardiff CF24 1PE",
          "31, Bradley Street, Cardiff CF24 1PE",
          "31, Bradley Street, Cardiff CF24 1PE",
          "45, Doe Close, Penylan, Cardiff CF23 9HJ",
          "45, Doe Close, Penylan, Cardiff CF23 9HJ",
          "45, Doe Close, Penylan, Cardiff CF23 9HJ",
          "16, Deri Road, Cardiff CF23 5AJ",
          "16, Deri Road, Cardiff CF23 5AJ",
          "16, Deri Road, Cardiff CF23 5AJ",
          "16, Deri Road, Cardiff CF23 5AJ",
          "16, Deri Road, Cardiff CF23 5AJ",
          "16, Deri Road, Cardiff CF23 5AJ",
          "42, Doe Close, Penylan, Cardiff CF23 9HJ",
          "42, Doe Close, Penylan, Cardiff CF23 9HJ",
          "42, Doe Close, Penylan, Cardiff CF23 9HJ",
          "104, Keppoch Street, Cardiff CF24 3JU",
          "104, Keppoch Street, Cardiff CF24 3JU",
          "104, Keppoch Street, Cardiff CF24 3JU",
          "104, Keppoch Street, Cardiff CF24 3JU",
          "6, Pen Y Wain Place, Cardiff CF24 4GA",
          "6, Pen Y Wain Place, Cardiff CF24 4GA",
          "6, Pen Y Wain Place, Cardiff CF24 4GA",
          "13, Cecil Street, Roath, Cardiff CF24 1NU",
          "13, Cecil Street, Roath, Cardiff CF24 1NU",
          "13, Cecil Street, Roath, Cardiff CF24 1NU",
          "13, Cecil Street, Roath, Cardiff CF24 1NU",
          "69, Melrose Avenue, Penylan, Cardiff CF23 9AT",
          "69, Melrose Avenue, Penylan, Cardiff CF23 9AT",
          "69, Melrose Avenue, Penylan, Cardiff CF23 9AT",
          "69, Melrose Avenue, Penylan, Cardiff CF23 9AT",
          "69, Melrose Avenue, Penylan, Cardiff CF23 9AT",
          "96, Glenroy Street, Cardiff CF24 3JY",
          "96, Glenroy Street, Cardiff CF24 3JY",
          "96, Glenroy Street, Cardiff CF24 3JY",
          "96, Glenroy Street, Cardiff CF24 3JY",
          "96, Glenroy Street, Cardiff CF24 3JY",
          "55, Princes Street, Cardiff CF24 3SL",
          "55, Princes Street, Cardiff CF24 3SL",
          "92, Cyfarthfa Street, Cardiff CF24 3HG",
          "92, Cyfarthfa Street, Cardiff CF24 3HG",
          "92, Cyfarthfa Street, Cardiff CF24 3HG",
          "73, Clifton Street, Cardiff CF24 1LT",
          "73, Clifton Street, Cardiff CF24 1LT",
          "85, Broadway, Cardiff CF24 1QF",
          "66, Upper Kincraig Street, Roath, Cardiff CF24 3HB",
          "66, Upper Kincraig Street, Roath, Cardiff CF24 3HB",
          "66, Upper Kincraig Street, Roath, Cardiff CF24 3HB",
          "31, Arthur Street, Cardiff CF24 1QR",
          "31, Arthur Street, Cardiff CF24 1QR",
          "31, Arthur Street, Cardiff CF24 1QR",
          "111, Treharris Street, Cardiff CF24 3HP",
          "111, Treharris Street, Cardiff CF24 3HP",
          "4, Pen Y Wain Place, Cardiff CF24 4GA",
          "48, Ruby Street, Cardiff CF24 1LN",
          "48, Ruby Street, Cardiff CF24 1LN",
          "62, Diana Street, Cardiff CF24 4TW",
          "62, Diana Street, Cardiff CF24 4TW",
          "103, Arran Street, Roath, Cardiff CF24 3HU",
          "103, Arran Street, Roath, Cardiff CF24 3HU",
          "103, Arran Street, Roath, Cardiff CF24 3HU",
          "103, Arran Street, Roath, Cardiff CF24 3HU",
          "80, Keppoch Street, Cardiff CF24 3JU",
          "80, Keppoch Street, Cardiff CF24 3JU",
          "80, Keppoch Street, Cardiff CF24 3JU",
          "227, Newport Road, Cardiff CF24 1RG",
          "227, Newport Road, Cardiff CF24 1RG",
          "9, Blanche Street, Cardiff CF24 1QS",
          "9, Blanche Street, Cardiff CF24 1QS",
          "9, Blanche Street, Cardiff CF24 1QS",
          "9, Blanche Street, Cardiff CF24 1QS",
          "50, Talworth Street, Roath, Cardiff CF24 3EH",
          "50, Talworth Street, Roath, Cardiff CF24 3EH",
          "181, Arabella Street, Cardiff CF24 4SZ",
          "181, Arabella Street, Cardiff CF24 4SZ",
          "181, Arabella Street, Cardiff CF24 4SZ",
          "181, Arabella Street, Cardiff CF24 4SZ",
          "181, Arabella Street, Cardiff CF24 4SZ",
          "46, Sandringham Road, Cardiff CF23 5BL",
          "46, Sandringham Road, Cardiff CF23 5BL",
          "Flat 10, Windsor Court, Moira Terrace, Cardiff CF24 0DZ",
          "Flat 10, Windsor Court, Moira Terrace, Cardiff CF24 0DZ",
          "Flat 10, Windsor Court, Moira Terrace, Cardiff CF24 0DZ",
          "Flat 10, Windsor Court, Moira Terrace, Cardiff CF24 0DZ",
          "Flat 10, Windsor Court, Moira Terrace, Cardiff CF24 0DZ",
          "Flat 10, Windsor Court, Moira Terrace, Cardiff CF24 0DZ",
          "Flat 10, Windsor Court, Moira Terrace, Cardiff CF24 0DZ",
          "Flat 10, Windsor Court, Moira Terrace, Cardiff CF24 0DZ",
          "5, Dalcross Street, Cardiff CF24 4SD",
          "5, Dalcross Street, Cardiff CF24 4SD",
          "5, Dalcross Street, Cardiff CF24 4SD",
          "5, Dalcross Street, Cardiff CF24 4SD",
          "80b, Connaught Road, Cardiff CF24 3PX",
          "80b, Connaught Road, Cardiff CF24 3PX",
          "80b, Connaught Road, Cardiff CF24 3PX",
          "80b, Connaught Road, Cardiff CF24 3PX",
          "80b, Connaught Road, Cardiff CF24 3PX",
          "80b, Connaught Road, Cardiff CF24 3PX",
          "80b, Connaught Road, Cardiff CF24 3PX",
          "14, Cottrell Road, Roath, Cardiff CF24 3EY",
          "1, Tyler Street, Cardiff CF24 1QP",
          "1, Tyler Street, Cardiff CF24 1QP",
          "33, Horwood Close, Cardiff CF24 2LW",
          "33, Horwood Close, Cardiff CF24 2LW",
          "33, Horwood Close, Cardiff CF24 2LW",
          "33, Horwood Close, Cardiff CF24 2LW",
          "112, Cyfarthfa Street, Cardiff CF24 3HG",
          "112, Cyfarthfa Street, Cardiff CF24 3HG",
          "112, Cyfarthfa Street, Cardiff CF24 3HG",
          "112, Cyfarthfa Street, Cardiff CF24 3HG",
          "112, Cyfarthfa Street, Cardiff CF24 3HG",
          "5, Amesbury Road, Cardiff CF23 5DW",
          "5, Amesbury Road, Cardiff CF23 5DW",
          "5, Amesbury Road, Cardiff CF23 5DW",
          "40, Arabella Street, Cardiff CF24 4TA",
          "40, Arabella Street, Cardiff CF24 4TA",
          "40, Arabella Street, Cardiff CF24 4TA",
          "40, Arabella Street, Cardiff CF24 4TA",
          "40, Arabella Street, Cardiff CF24 4TA",
          "167, Treharris Street, Cardiff CF24 3HQ",
          "167, Treharris Street, Cardiff CF24 3HQ",
          "167, Treharris Street, Cardiff CF24 3HQ",
          "167, Treharris Street, Cardiff CF24 3HQ",
          "167, Treharris Street, Cardiff CF24 3HQ",
          "167, Treharris Street, Cardiff CF24 3HQ",
          "12, Wordsworth Avenue, Cardiff CF24 3FQ",
          "12, Wordsworth Avenue, Cardiff CF24 3FQ",
          "12, Wordsworth Avenue, Cardiff CF24 3FQ",
          "141, Kimberley Road, Cardiff CF23 5AF",
          "141, Kimberley Road, Cardiff CF23 5AF",
          "34, Alfred Street, Cardiff CF24 4TY",
          "34, Alfred Street, Cardiff CF24 4TY",
          "34, Alfred Street, Cardiff CF24 4TY",
          "34, Alfred Street, Cardiff CF24 4TY",
          "34, Alfred Street, Cardiff CF24 4TY",
          "10, Deri Road, Cardiff CF23 5AJ",
          "10, Deri Road, Cardiff CF23 5AJ",
          "10, Deri Road, Cardiff CF23 5AJ",
          "28, Alfred Street, Cardiff CF24 4TY",
          "28, Alfred Street, Cardiff CF24 4TY",
          "28, Alfred Street, Cardiff CF24 4TY",
          "10, Stallcourt Avenue, Cardiff CF23 5AN",
          "10, Stallcourt Avenue, Cardiff CF23 5AN",
          "10, Stallcourt Avenue, Cardiff CF23 5AN",
          "127, Cyfarthfa Street, Cardiff CF24 3HG",
          "122, Arran Street, Roath, Cardiff CF24 3HU",
          "122, Arran Street, Roath, Cardiff CF24 3HU",
          "122, Arran Street, Roath, Cardiff CF24 3HU",
          "122, Arran Street, Roath, Cardiff CF24 3HU",
          "100, Keppoch Street, Cardiff CF24 3JU",
          "100, Keppoch Street, Cardiff CF24 3JU",
          "100, Keppoch Street, Cardiff CF24 3JU",
          "100, Keppoch Street, Cardiff CF24 3JU",
          "100, Keppoch Street, Cardiff CF24 3JU",
          "12, Tyler Street, Cardiff CF24 1QP",
          "12, Tyler Street, Cardiff CF24 1QP",
          "12, Tyler Street, Cardiff CF24 1QP",
          "12, Tyler Street, Cardiff CF24 1QP",
          "106, Cyfarthfa Street, Cardiff CF24 3HG",
          "18, Theodora Street, Cardiff CF24 1PD",
          "18, Theodora Street, Cardiff CF24 1PD",
          "18, Theodora Street, Cardiff CF24 1PD",
          "18, Theodora Street, Cardiff CF24 1PD",
          "18, Theodora Street, Cardiff CF24 1PD",
          "78, Mackintosh Place, Cardiff CF24 4RR",
          "57, Cyfarthfa Street, Cardiff CF24 3HF",
          "57, Cyfarthfa Street, Cardiff CF24 3HF",
          "57, Cyfarthfa Street, Cardiff CF24 3HF",
          "57, Cyfarthfa Street, Cardiff CF24 3HF",
          "16, Bradley Street, Cardiff CF24 1PE",
          "16, Bradley Street, Cardiff CF24 1PE",
          "16, Bradley Street, Cardiff CF24 1PE",
          "22, Treharris Street, Cardiff CF24 3HN",
          "22, Treharris Street, Cardiff CF24 3HN",
          "215, Inverness Place, Cardiff CF24 4RY",
          "215, Inverness Place, Cardiff CF24 4RY",
          "215, Inverness Place, Cardiff CF24 4RY",
          "12c, Oakfield Street, Cardiff CF24 3RD",
          "12c, Oakfield Street, Cardiff CF24 3RD",
          "70, Amesbury Road, Cardiff CF23 5DY",
          "70, Amesbury Road, Cardiff CF23 5DY",
          "70, Amesbury Road, Cardiff CF23 5DY",
          "70, Amesbury Road, Cardiff CF23 5DY",
          "17, Doe Close, Penylan, Cardiff CF23 9HJ",
          "17, Doe Close, Penylan, Cardiff CF23 9HJ",
          "17, Doe Close, Penylan, Cardiff CF23 9HJ",
          "51, Waterloo Gardens, Cardiff CF23 5AB",
          "51, Waterloo Gardens, Cardiff CF23 5AB",
          "15, Sapphire Street, Cardiff CF24 1PY",
          "15, Sapphire Street, Cardiff CF24 1PY",
          "20, Angus Street, Cardiff CF24 3LY",
          "20, Angus Street, Cardiff CF24 3LY",
          "20, Angus Street, Cardiff CF24 3LY",
          "20, Angus Street, Cardiff CF24 3LY",
          "20, Angus Street, Cardiff CF24 3LY",
          "20, Angus Street, Cardiff CF24 3LY",
          "18, Blanche Street, Cardiff CF24 1QT",
          "18, Blanche Street, Cardiff CF24 1QT",
          "75, Melrose Avenue, Penylan, Cardiff CF23 9AT",
          "Flat 51, Thomas Court, Marlborough Road, Cardiff CF23 5EZ",
          "Flat 51, Thomas Court, Marlborough Road, Cardiff CF23 5EZ",
          "Flat 51, Thomas Court, Marlborough Road, Cardiff CF23 5EZ",
          "82, Donald Street, Cardiff CF24 4TR",
          "82, Donald Street, Cardiff CF24 4TR",
          "82, Donald Street, Cardiff CF24 4TR",
          "82, Donald Street, Cardiff CF24 4TR",
          "179, Railway Street, Cardiff CF24 2NB",
          "179, Railway Street, Cardiff CF24 2NB",
          "179, Railway Street, Cardiff CF24 2NB",
          "179, Railway Street, Cardiff CF24 2NB",
          "60, Clifton Street, Cardiff CF24 1LT",
          "60, Clifton Street, Cardiff CF24 1LT",
          "60, Clifton Street, Cardiff CF24 1LT",
          "60, Clifton Street, Cardiff CF24 1LT",
          "10, Tyler Street, Cardiff CF24 1QP",
          "155, Cyfarthfa Street, Cardiff CF24 3HH",
          "155, Cyfarthfa Street, Cardiff CF24 3HH",
          "155, Cyfarthfa Street, Cardiff CF24 3HH",
          "155, Cyfarthfa Street, Cardiff CF24 3HH",
          "155, Cyfarthfa Street, Cardiff CF24 3HH",
          "155, Cyfarthfa Street, Cardiff CF24 3HH",
          "111, Glenroy Street, Cardiff CF24 3JZ",
          "111, Glenroy Street, Cardiff CF24 3JZ",
          "111, Glenroy Street, Cardiff CF24 3JZ",
          "99, Inverness Place, Cardiff CF24 4RW",
          "99, Inverness Place, Cardiff CF24 4RW",
          "99, Inverness Place, Cardiff CF24 4RW",
          "47, Moy Road, Roath, Cardiff CF24 4SH",
          "47, Moy Road, Roath, Cardiff CF24 4SH",
          "47, Moy Road, Roath, Cardiff CF24 4SH",
          "47, Moy Road, Roath, Cardiff CF24 4SH",
          "162, Pearl Street, Cardiff CF24 1RB",
          "162, Pearl Street, Cardiff CF24 1RB",
          "8, Cottrell Road, Roath, Cardiff CF24 3EY",
          "8, Cottrell Road, Roath, Cardiff CF24 3EY",
          "46, Sapphire Street, Cardiff CF24 1PZ",
          "46, Sapphire Street, Cardiff CF24 1PZ",
          "46, Sapphire Street, Cardiff CF24 1PZ",
          "46, Sapphire Street, Cardiff CF24 1PZ",
          "46, Sapphire Street, Cardiff CF24 1PZ",
          "19, Cyfarthfa Street, Cardiff CF24 3HE",
          "19, Cyfarthfa Street, Cardiff CF24 3HE",
          "19, Cyfarthfa Street, Cardiff CF24 3HE",
          "19, Cyfarthfa Street, Cardiff CF24 3HE",
          "19, Cyfarthfa Street, Cardiff CF24 3HE",
          "19, Cyfarthfa Street, Cardiff CF24 3HE",
          "126, Arabella Street, Cardiff CF24 4SY",
          "126, Arabella Street, Cardiff CF24 4SY",
          "126, Arabella Street, Cardiff CF24 4SY",
          "69, Treharris Street, Cardiff CF24 3HL",
          "69, Treharris Street, Cardiff CF24 3HL",
          "69, Treharris Street, Cardiff CF24 3HL",
          "69, Treharris Street, Cardiff CF24 3HL",
          "66, Clifton Street, Cardiff CF24 1LT",
          "66, Clifton Street, Cardiff CF24 1LT",
          "66, Clifton Street, Cardiff CF24 1LT",
          "66, Clifton Street, Cardiff CF24 1LT",
          "66, Clifton Street, Cardiff CF24 1LT",
          "425, Newport Road, Cardiff CF24 1RP",
          "8, Braeval Street, Cardiff CF24 4SJ",
          "8, Braeval Street, Cardiff CF24 4SJ",
          "8, Braeval Street, Cardiff CF24 4SJ",
          "8, Braeval Street, Cardiff CF24 4SJ",
          "3, Princes Street, Cardiff CF24 3PR",
          "3, Princes Street, Cardiff CF24 3PR",
          "3, Princes Street, Cardiff CF24 3PR",
          "130, Cottrell Road, Roath, Cardiff CF24 3EX",
          "130, Cottrell Road, Roath, Cardiff CF24 3EX",
          "130, Cottrell Road, Roath, Cardiff CF24 3EX",
          "130, Cottrell Road, Roath, Cardiff CF24 3EX",
          "13, Kimberley Road, Cardiff CF23 5DH",
          "13, Kimberley Road, Cardiff CF23 5DH",
          "13, Kimberley Road, Cardiff CF23 5DH",
          "13, Kimberley Road, Cardiff CF23 5DH",
          "13, Kimberley Road, Cardiff CF23 5DH",
          "13, Kimberley Road, Cardiff CF23 5DH",
          "29, Ruby Street, Cardiff CF24 1LP",
          "29, Ruby Street, Cardiff CF24 1LP",
          "29, Ruby Street, Cardiff CF24 1LP",
          "29, Ruby Street, Cardiff CF24 1LP",
          "32, Horwood Close, Cardiff CF24 2LW",
          "32, Horwood Close, Cardiff CF24 2LW",
          "32, Horwood Close, Cardiff CF24 2LW",
          "158, Glenroy Street, Cardiff CF24 3LA",
          "3b, Moira Place, Cardiff CF24 0ER",
          "3b, Moira Place, Cardiff CF24 0ER",
          "10, Sandringham Road, Cardiff CF23 5BH",
          "10, Sandringham Road, Cardiff CF23 5BH",
          "64, Clifton Street, Cardiff CF24 1LT",
          "136, Daviot Street, Cardiff CF24 4SQ",
          "136, Daviot Street, Cardiff CF24 4SQ",
          "136, Daviot Street, Cardiff CF24 4SQ",
          "136, Daviot Street, Cardiff CF24 4SQ",
          "136, Daviot Street, Cardiff CF24 4SQ",
          "27, Cecil Street, Roath, Cardiff CF24 1NU",
          "32, Roath Court Road, Cardiff CF24 3SD",
          "32, Roath Court Road, Cardiff CF24 3SD",
          "34, Arabella Street, Cardiff CF24 4TA",
          "34, Arabella Street, Cardiff CF24 4TA",
          "34, Arabella Street, Cardiff CF24 4TA",
          "14, Westville Road, Cardiff CF23 5AG",
          "14, Westville Road, Cardiff CF23 5AG",
          "40, Metal Street, Cardiff CF24 0JZ",
          "40, Metal Street, Cardiff CF24 0JZ",
          "40, Metal Street, Cardiff CF24 0JZ",
          "8, Augusta Street, Cardiff CF24 0EN",
          "8, Augusta Street, Cardiff CF24 0EN",
          "8, Augusta Street, Cardiff CF24 0EN",
          "12, Daviot Street, Cardiff CF24 4SL",
          "12, Daviot Street, Cardiff CF24 4SL",
          "12, Daviot Street, Cardiff CF24 4SL",
          "12, Daviot Street, Cardiff CF24 4SL",
          "160, Donald Street, Cardiff CF24 4TP",
          "4, Upper Kincraig Street, Roath, Cardiff CF24 3HA",
          "4, Upper Kincraig Street, Roath, Cardiff CF24 3HA",
          "4, Upper Kincraig Street, Roath, Cardiff CF24 3HA",
          "66, Cottrell Road, Roath, Cardiff CF24 3EZ",
          "66, Cottrell Road, Roath, Cardiff CF24 3EZ",
          "15, Amesbury Road, Cardiff CF23 5DW",
          "15, Amesbury Road, Cardiff CF23 5DW",
          "46, Arran Street, Roath, Cardiff CF24 3HS",
          "33, Boverton Street, Cardiff CF23 5ES",
          "33, Boverton Street, Cardiff CF23 5ES",
          "33, Boverton Street, Cardiff CF23 5ES",
          "33, Boverton Street, Cardiff CF23 5ES",
          "93, Anderson Place, Cardiff CF24 0HH",
          "2, Pearl Place, Cardiff CF24 1HE",
          "2, Pearl Place, Cardiff CF24 1HE",
          "115, Bedford Street, Cardiff CF24 3DB",
          "34, Cyfarthfa Street, Cardiff CF24 3HE",
          "34, Cyfarthfa Street, Cardiff CF24 3HE",
          "34, Cyfarthfa Street, Cardiff CF24 3HE",
          "34, Cyfarthfa Street, Cardiff CF24 3HE",
          "34, Cyfarthfa Street, Cardiff CF24 3HE",
          "141, Keppoch Street, Cardiff CF24 3JU",
          "141, Keppoch Street, Cardiff CF24 3JU",
          "141, Keppoch Street, Cardiff CF24 3JU",
          "141, Keppoch Street, Cardiff CF24 3JU",
          "141, Keppoch Street, Cardiff CF24 3JU",
          "24, Upper Kincraig Street, Roath, Cardiff CF24 3HA",
          "24, Upper Kincraig Street, Roath, Cardiff CF24 3HA",
          "24, Upper Kincraig Street, Roath, Cardiff CF24 3HA",
          "24, Upper Kincraig Street, Roath, Cardiff CF24 3HA",
          "24, Upper Kincraig Street, Roath, Cardiff CF24 3HA",
          "102, Keppoch Street, Cardiff CF24 3JU",
          "102, Keppoch Street, Cardiff CF24 3JU",
          "56, Emerald Street, Cardiff CF24 1QB",
          "56, Emerald Street, Cardiff CF24 1QB",
          "56, Emerald Street, Cardiff CF24 1QB",
          "56, Emerald Street, Cardiff CF24 1QB",
          "84, Arabella Street, Cardiff CF24 4TB",
          "84, Arabella Street, Cardiff CF24 4TB",
          "84, Arabella Street, Cardiff CF24 4TB",
          "84, Arabella Street, Cardiff CF24 4TB",
          "73, Marlborough Road, Cardiff CF23 5BU",
          "73, Marlborough Road, Cardiff CF23 5BU",
          "4, Blanche Street, Cardiff CF24 1QT",
          "4, Blanche Street, Cardiff CF24 1QT",
          "51, Constellation Street, Cardiff CF24 0HJ",
          "51, Constellation Street, Cardiff CF24 0HJ",
          "51, Constellation Street, Cardiff CF24 0HJ",
          "51, Constellation Street, Cardiff CF24 0HJ",
          "51, Constellation Street, Cardiff CF24 0HJ",
          "225, Inverness Place, Cardiff CF24 4RY",
          "225, Inverness Place, Cardiff CF24 4RY",
          "225, Inverness Place, Cardiff CF24 4RY",
          "225, Inverness Place, Cardiff CF24 4RY",
          "225, Inverness Place, Cardiff CF24 4RY",
          "15, Waterloo Close, Cardiff CF23 5ED",
          "15, Waterloo Close, Cardiff CF23 5ED",
          "19, Braeval Street, Cardiff CF24 4SJ",
          "19, Braeval Street, Cardiff CF24 4SJ",
          "12, Spring Gardens Place, Cardiff CF24 1QZ",
          "12, Spring Gardens Place, Cardiff CF24 1QZ",
          "12, Spring Gardens Place, Cardiff CF24 1QZ",
          "28, Elm Street, Cardiff CF24 3QS",
          "28, Elm Street, Cardiff CF24 3QS",
          "28, Elm Street, Cardiff CF24 3QS",
          "1, Cameron Street, Cardiff CF24 2NX",
          "1, Cameron Street, Cardiff CF24 2NX",
          "1, Cameron Street, Cardiff CF24 2NX",
          "1, Cameron Street, Cardiff CF24 2NX",
          "88, Colchester Avenue, Penylan, Cardiff CF23 9AZ",
          "88, Colchester Avenue, Penylan, Cardiff CF23 9AZ",
          "22, Upper Kincraig Street, Roath, Cardiff CF24 3HA",
          "22, Upper Kincraig Street, Roath, Cardiff CF24 3HA",
          "7, Stacey Road, Cardiff CF24 1DR",
          "7, Stacey Road, Cardiff CF24 1DR",
          "7, Stacey Road, Cardiff CF24 1DR",
          "7, Stacey Road, Cardiff CF24 1DR",
          "7, Stacey Road, Cardiff CF24 1DR",
          "7, Stacey Road, Cardiff CF24 1DR",
          "7, Stacey Road, Cardiff CF24 1DR",
          "11, Prince Leopold Street, Cardiff CF24 0HT",
          "11, Prince Leopold Street, Cardiff CF24 0HT",
          "10, Morlais Street, Cardiff CF23 5HQ",
          "10, Morlais Street, Cardiff CF23 5HQ",
          "10, Morlais Street, Cardiff CF23 5HQ",
          "83, Cyfarthfa Street, Cardiff CF24 3HF",
          "83, Cyfarthfa Street, Cardiff CF24 3HF",
          "83, Cyfarthfa Street, Cardiff CF24 3HF",
          "20, Prince Leopold Street, Cardiff CF24 0HT",
          "20, Prince Leopold Street, Cardiff CF24 0HT",
          "39, Doe Close, Penylan, Cardiff CF23 9HJ",
          "138, Mackintosh Place, Cardiff CF24 4RS",
          "129, Cyfarthfa Street, Cardiff CF24 3HH",
          "129, Cyfarthfa Street, Cardiff CF24 3HH",
          "129, Cyfarthfa Street, Cardiff CF24 3HH",
          "129, Cyfarthfa Street, Cardiff CF24 3HH",
          "40, Spring Gardens Terrace, Cardiff CF24 1QX",
          "40, Spring Gardens Terrace, Cardiff CF24 1QX",
          "40, Spring Gardens Terrace, Cardiff CF24 1QX",
          "40, Spring Gardens Terrace, Cardiff CF24 1QX",
          "26, Deri Road, Cardiff CF23 5AJ",
          "26, Deri Road, Cardiff CF23 5AJ",
          "15, Blanche Street, Cardiff CF24 1QS",
          "138, Donald Street, Cardiff CF24 4TN",
          "37, Blanche Street, Cardiff CF24 1QS",
          "37, Blanche Street, Cardiff CF24 1QS",
          "37, Blanche Street, Cardiff CF24 1QS",
          "37, Blanche Street, Cardiff CF24 1QS",
          "10, Wellfield Place, Cardiff CF24 3PD",
          "10, Wellfield Place, Cardiff CF24 3PD",
          "37, Mafeking Road, Cardiff CF23 5DQ",
          "37, Mafeking Road, Cardiff CF23 5DQ",
          "114, Inverness Place, Cardiff CF24 4SA",
          "114, Inverness Place, Cardiff CF24 4SA",
          "114, Inverness Place, Cardiff CF24 4SA",
          "114, Inverness Place, Cardiff CF24 4SA",
          "114, Inverness Place, Cardiff CF24 4SA",
          "Ground Floor Flat, 106, Connaught Road, Cardiff CF24 3PY",
          "26, Moira Place, Cardiff CF24 0ET",
          "26, Moira Place, Cardiff CF24 0ET",
          "26, Moira Place, Cardiff CF24 0ET",
          "5, Melrose Avenue, Penylan, Cardiff CF23 9AR",
          "45, Upper Kincraig Street, Roath, Cardiff CF24 3HB",
          "45, Upper Kincraig Street, Roath, Cardiff CF24 3HB",
          "45, Upper Kincraig Street, Roath, Cardiff CF24 3HB",
          "45, Upper Kincraig Street, Roath, Cardiff CF24 3HB",
          "45, Upper Kincraig Street, Roath, Cardiff CF24 3HB",
          "31, Amesbury Road, Cardiff CF23 5DW",
          "31, Amesbury Road, Cardiff CF23 5DW",
          "31, Amesbury Road, Cardiff CF23 5DW",
          "12, Orbit Street, Cardiff CF24 0JX",
          "12, Orbit Street, Cardiff CF24 0JX",
          "118, Kimberley Road, Cardiff CF23 5AF",
          "118, Kimberley Road, Cardiff CF23 5AF",
          "78, Inverness Place, Cardiff CF24 4SA",
          "117, Westville Road, Cardiff CF23 5AG",
          "96, Ffordd Nowell, Penylan, Cardiff CF23 9FB",
          "96, Ffordd Nowell, Penylan, Cardiff CF23 9FB",
          "96, Ffordd Nowell, Penylan, Cardiff CF23 9FB",
          "6, Silver Street, Cardiff CF24 0LG",
          "6, Silver Street, Cardiff CF24 0LG",
          "71, Clifton Street, Cardiff CF24 1LT",
          "71, Clifton Street, Cardiff CF24 1LT",
          "71, Clifton Street, Cardiff CF24 1LT",
          "71, Clifton Street, Cardiff CF24 1LT",
          "71, Clifton Street, Cardiff CF24 1LT",
          "120, Cottrell Road, Roath, Cardiff CF24 3EX",
          "265, Albany Road, Cardiff CF24 3NX",
          "265, Albany Road, Cardiff CF24 3NX",
          "29, Spring Gardens Place, Cardiff CF24 1QY",
          "29, Spring Gardens Place, Cardiff CF24 1QY",
          "29, Spring Gardens Place, Cardiff CF24 1QY",
          "84, Cottrell Road, Roath, Cardiff CF24 3EZ",
          "84, Cottrell Road, Roath, Cardiff CF24 3EZ",
          "91, Mackintosh Place, Cardiff CF24 4RL",
          "91, Mackintosh Place, Cardiff CF24 4RL",
          "91, Mackintosh Place, Cardiff CF24 4RL",
          "91, Mackintosh Place, Cardiff CF24 4RL",
          "9, Alfred Street, Cardiff CF24 4TY",
          "9, Alfred Street, Cardiff CF24 4TY",
          "9, Alfred Street, Cardiff CF24 4TY",
          "16, Talworth Street, Roath, Cardiff CF24 3EJ",
          "16, Talworth Street, Roath, Cardiff CF24 3EJ",
          "16, Talworth Street, Roath, Cardiff CF24 3EJ",
          "16, Talworth Street, Roath, Cardiff CF24 3EJ",
          "20, Silver Street, Cardiff CF24 0LG",
          "20, Silver Street, Cardiff CF24 0LG",
          "20, Silver Street, Cardiff CF24 0LG",
          "20, Minster Road, Cardiff CF23 5AS",
          "20, Minster Road, Cardiff CF23 5AS",
          "20, Minster Road, Cardiff CF23 5AS",
          "20, Minster Road, Cardiff CF23 5AS",
          "20, Minster Road, Cardiff CF23 5AS",
          "133, Keppoch Street, Cardiff CF24 3JU",
          "133, Keppoch Street, Cardiff CF24 3JU",
          "133, Keppoch Street, Cardiff CF24 3JU",
          "133, Keppoch Street, Cardiff CF24 3JU",
          "133, Keppoch Street, Cardiff CF24 3JU",
          "133, Keppoch Street, Cardiff CF24 3JU",
          "34a, Stacey Road, Cardiff CF24 1DU",
          "34a, Stacey Road, Cardiff CF24 1DU",
          "36, Topaz Street, Cardiff CF24 1PH",
          "36, Topaz Street, Cardiff CF24 1PH",
          "36, Topaz Street, Cardiff CF24 1PH",
          "43, Inverness Place, Cardiff CF24 4RU",
          "43, Inverness Place, Cardiff CF24 4RU",
          "43, Inverness Place, Cardiff CF24 4RU",
          "43, Inverness Place, Cardiff CF24 4RU",
          "43, Inverness Place, Cardiff CF24 4RU"
         ],
         "lat": [
          51.49517,
          51.49517,
          51.48374,
          51.48374,
          51.48374,
          51.48374,
          51.49129,
          51.49129,
          51.49129,
          51.49129,
          51.49692,
          51.49692,
          51.49692,
          51.49692,
          51.48955,
          51.48955,
          51.48955,
          51.48955,
          51.48812,
          51.48812,
          51.48848,
          51.49299,
          51.49299,
          51.49299,
          51.49299,
          51.4975,
          51.48647,
          51.48647,
          51.48647,
          51.48505,
          51.49583,
          51.49583,
          51.48849,
          51.48849,
          51.48849,
          51.48694,
          51.48694,
          51.48694,
          51.48694,
          51.48694,
          51.48694,
          51.49288,
          51.49288,
          51.49288,
          51.49045,
          51.49045,
          51.49662,
          51.49662,
          51.49662,
          51.49662,
          51.48854,
          51.48854,
          51.4922,
          51.4922,
          51.4922,
          51.49654,
          51.49654,
          51.49654,
          51.48567,
          51.48567,
          51.48567,
          51.48567,
          51.49612,
          51.49612,
          51.49662,
          51.49662,
          51.49011,
          51.49011,
          51.49011,
          51.48863,
          51.48863,
          51.48863,
          51.49689,
          51.49689,
          51.49689,
          51.49544,
          51.49544,
          51.49544,
          51.49544,
          51.49544,
          51.49544,
          51.49689,
          51.49689,
          51.49689,
          51.49227,
          51.49227,
          51.49227,
          51.49227,
          51.49728,
          51.49728,
          51.49728,
          51.48762,
          51.48762,
          51.48762,
          51.48762,
          51.49759,
          51.49759,
          51.49759,
          51.49759,
          51.49759,
          51.49225,
          51.49225,
          51.49225,
          51.49225,
          51.49225,
          51.49207,
          51.49207,
          51.49021,
          51.49021,
          51.49021,
          51.48374,
          51.48374,
          51.48861,
          51.49201,
          51.49201,
          51.49201,
          51.48927,
          51.48927,
          51.48927,
          51.49084,
          51.49084,
          51.49728,
          51.48571,
          51.48571,
          51.49574,
          51.49574,
          51.49129,
          51.49129,
          51.49129,
          51.49129,
          51.49227,
          51.49227,
          51.49227,
          51.49101,
          51.49101,
          51.48981,
          51.48981,
          51.48981,
          51.48981,
          51.48848,
          51.48848,
          51.49742,
          51.49742,
          51.49742,
          51.49742,
          51.49742,
          51.49433,
          51.49433,
          51.48248,
          51.48248,
          51.48248,
          51.48248,
          51.48248,
          51.48248,
          51.48248,
          51.48248,
          51.4958,
          51.4958,
          51.4958,
          51.4958,
          51.4927,
          51.4927,
          51.4927,
          51.4927,
          51.4927,
          51.4927,
          51.4927,
          51.49121,
          51.49006,
          51.49006,
          51.48849,
          51.48849,
          51.48849,
          51.48849,
          51.49021,
          51.49021,
          51.49021,
          51.49021,
          51.49021,
          51.49692,
          51.49692,
          51.49692,
          51.49393,
          51.49393,
          51.49393,
          51.49393,
          51.49393,
          51.49112,
          51.49112,
          51.49112,
          51.49112,
          51.49112,
          51.49112,
          51.48717,
          51.48717,
          51.48717,
          51.49642,
          51.49642,
          51.4944,
          51.4944,
          51.4944,
          51.4944,
          51.4944,
          51.49544,
          51.49544,
          51.49544,
          51.4944,
          51.4944,
          51.4944,
          51.49508,
          51.49508,
          51.49508,
          51.49021,
          51.49129,
          51.49129,
          51.49129,
          51.49129,
          51.49227,
          51.49227,
          51.49227,
          51.49227,
          51.49227,
          51.49006,
          51.49006,
          51.49006,
          51.49006,
          51.49021,
          51.48809,
          51.48809,
          51.48809,
          51.48809,
          51.48809,
          51.49508,
          51.49011,
          51.49011,
          51.49011,
          51.49011,
          51.48863,
          51.48863,
          51.48863,
          51.48991,
          51.48991,
          51.4975,
          51.4975,
          51.4975,
          51.48936,
          51.48936,
          51.49686,
          51.49686,
          51.49686,
          51.49686,
          51.49689,
          51.49689,
          51.49689,
          51.49491,
          51.49491,
          51.48695,
          51.48695,
          51.49486,
          51.49486,
          51.49486,
          51.49486,
          51.49486,
          51.49486,
          51.48955,
          51.48955,
          51.49759,
          51.49519,
          51.49519,
          51.49519,
          51.49566,
          51.49566,
          51.49566,
          51.49566,
          51.48603,
          51.48603,
          51.48603,
          51.48603,
          51.48374,
          51.48374,
          51.48374,
          51.48374,
          51.49006,
          51.49049,
          51.49049,
          51.49049,
          51.49049,
          51.49049,
          51.49049,
          51.49271,
          51.49271,
          51.49271,
          51.49517,
          51.49517,
          51.49517,
          51.49427,
          51.49427,
          51.49427,
          51.49427,
          51.48829,
          51.48829,
          51.49121,
          51.49121,
          51.48669,
          51.48669,
          51.48669,
          51.48669,
          51.48669,
          51.48973,
          51.48973,
          51.48973,
          51.48973,
          51.48973,
          51.48973,
          51.49662,
          51.49662,
          51.49662,
          51.49055,
          51.49055,
          51.49055,
          51.49055,
          51.48374,
          51.48374,
          51.48374,
          51.48374,
          51.48374,
          51.49309,
          51.49435,
          51.49435,
          51.49435,
          51.49435,
          51.49035,
          51.49035,
          51.49035,
          51.49317,
          51.49317,
          51.49317,
          51.49317,
          51.49716,
          51.49716,
          51.49716,
          51.49716,
          51.49716,
          51.49716,
          51.48588,
          51.48588,
          51.48588,
          51.48588,
          51.48849,
          51.48849,
          51.48849,
          51.49299,
          51.48213,
          51.48213,
          51.49573,
          51.49573,
          51.48374,
          51.49623,
          51.49623,
          51.49623,
          51.49623,
          51.49623,
          51.48762,
          51.49214,
          51.49214,
          51.49393,
          51.49393,
          51.49393,
          51.49606,
          51.49606,
          51.48505,
          51.48505,
          51.48505,
          51.48276,
          51.48276,
          51.48276,
          51.49515,
          51.49515,
          51.49515,
          51.49515,
          51.49752,
          51.49172,
          51.49172,
          51.49172,
          51.4922,
          51.4922,
          51.49692,
          51.49692,
          51.49036,
          51.49903,
          51.49903,
          51.49903,
          51.49903,
          51.483,
          51.48392,
          51.48392,
          51.4888,
          51.48973,
          51.48973,
          51.48973,
          51.48973,
          51.48973,
          51.49227,
          51.49227,
          51.49227,
          51.49227,
          51.49227,
          51.49172,
          51.49172,
          51.49172,
          51.49172,
          51.49172,
          51.49227,
          51.49227,
          51.48624,
          51.48624,
          51.48624,
          51.48624,
          51.49536,
          51.49536,
          51.49536,
          51.49536,
          51.49405,
          51.49405,
          51.48955,
          51.48955,
          51.48243,
          51.48243,
          51.48243,
          51.48243,
          51.48243,
          51.4975,
          51.4975,
          51.4975,
          51.4975,
          51.4975,
          51.49502,
          51.49502,
          51.49435,
          51.49435,
          51.49046,
          51.49046,
          51.49046,
          51.48806,
          51.48806,
          51.48806,
          51.48676,
          51.48676,
          51.48676,
          51.48676,
          51.49812,
          51.49812,
          51.49172,
          51.49172,
          51.48831,
          51.48831,
          51.48831,
          51.48831,
          51.48831,
          51.48831,
          51.48831,
          51.48153,
          51.48153,
          51.4993,
          51.4993,
          51.4993,
          51.49011,
          51.49011,
          51.49011,
          51.48153,
          51.48153,
          51.49689,
          51.49633,
          51.49049,
          51.49049,
          51.49049,
          51.49049,
          51.48992,
          51.48992,
          51.48992,
          51.48992,
          51.49544,
          51.49544,
          51.48981,
          51.49672,
          51.48981,
          51.48981,
          51.48981,
          51.48981,
          51.49471,
          51.49471,
          51.49772,
          51.49772,
          51.49526,
          51.49526,
          51.49526,
          51.49526,
          51.49526,
          51.4931,
          51.48169,
          51.48169,
          51.48169,
          51.49854,
          51.49201,
          51.49201,
          51.49201,
          51.49201,
          51.49201,
          51.49692,
          51.49692,
          51.49692,
          51.48504,
          51.48504,
          51.49642,
          51.49642,
          51.49526,
          51.49606,
          51.49539,
          51.49539,
          51.49539,
          51.4855,
          51.4855,
          51.48374,
          51.48374,
          51.48374,
          51.48374,
          51.48374,
          51.49317,
          51.49289,
          51.49289,
          51.49064,
          51.49064,
          51.49064,
          51.4922,
          51.4922,
          51.49516,
          51.49516,
          51.49516,
          51.49516,
          51.4944,
          51.4944,
          51.4944,
          51.4892,
          51.4892,
          51.4892,
          51.4892,
          51.4855,
          51.4855,
          51.4855,
          51.49223,
          51.49223,
          51.49223,
          51.49223,
          51.49223,
          51.49227,
          51.49227,
          51.49227,
          51.49227,
          51.49227,
          51.49227,
          51.48913,
          51.48913,
          51.48526,
          51.48526,
          51.48526,
          51.49356,
          51.49356,
          51.49356,
          51.49356,
          51.49356
         ],
         "legendgroup": "",
         "lon": [
          -3.15421,
          -3.15421,
          -3.1558,
          -3.1558,
          -3.1558,
          -3.1558,
          -3.16463,
          -3.16463,
          -3.16463,
          -3.16463,
          -3.15872,
          -3.15872,
          -3.15872,
          -3.15872,
          -3.15018,
          -3.15018,
          -3.15018,
          -3.15018,
          -3.14899,
          -3.14899,
          -3.16686,
          -3.16568,
          -3.16568,
          -3.16568,
          -3.16568,
          -3.17314,
          -3.15241,
          -3.15241,
          -3.15241,
          -3.15972,
          -3.16892,
          -3.16892,
          -3.14727,
          -3.14727,
          -3.14727,
          -3.14997,
          -3.14997,
          -3.14997,
          -3.14997,
          -3.14997,
          -3.14997,
          -3.16741,
          -3.16741,
          -3.16741,
          -3.15885,
          -3.15885,
          -3.17139,
          -3.17139,
          -3.17139,
          -3.17139,
          -3.1611,
          -3.1611,
          -3.16408,
          -3.16408,
          -3.16408,
          -3.16131,
          -3.16131,
          -3.16131,
          -3.16031,
          -3.16031,
          -3.16031,
          -3.16031,
          -3.16691,
          -3.16691,
          -3.17139,
          -3.17139,
          -3.16618,
          -3.16618,
          -3.16618,
          -3.15145,
          -3.15145,
          -3.15145,
          -3.15296,
          -3.15296,
          -3.15296,
          -3.15451,
          -3.15451,
          -3.15451,
          -3.15451,
          -3.15451,
          -3.15451,
          -3.15296,
          -3.15296,
          -3.15296,
          -3.16537,
          -3.16537,
          -3.16537,
          -3.16537,
          -3.16853,
          -3.16853,
          -3.16853,
          -3.15402,
          -3.15402,
          -3.15402,
          -3.15402,
          -3.15543,
          -3.15543,
          -3.15543,
          -3.15543,
          -3.15543,
          -3.16768,
          -3.16768,
          -3.16768,
          -3.16768,
          -3.16768,
          -3.15889,
          -3.15889,
          -3.16489,
          -3.16489,
          -3.16489,
          -3.1558,
          -3.1558,
          -3.1539,
          -3.16508,
          -3.16508,
          -3.16508,
          -3.15046,
          -3.15046,
          -3.15046,
          -3.16519,
          -3.16519,
          -3.16853,
          -3.15657,
          -3.15657,
          -3.16921,
          -3.16921,
          -3.16463,
          -3.16463,
          -3.16463,
          -3.16463,
          -3.16537,
          -3.16537,
          -3.16537,
          -3.1567,
          -3.1567,
          -3.15019,
          -3.15019,
          -3.15019,
          -3.15019,
          -3.16686,
          -3.16686,
          -3.17213,
          -3.17213,
          -3.17213,
          -3.17213,
          -3.17213,
          -3.15722,
          -3.15722,
          -3.16484,
          -3.16484,
          -3.16484,
          -3.16484,
          -3.16484,
          -3.16484,
          -3.16484,
          -3.16484,
          -3.17281,
          -3.17281,
          -3.17281,
          -3.17281,
          -3.16212,
          -3.16212,
          -3.16212,
          -3.16212,
          -3.16212,
          -3.16212,
          -3.16212,
          -3.16333,
          -3.15221,
          -3.15221,
          -3.14727,
          -3.14727,
          -3.14727,
          -3.14727,
          -3.16489,
          -3.16489,
          -3.16489,
          -3.16489,
          -3.16489,
          -3.15872,
          -3.15872,
          -3.15872,
          -3.17031,
          -3.17031,
          -3.17031,
          -3.17031,
          -3.17031,
          -3.16419,
          -3.16419,
          -3.16419,
          -3.16419,
          -3.16419,
          -3.16419,
          -3.16337,
          -3.16337,
          -3.16337,
          -3.15554,
          -3.15554,
          -3.16817,
          -3.16817,
          -3.16817,
          -3.16817,
          -3.16817,
          -3.15451,
          -3.15451,
          -3.15451,
          -3.16817,
          -3.16817,
          -3.16817,
          -3.15378,
          -3.15378,
          -3.15378,
          -3.16489,
          -3.16463,
          -3.16463,
          -3.16463,
          -3.16463,
          -3.16537,
          -3.16537,
          -3.16537,
          -3.16537,
          -3.16537,
          -3.15221,
          -3.15221,
          -3.15221,
          -3.15221,
          -3.16489,
          -3.15202,
          -3.15202,
          -3.15202,
          -3.15202,
          -3.15202,
          -3.17279,
          -3.16618,
          -3.16618,
          -3.16618,
          -3.16618,
          -3.15145,
          -3.15145,
          -3.15145,
          -3.16776,
          -3.16776,
          -3.17314,
          -3.17314,
          -3.17314,
          -3.15968,
          -3.15968,
          -3.15598,
          -3.15598,
          -3.15598,
          -3.15598,
          -3.15296,
          -3.15296,
          -3.15296,
          -3.15334,
          -3.15334,
          -3.15761,
          -3.15761,
          -3.16717,
          -3.16717,
          -3.16717,
          -3.16717,
          -3.16717,
          -3.16717,
          -3.15018,
          -3.15018,
          -3.15543,
          -3.16156,
          -3.16156,
          -3.16156,
          -3.17004,
          -3.17004,
          -3.17004,
          -3.17004,
          -3.15139,
          -3.15139,
          -3.15139,
          -3.15139,
          -3.1558,
          -3.1558,
          -3.1558,
          -3.1558,
          -3.15221,
          -3.16346,
          -3.16346,
          -3.16346,
          -3.16346,
          -3.16346,
          -3.16346,
          -3.16668,
          -3.16668,
          -3.16668,
          -3.17236,
          -3.17236,
          -3.17236,
          -3.1722,
          -3.1722,
          -3.1722,
          -3.1722,
          -3.15015,
          -3.15015,
          -3.16333,
          -3.16333,
          -3.15731,
          -3.15731,
          -3.15731,
          -3.15731,
          -3.15731,
          -3.16761,
          -3.16761,
          -3.16761,
          -3.16761,
          -3.16761,
          -3.16761,
          -3.17139,
          -3.17139,
          -3.17139,
          -3.16634,
          -3.16634,
          -3.16634,
          -3.16634,
          -3.1558,
          -3.1558,
          -3.1558,
          -3.1558,
          -3.1558,
          -3.14638,
          -3.17378,
          -3.17378,
          -3.17378,
          -3.17378,
          -3.15956,
          -3.15956,
          -3.15956,
          -3.16511,
          -3.16511,
          -3.16511,
          -3.16511,
          -3.16204,
          -3.16204,
          -3.16204,
          -3.16204,
          -3.16204,
          -3.16204,
          -3.15671,
          -3.15671,
          -3.15671,
          -3.15671,
          -3.14727,
          -3.14727,
          -3.14727,
          -3.16568,
          -3.16368,
          -3.16368,
          -3.161,
          -3.161,
          -3.1558,
          -3.17441,
          -3.17441,
          -3.17441,
          -3.17441,
          -3.17441,
          -3.15402,
          -3.16091,
          -3.16091,
          -3.17031,
          -3.17031,
          -3.17031,
          -3.15539,
          -3.15539,
          -3.15972,
          -3.15972,
          -3.15972,
          -3.16384,
          -3.16384,
          -3.16384,
          -3.17395,
          -3.17395,
          -3.17395,
          -3.17395,
          -3.17113,
          -3.16623,
          -3.16623,
          -3.16623,
          -3.16408,
          -3.16408,
          -3.15872,
          -3.15872,
          -3.16821,
          -3.17304,
          -3.17304,
          -3.17304,
          -3.17304,
          -3.15765,
          -3.15537,
          -3.15537,
          -3.17047,
          -3.16761,
          -3.16761,
          -3.16761,
          -3.16761,
          -3.16761,
          -3.16537,
          -3.16537,
          -3.16537,
          -3.16537,
          -3.16537,
          -3.16623,
          -3.16623,
          -3.16623,
          -3.16623,
          -3.16623,
          -3.16537,
          -3.16537,
          -3.15687,
          -3.15687,
          -3.15687,
          -3.15687,
          -3.17107,
          -3.17107,
          -3.17107,
          -3.17107,
          -3.15879,
          -3.15879,
          -3.15018,
          -3.15018,
          -3.16052,
          -3.16052,
          -3.16052,
          -3.16052,
          -3.16052,
          -3.17314,
          -3.17314,
          -3.17314,
          -3.17314,
          -3.17314,
          -3.15162,
          -3.15162,
          -3.17378,
          -3.17378,
          -3.14833,
          -3.14833,
          -3.14833,
          -3.16368,
          -3.16368,
          -3.16368,
          -3.14954,
          -3.14954,
          -3.14954,
          -3.14954,
          -3.15573,
          -3.15573,
          -3.16623,
          -3.16623,
          -3.15721,
          -3.15721,
          -3.15721,
          -3.15721,
          -3.15721,
          -3.15721,
          -3.15721,
          -3.1602,
          -3.1602,
          -3.17348,
          -3.17348,
          -3.17348,
          -3.16618,
          -3.16618,
          -3.16618,
          -3.1602,
          -3.1602,
          -3.15296,
          -3.17326,
          -3.16346,
          -3.16346,
          -3.16346,
          -3.16346,
          -3.14817,
          -3.14817,
          -3.14817,
          -3.14817,
          -3.15451,
          -3.15451,
          -3.15019,
          -3.17053,
          -3.15019,
          -3.15019,
          -3.15019,
          -3.15019,
          -3.16486,
          -3.16486,
          -3.16047,
          -3.16047,
          -3.17193,
          -3.17193,
          -3.17193,
          -3.17193,
          -3.17193,
          -3.16324,
          -3.16294,
          -3.16294,
          -3.16294,
          -3.15934,
          -3.16508,
          -3.16508,
          -3.16508,
          -3.16508,
          -3.16508,
          -3.15872,
          -3.15872,
          -3.15872,
          -3.16029,
          -3.16029,
          -3.15554,
          -3.15554,
          -3.17193,
          -3.15539,
          -3.15018,
          -3.15018,
          -3.15018,
          -3.15887,
          -3.15887,
          -3.1558,
          -3.1558,
          -3.1558,
          -3.1558,
          -3.1558,
          -3.16511,
          -3.15704,
          -3.15704,
          -3.14848,
          -3.14848,
          -3.14848,
          -3.16408,
          -3.16408,
          -3.17337,
          -3.17337,
          -3.17337,
          -3.17337,
          -3.16817,
          -3.16817,
          -3.16817,
          -3.16674,
          -3.16674,
          -3.16674,
          -3.16674,
          -3.15887,
          -3.15887,
          -3.15887,
          -3.15183,
          -3.15183,
          -3.15183,
          -3.15183,
          -3.15183,
          -3.16537,
          -3.16537,
          -3.16537,
          -3.16537,
          -3.16537,
          -3.16537,
          -3.15579,
          -3.15579,
          -3.15598,
          -3.15598,
          -3.15598,
          -3.1716,
          -3.1716,
          -3.1716,
          -3.1716,
          -3.1716
         ],
         "marker": {
          "color": [
           437000,
           330000,
           240000,
           207000,
           151000,
           80500,
           250000,
           172500,
           125000,
           68000,
           252000,
           167500,
           79950,
           45500,
           230000,
           131000,
           127000,
           57300,
           233750,
           206000,
           250000,
           245000,
           191250,
           151000,
           138500,
           237000,
           220000,
           135000,
           101000,
           238000,
           275000,
           81000,
           202000,
           155000,
           41950,
           240000,
           220000,
           150000,
           139500,
           108000,
           62000,
           245000,
           193000,
           124500,
           430000,
           249999,
           340000,
           218000,
           181000,
           75000,
           422000,
           169000,
           261000,
           169500,
           44000,
           680000,
           462000,
           307500,
           290000,
           180000,
           198000,
           50500,
           495000,
           335000,
           310000,
           239950,
           229500,
           165000,
           65000,
           270000,
           69500,
           20000,
           357500,
           235000,
           207500,
           483000,
           396000,
           370000,
           249999,
           199950,
           72500,
           325000,
           224950,
           239250,
           257500,
           215000,
           156000,
           104950,
           422250,
           93000,
           76000,
           245000,
           196000,
           145000,
           40000,
           450000,
           340550,
           262000,
           240000,
           116000,
           270000,
           182500,
           164950,
           134000,
           46500,
           535000,
           126000,
           253000,
           210000,
           167000,
           190000,
           128000,
           190000,
           273000,
           178000,
           85500,
           205000,
           51500,
           58000,
           263000,
           175000,
           336000,
           234000,
           175000,
           289750,
           168000,
           241000,
           135000,
           85950,
           60000,
           245000,
           166500,
           124000,
           505000,
           87950,
           225000,
           165000,
           133500,
           56000,
           260000,
           169950,
           277500,
           220000,
           205000,
           172000,
           164250,
           660000,
           553000,
           127000,
           120000,
           110000,
           98000,
           85000,
           80000,
           34500,
           26000,
           225000,
           185000,
           155000,
           43000,
           175000,
           142000,
           118500,
           102500,
           95000,
           67000,
           29000,
           210000,
           190000,
           25704,
           190000,
           155000,
           120000,
           44950,
           256000,
           210000,
           160000,
           134000,
           142000,
           507500,
           365000,
           105000,
           192500,
           149950,
           66000,
           49000,
           43950,
           265000,
           210000,
           150000,
           159950,
           77000,
           43950,
           490000,
           350000,
           100000,
           425000,
           270000,
           318000,
           270000,
           180000,
           135000,
           66000,
           530250,
           298000,
           208000,
           285000,
           235000,
           155000,
           547000,
           226500,
           240000,
           215000,
           270000,
           255050,
           217000,
           59995,
           236000,
           165000,
           157000,
           152000,
           87000,
           212500,
           198000,
           140000,
           130000,
           224000,
           250000,
           215000,
           130000,
           48500,
           41500,
           335000,
           248000,
           149950,
           114600,
           71000,
           240000,
           189000,
           52000,
           220000,
           60000,
           335000,
           247500,
           153000,
           132000,
           105000,
           482500,
           390000,
           307500,
           175000,
           365000,
           239950,
           225000,
           477500,
           405000,
           195000,
           39950,
           264000,
           250000,
           197000,
           140000,
           48050,
           41000,
           190000,
           125000,
           475000,
           185000,
           180000,
           196950,
           310000,
           225000,
           92000,
           70500,
           240000,
           165000,
           87500,
           75000,
           197000,
           172000,
           133000,
           87500,
           210000,
           245000,
           152000,
           148500,
           85000,
           59950,
           41000,
           260000,
           175000,
           103000,
           320000,
           240000,
           174950,
           220000,
           136500,
           126579,
           50000,
           232000,
           38000,
           245000,
           58500,
           230000,
           169950,
           79950,
           69950,
           49250,
           250000,
           185000,
           139000,
           144000,
           116000,
           85500,
           250000,
           195500,
           155000,
           232000,
           175200,
           140500,
           46950,
           212000,
           150000,
           124000,
           114000,
           45500,
           230000,
           270000,
           227500,
           157000,
           80000,
           480000,
           365000,
           72000,
           245000,
           150000,
           73000,
           50000,
           575000,
           428450,
           340000,
           312000,
           282000,
           190000,
           230000,
           138000,
           122500,
           39500,
           160000,
           130000,
           100000,
           225000,
           140000,
           85500,
           505000,
           120000,
           225000,
           138000,
           101000,
           65000,
           33500,
           30000,
           205000,
           490000,
           238000,
           295000,
           200000,
           151000,
           485000,
           250000,
           245000,
           146000,
           105000,
           215000,
           146000,
           100000,
           245000,
           179950,
           145000,
           60000,
           194000,
           269000,
           155000,
           49950,
           290000,
           154950,
           450000,
           225000,
           236500,
           502000,
           430000,
           405000,
           135000,
           178000,
           265000,
           220000,
           210000,
           250000,
           238344,
           163100,
           140000,
           60000,
           235000,
           152000,
           145250,
           70000,
           55500,
           275000,
           156500,
           147000,
           99000,
           49950,
           234500,
           46750,
           220000,
           135500,
           135000,
           137000,
           300550,
           222000,
           85000,
           58750,
           467000,
           98000,
           193000,
           40000,
           220000,
           130000,
           136242,
           135000,
           51500,
           349000,
           290000,
           250000,
           160000,
           60000,
           280000,
           64000,
           267000,
           182500,
           210000,
           141000,
           29000,
           247000,
           227500,
           110000,
           250000,
           200000,
           120000,
           37500,
           690000,
           310000,
           225000,
           196775,
           306250,
           220000,
           180000,
           132500,
           72000,
           57950,
           57950,
           205000,
           185000,
           500000,
           448000,
           95000,
           220000,
           135000,
           56950,
           175000,
           42000,
           340000,
           243500,
           245000,
           173000,
           179000,
           100000,
           193000,
           147000,
           110000,
           38750,
           525000,
           345000,
           190000,
           295000,
           235000,
           160000,
           110000,
           120000,
           286000,
           145000,
           505000,
           285000,
           312000,
           160000,
           155000,
           150000,
           77950,
           172250,
           303000,
           62000,
           33000,
           435000,
           268000,
           205000,
           167500,
           143000,
           69000,
           465000,
           260000,
           84000,
           140000,
           128000,
           675000,
           105550,
           280000,
           360000,
           345000,
           300500,
           280000,
           242000,
           149950,
           192500,
           137000,
           93000,
           53000,
           37000,
           267500,
           510000,
           400000,
           200000,
           165000,
           133000,
           249000,
           139580,
           175000,
           147000,
           117000,
           56875,
           220000,
           109664,
           85000,
           240000,
           184000,
           183950,
           90000,
           236000,
           137500,
           47500,
           418863,
           315000,
           250000,
           182500,
           89950,
           234950,
           203000,
           149000,
           159950,
           86000,
           42500,
           145500,
           97000,
           231000,
           205000,
           115000,
           217000,
           206000,
           159950,
           118000,
           55000
          ],
          "coloraxis": "coloraxis",
          "size": [
           437000,
           330000,
           240000,
           207000,
           151000,
           80500,
           250000,
           172500,
           125000,
           68000,
           252000,
           167500,
           79950,
           45500,
           230000,
           131000,
           127000,
           57300,
           233750,
           206000,
           250000,
           245000,
           191250,
           151000,
           138500,
           237000,
           220000,
           135000,
           101000,
           238000,
           275000,
           81000,
           202000,
           155000,
           41950,
           240000,
           220000,
           150000,
           139500,
           108000,
           62000,
           245000,
           193000,
           124500,
           430000,
           249999,
           340000,
           218000,
           181000,
           75000,
           422000,
           169000,
           261000,
           169500,
           44000,
           680000,
           462000,
           307500,
           290000,
           180000,
           198000,
           50500,
           495000,
           335000,
           310000,
           239950,
           229500,
           165000,
           65000,
           270000,
           69500,
           20000,
           357500,
           235000,
           207500,
           483000,
           396000,
           370000,
           249999,
           199950,
           72500,
           325000,
           224950,
           239250,
           257500,
           215000,
           156000,
           104950,
           422250,
           93000,
           76000,
           245000,
           196000,
           145000,
           40000,
           450000,
           340550,
           262000,
           240000,
           116000,
           270000,
           182500,
           164950,
           134000,
           46500,
           535000,
           126000,
           253000,
           210000,
           167000,
           190000,
           128000,
           190000,
           273000,
           178000,
           85500,
           205000,
           51500,
           58000,
           263000,
           175000,
           336000,
           234000,
           175000,
           289750,
           168000,
           241000,
           135000,
           85950,
           60000,
           245000,
           166500,
           124000,
           505000,
           87950,
           225000,
           165000,
           133500,
           56000,
           260000,
           169950,
           277500,
           220000,
           205000,
           172000,
           164250,
           660000,
           553000,
           127000,
           120000,
           110000,
           98000,
           85000,
           80000,
           34500,
           26000,
           225000,
           185000,
           155000,
           43000,
           175000,
           142000,
           118500,
           102500,
           95000,
           67000,
           29000,
           210000,
           190000,
           25704,
           190000,
           155000,
           120000,
           44950,
           256000,
           210000,
           160000,
           134000,
           142000,
           507500,
           365000,
           105000,
           192500,
           149950,
           66000,
           49000,
           43950,
           265000,
           210000,
           150000,
           159950,
           77000,
           43950,
           490000,
           350000,
           100000,
           425000,
           270000,
           318000,
           270000,
           180000,
           135000,
           66000,
           530250,
           298000,
           208000,
           285000,
           235000,
           155000,
           547000,
           226500,
           240000,
           215000,
           270000,
           255050,
           217000,
           59995,
           236000,
           165000,
           157000,
           152000,
           87000,
           212500,
           198000,
           140000,
           130000,
           224000,
           250000,
           215000,
           130000,
           48500,
           41500,
           335000,
           248000,
           149950,
           114600,
           71000,
           240000,
           189000,
           52000,
           220000,
           60000,
           335000,
           247500,
           153000,
           132000,
           105000,
           482500,
           390000,
           307500,
           175000,
           365000,
           239950,
           225000,
           477500,
           405000,
           195000,
           39950,
           264000,
           250000,
           197000,
           140000,
           48050,
           41000,
           190000,
           125000,
           475000,
           185000,
           180000,
           196950,
           310000,
           225000,
           92000,
           70500,
           240000,
           165000,
           87500,
           75000,
           197000,
           172000,
           133000,
           87500,
           210000,
           245000,
           152000,
           148500,
           85000,
           59950,
           41000,
           260000,
           175000,
           103000,
           320000,
           240000,
           174950,
           220000,
           136500,
           126579,
           50000,
           232000,
           38000,
           245000,
           58500,
           230000,
           169950,
           79950,
           69950,
           49250,
           250000,
           185000,
           139000,
           144000,
           116000,
           85500,
           250000,
           195500,
           155000,
           232000,
           175200,
           140500,
           46950,
           212000,
           150000,
           124000,
           114000,
           45500,
           230000,
           270000,
           227500,
           157000,
           80000,
           480000,
           365000,
           72000,
           245000,
           150000,
           73000,
           50000,
           575000,
           428450,
           340000,
           312000,
           282000,
           190000,
           230000,
           138000,
           122500,
           39500,
           160000,
           130000,
           100000,
           225000,
           140000,
           85500,
           505000,
           120000,
           225000,
           138000,
           101000,
           65000,
           33500,
           30000,
           205000,
           490000,
           238000,
           295000,
           200000,
           151000,
           485000,
           250000,
           245000,
           146000,
           105000,
           215000,
           146000,
           100000,
           245000,
           179950,
           145000,
           60000,
           194000,
           269000,
           155000,
           49950,
           290000,
           154950,
           450000,
           225000,
           236500,
           502000,
           430000,
           405000,
           135000,
           178000,
           265000,
           220000,
           210000,
           250000,
           238344,
           163100,
           140000,
           60000,
           235000,
           152000,
           145250,
           70000,
           55500,
           275000,
           156500,
           147000,
           99000,
           49950,
           234500,
           46750,
           220000,
           135500,
           135000,
           137000,
           300550,
           222000,
           85000,
           58750,
           467000,
           98000,
           193000,
           40000,
           220000,
           130000,
           136242,
           135000,
           51500,
           349000,
           290000,
           250000,
           160000,
           60000,
           280000,
           64000,
           267000,
           182500,
           210000,
           141000,
           29000,
           247000,
           227500,
           110000,
           250000,
           200000,
           120000,
           37500,
           690000,
           310000,
           225000,
           196775,
           306250,
           220000,
           180000,
           132500,
           72000,
           57950,
           57950,
           205000,
           185000,
           500000,
           448000,
           95000,
           220000,
           135000,
           56950,
           175000,
           42000,
           340000,
           243500,
           245000,
           173000,
           179000,
           100000,
           193000,
           147000,
           110000,
           38750,
           525000,
           345000,
           190000,
           295000,
           235000,
           160000,
           110000,
           120000,
           286000,
           145000,
           505000,
           285000,
           312000,
           160000,
           155000,
           150000,
           77950,
           172250,
           303000,
           62000,
           33000,
           435000,
           268000,
           205000,
           167500,
           143000,
           69000,
           465000,
           260000,
           84000,
           140000,
           128000,
           675000,
           105550,
           280000,
           360000,
           345000,
           300500,
           280000,
           242000,
           149950,
           192500,
           137000,
           93000,
           53000,
           37000,
           267500,
           510000,
           400000,
           200000,
           165000,
           133000,
           249000,
           139580,
           175000,
           147000,
           117000,
           56875,
           220000,
           109664,
           85000,
           240000,
           184000,
           183950,
           90000,
           236000,
           137500,
           47500,
           418863,
           315000,
           250000,
           182500,
           89950,
           234950,
           203000,
           149000,
           159950,
           86000,
           42500,
           145500,
           97000,
           231000,
           205000,
           115000,
           217000,
           206000,
           159950,
           118000,
           55000
          ],
          "sizemode": "area",
          "sizeref": 1725
         },
         "mode": "markers",
         "name": "",
         "showlegend": false,
         "subplot": "mapbox",
         "type": "scattermapbox"
        }
       ],
       "layout": {
        "coloraxis": {
         "colorbar": {
          "title": {
           "text": "display_price"
          }
         },
         "colorscale": [
          [
           0,
           "yellow"
          ],
          [
           1,
           "red"
          ]
         ]
        },
        "height": 600,
        "legend": {
         "itemsizing": "constant",
         "tracegroupgap": 0
        },
        "mapbox": {
         "center": {
          "lat": 51.49145142105264,
          "lon": -3.161580614035088
         },
         "domain": {
          "x": [
           0,
           1
          ],
          "y": [
           0,
           1
          ]
         },
         "style": "open-street-map",
         "zoom": 13
        },
        "margin": {
         "b": 0,
         "l": 0,
         "r": 0,
         "t": 0
        },
        "template": {
         "data": {
          "bar": [
           {
            "error_x": {
             "color": "#2a3f5f"
            },
            "error_y": {
             "color": "#2a3f5f"
            },
            "marker": {
             "line": {
              "color": "#E5ECF6",
              "width": 0.5
             },
             "pattern": {
              "fillmode": "overlay",
              "size": 10,
              "solidity": 0.2
             }
            },
            "type": "bar"
           }
          ],
          "barpolar": [
           {
            "marker": {
             "line": {
              "color": "#E5ECF6",
              "width": 0.5
             },
             "pattern": {
              "fillmode": "overlay",
              "size": 10,
              "solidity": 0.2
             }
            },
            "type": "barpolar"
           }
          ],
          "carpet": [
           {
            "aaxis": {
             "endlinecolor": "#2a3f5f",
             "gridcolor": "white",
             "linecolor": "white",
             "minorgridcolor": "white",
             "startlinecolor": "#2a3f5f"
            },
            "baxis": {
             "endlinecolor": "#2a3f5f",
             "gridcolor": "white",
             "linecolor": "white",
             "minorgridcolor": "white",
             "startlinecolor": "#2a3f5f"
            },
            "type": "carpet"
           }
          ],
          "choropleth": [
           {
            "colorbar": {
             "outlinewidth": 0,
             "ticks": ""
            },
            "type": "choropleth"
           }
          ],
          "contour": [
           {
            "colorbar": {
             "outlinewidth": 0,
             "ticks": ""
            },
            "colorscale": [
             [
              0,
              "#0d0887"
             ],
             [
              0.1111111111111111,
              "#46039f"
             ],
             [
              0.2222222222222222,
              "#7201a8"
             ],
             [
              0.3333333333333333,
              "#9c179e"
             ],
             [
              0.4444444444444444,
              "#bd3786"
             ],
             [
              0.5555555555555556,
              "#d8576b"
             ],
             [
              0.6666666666666666,
              "#ed7953"
             ],
             [
              0.7777777777777778,
              "#fb9f3a"
             ],
             [
              0.8888888888888888,
              "#fdca26"
             ],
             [
              1,
              "#f0f921"
             ]
            ],
            "type": "contour"
           }
          ],
          "contourcarpet": [
           {
            "colorbar": {
             "outlinewidth": 0,
             "ticks": ""
            },
            "type": "contourcarpet"
           }
          ],
          "heatmap": [
           {
            "colorbar": {
             "outlinewidth": 0,
             "ticks": ""
            },
            "colorscale": [
             [
              0,
              "#0d0887"
             ],
             [
              0.1111111111111111,
              "#46039f"
             ],
             [
              0.2222222222222222,
              "#7201a8"
             ],
             [
              0.3333333333333333,
              "#9c179e"
             ],
             [
              0.4444444444444444,
              "#bd3786"
             ],
             [
              0.5555555555555556,
              "#d8576b"
             ],
             [
              0.6666666666666666,
              "#ed7953"
             ],
             [
              0.7777777777777778,
              "#fb9f3a"
             ],
             [
              0.8888888888888888,
              "#fdca26"
             ],
             [
              1,
              "#f0f921"
             ]
            ],
            "type": "heatmap"
           }
          ],
          "heatmapgl": [
           {
            "colorbar": {
             "outlinewidth": 0,
             "ticks": ""
            },
            "colorscale": [
             [
              0,
              "#0d0887"
             ],
             [
              0.1111111111111111,
              "#46039f"
             ],
             [
              0.2222222222222222,
              "#7201a8"
             ],
             [
              0.3333333333333333,
              "#9c179e"
             ],
             [
              0.4444444444444444,
              "#bd3786"
             ],
             [
              0.5555555555555556,
              "#d8576b"
             ],
             [
              0.6666666666666666,
              "#ed7953"
             ],
             [
              0.7777777777777778,
              "#fb9f3a"
             ],
             [
              0.8888888888888888,
              "#fdca26"
             ],
             [
              1,
              "#f0f921"
             ]
            ],
            "type": "heatmapgl"
           }
          ],
          "histogram": [
           {
            "marker": {
             "pattern": {
              "fillmode": "overlay",
              "size": 10,
              "solidity": 0.2
             }
            },
            "type": "histogram"
           }
          ],
          "histogram2d": [
           {
            "colorbar": {
             "outlinewidth": 0,
             "ticks": ""
            },
            "colorscale": [
             [
              0,
              "#0d0887"
             ],
             [
              0.1111111111111111,
              "#46039f"
             ],
             [
              0.2222222222222222,
              "#7201a8"
             ],
             [
              0.3333333333333333,
              "#9c179e"
             ],
             [
              0.4444444444444444,
              "#bd3786"
             ],
             [
              0.5555555555555556,
              "#d8576b"
             ],
             [
              0.6666666666666666,
              "#ed7953"
             ],
             [
              0.7777777777777778,
              "#fb9f3a"
             ],
             [
              0.8888888888888888,
              "#fdca26"
             ],
             [
              1,
              "#f0f921"
             ]
            ],
            "type": "histogram2d"
           }
          ],
          "histogram2dcontour": [
           {
            "colorbar": {
             "outlinewidth": 0,
             "ticks": ""
            },
            "colorscale": [
             [
              0,
              "#0d0887"
             ],
             [
              0.1111111111111111,
              "#46039f"
             ],
             [
              0.2222222222222222,
              "#7201a8"
             ],
             [
              0.3333333333333333,
              "#9c179e"
             ],
             [
              0.4444444444444444,
              "#bd3786"
             ],
             [
              0.5555555555555556,
              "#d8576b"
             ],
             [
              0.6666666666666666,
              "#ed7953"
             ],
             [
              0.7777777777777778,
              "#fb9f3a"
             ],
             [
              0.8888888888888888,
              "#fdca26"
             ],
             [
              1,
              "#f0f921"
             ]
            ],
            "type": "histogram2dcontour"
           }
          ],
          "mesh3d": [
           {
            "colorbar": {
             "outlinewidth": 0,
             "ticks": ""
            },
            "type": "mesh3d"
           }
          ],
          "parcoords": [
           {
            "line": {
             "colorbar": {
              "outlinewidth": 0,
              "ticks": ""
             }
            },
            "type": "parcoords"
           }
          ],
          "pie": [
           {
            "automargin": true,
            "type": "pie"
           }
          ],
          "scatter": [
           {
            "fillpattern": {
             "fillmode": "overlay",
             "size": 10,
             "solidity": 0.2
            },
            "type": "scatter"
           }
          ],
          "scatter3d": [
           {
            "line": {
             "colorbar": {
              "outlinewidth": 0,
              "ticks": ""
             }
            },
            "marker": {
             "colorbar": {
              "outlinewidth": 0,
              "ticks": ""
             }
            },
            "type": "scatter3d"
           }
          ],
          "scattercarpet": [
           {
            "marker": {
             "colorbar": {
              "outlinewidth": 0,
              "ticks": ""
             }
            },
            "type": "scattercarpet"
           }
          ],
          "scattergeo": [
           {
            "marker": {
             "colorbar": {
              "outlinewidth": 0,
              "ticks": ""
             }
            },
            "type": "scattergeo"
           }
          ],
          "scattergl": [
           {
            "marker": {
             "colorbar": {
              "outlinewidth": 0,
              "ticks": ""
             }
            },
            "type": "scattergl"
           }
          ],
          "scattermapbox": [
           {
            "marker": {
             "colorbar": {
              "outlinewidth": 0,
              "ticks": ""
             }
            },
            "type": "scattermapbox"
           }
          ],
          "scatterpolar": [
           {
            "marker": {
             "colorbar": {
              "outlinewidth": 0,
              "ticks": ""
             }
            },
            "type": "scatterpolar"
           }
          ],
          "scatterpolargl": [
           {
            "marker": {
             "colorbar": {
              "outlinewidth": 0,
              "ticks": ""
             }
            },
            "type": "scatterpolargl"
           }
          ],
          "scatterternary": [
           {
            "marker": {
             "colorbar": {
              "outlinewidth": 0,
              "ticks": ""
             }
            },
            "type": "scatterternary"
           }
          ],
          "surface": [
           {
            "colorbar": {
             "outlinewidth": 0,
             "ticks": ""
            },
            "colorscale": [
             [
              0,
              "#0d0887"
             ],
             [
              0.1111111111111111,
              "#46039f"
             ],
             [
              0.2222222222222222,
              "#7201a8"
             ],
             [
              0.3333333333333333,
              "#9c179e"
             ],
             [
              0.4444444444444444,
              "#bd3786"
             ],
             [
              0.5555555555555556,
              "#d8576b"
             ],
             [
              0.6666666666666666,
              "#ed7953"
             ],
             [
              0.7777777777777778,
              "#fb9f3a"
             ],
             [
              0.8888888888888888,
              "#fdca26"
             ],
             [
              1,
              "#f0f921"
             ]
            ],
            "type": "surface"
           }
          ],
          "table": [
           {
            "cells": {
             "fill": {
              "color": "#EBF0F8"
             },
             "line": {
              "color": "white"
             }
            },
            "header": {
             "fill": {
              "color": "#C8D4E3"
             },
             "line": {
              "color": "white"
             }
            },
            "type": "table"
           }
          ]
         },
         "layout": {
          "annotationdefaults": {
           "arrowcolor": "#2a3f5f",
           "arrowhead": 0,
           "arrowwidth": 1
          },
          "autotypenumbers": "strict",
          "coloraxis": {
           "colorbar": {
            "outlinewidth": 0,
            "ticks": ""
           }
          },
          "colorscale": {
           "diverging": [
            [
             0,
             "#8e0152"
            ],
            [
             0.1,
             "#c51b7d"
            ],
            [
             0.2,
             "#de77ae"
            ],
            [
             0.3,
             "#f1b6da"
            ],
            [
             0.4,
             "#fde0ef"
            ],
            [
             0.5,
             "#f7f7f7"
            ],
            [
             0.6,
             "#e6f5d0"
            ],
            [
             0.7,
             "#b8e186"
            ],
            [
             0.8,
             "#7fbc41"
            ],
            [
             0.9,
             "#4d9221"
            ],
            [
             1,
             "#276419"
            ]
           ],
           "sequential": [
            [
             0,
             "#0d0887"
            ],
            [
             0.1111111111111111,
             "#46039f"
            ],
            [
             0.2222222222222222,
             "#7201a8"
            ],
            [
             0.3333333333333333,
             "#9c179e"
            ],
            [
             0.4444444444444444,
             "#bd3786"
            ],
            [
             0.5555555555555556,
             "#d8576b"
            ],
            [
             0.6666666666666666,
             "#ed7953"
            ],
            [
             0.7777777777777778,
             "#fb9f3a"
            ],
            [
             0.8888888888888888,
             "#fdca26"
            ],
            [
             1,
             "#f0f921"
            ]
           ],
           "sequentialminus": [
            [
             0,
             "#0d0887"
            ],
            [
             0.1111111111111111,
             "#46039f"
            ],
            [
             0.2222222222222222,
             "#7201a8"
            ],
            [
             0.3333333333333333,
             "#9c179e"
            ],
            [
             0.4444444444444444,
             "#bd3786"
            ],
            [
             0.5555555555555556,
             "#d8576b"
            ],
            [
             0.6666666666666666,
             "#ed7953"
            ],
            [
             0.7777777777777778,
             "#fb9f3a"
            ],
            [
             0.8888888888888888,
             "#fdca26"
            ],
            [
             1,
             "#f0f921"
            ]
           ]
          },
          "colorway": [
           "#636efa",
           "#EF553B",
           "#00cc96",
           "#ab63fa",
           "#FFA15A",
           "#19d3f3",
           "#FF6692",
           "#B6E880",
           "#FF97FF",
           "#FECB52"
          ],
          "font": {
           "color": "#2a3f5f"
          },
          "geo": {
           "bgcolor": "white",
           "lakecolor": "white",
           "landcolor": "#E5ECF6",
           "showlakes": true,
           "showland": true,
           "subunitcolor": "white"
          },
          "hoverlabel": {
           "align": "left"
          },
          "hovermode": "closest",
          "mapbox": {
           "style": "light"
          },
          "paper_bgcolor": "white",
          "plot_bgcolor": "#E5ECF6",
          "polar": {
           "angularaxis": {
            "gridcolor": "white",
            "linecolor": "white",
            "ticks": ""
           },
           "bgcolor": "#E5ECF6",
           "radialaxis": {
            "gridcolor": "white",
            "linecolor": "white",
            "ticks": ""
           }
          },
          "scene": {
           "xaxis": {
            "backgroundcolor": "#E5ECF6",
            "gridcolor": "white",
            "gridwidth": 2,
            "linecolor": "white",
            "showbackground": true,
            "ticks": "",
            "zerolinecolor": "white"
           },
           "yaxis": {
            "backgroundcolor": "#E5ECF6",
            "gridcolor": "white",
            "gridwidth": 2,
            "linecolor": "white",
            "showbackground": true,
            "ticks": "",
            "zerolinecolor": "white"
           },
           "zaxis": {
            "backgroundcolor": "#E5ECF6",
            "gridcolor": "white",
            "gridwidth": 2,
            "linecolor": "white",
            "showbackground": true,
            "ticks": "",
            "zerolinecolor": "white"
           }
          },
          "shapedefaults": {
           "line": {
            "color": "#2a3f5f"
           }
          },
          "ternary": {
           "aaxis": {
            "gridcolor": "white",
            "linecolor": "white",
            "ticks": ""
           },
           "baxis": {
            "gridcolor": "white",
            "linecolor": "white",
            "ticks": ""
           },
           "bgcolor": "#E5ECF6",
           "caxis": {
            "gridcolor": "white",
            "linecolor": "white",
            "ticks": ""
           }
          },
          "title": {
           "x": 0.05
          },
          "xaxis": {
           "automargin": true,
           "gridcolor": "white",
           "linecolor": "white",
           "ticks": "",
           "title": {
            "standoff": 15
           },
           "zerolinecolor": "white",
           "zerolinewidth": 2
          },
          "yaxis": {
           "automargin": true,
           "gridcolor": "white",
           "linecolor": "white",
           "ticks": "",
           "title": {
            "standoff": 15
           },
           "zerolinecolor": "white",
           "zerolinewidth": 2
          }
         }
        },
        "width": 1200
       }
      }
     },
     "metadata": {},
     "output_type": "display_data"
    }
   ],
   "source": [
    "color_scale = [(0, 'yellow'), (1,'red')]\n",
    "# Display the data on the map\n",
    "fig = px.scatter_mapbox(df, \n",
    "                        lat=\"latitude\", \n",
    "                        lon=\"longitude\", \n",
    "                        hover_name=\"address\", \n",
    "                        hover_data=[\"address\", \"display_price\", 'date_sold'],\n",
    "                        color=\"display_price\",\n",
    "                        color_continuous_scale=color_scale,\n",
    "                        size=\"display_price\",\n",
    "                        zoom=13, \n",
    "                        height=600,\n",
    "                        width=1200)\n",
    "\n",
    "fig.update_layout(mapbox_style=\"open-street-map\")\n",
    "fig.update_layout(margin={\"r\":0,\"t\":0,\"l\":0,\"b\":0})\n",
    "fig.show()"
   ]
  },
  {
   "cell_type": "code",
   "execution_count": 8,
   "metadata": {},
   "outputs": [
    {
     "data": {
      "image/png": "[encoded data removed]",
      "text/plain": [
       "<Figure size 1600x600 with 2 Axes>"
      ]
     },
     "metadata": {},
     "output_type": "display_data"
    }
   ],
   "source": [
    "# Extract the year from the 'date_sold' column\n",
    "df['year_sold'] = pd.to_datetime(df['date_sold'], format='%Y%m%d', errors='coerce').dt.year\n",
    "\n",
    "fig, axes = plt.subplots(1, 2, figsize=(16, 6), gridspec_kw={'wspace': 0.3})\n",
    "\n",
    "# First subplot: Number of properties by year\n",
    "df['year_sold'].value_counts().sort_index().plot(kind='bar', edgecolor='black', ax=axes[0], color='blue')\n",
    "axes[0].set_title('Number of Properties by Year', fontsize=16)\n",
    "axes[0].set_xlabel('Year Sold', fontsize=14)\n",
    "axes[0].set_ylabel('Frequency', fontsize=14)\n",
    "axes[0].tick_params(axis='x', rotation=45)\n",
    "axes[0].grid(axis='y', linestyle='--', alpha=0.7)\n",
    "\n",
    "# Second subplot: Histogram of display_price\n",
    "axes[1].hist(df['display_price'], bins=30, color='orange', edgecolor='black')\n",
    "axes[1].set_title('Distribution of Display Price', fontsize=16)\n",
    "axes[1].set_xlabel('Display Price (£)', fontsize=14)\n",
    "axes[1].set_ylabel('Frequency', fontsize=14)\n",
    "axes[1].grid(axis='y', linestyle='--', alpha=0.7)\n",
    "\n",
    "# Show the plot\n",
    "plt.show()"
   ]
  },
  {
   "cell_type": "code",
   "execution_count": 9,
   "metadata": {},
   "outputs": [
    {
     "data": {
      "image/png": "[encoded data removed]",
      "text/plain": [
       "<Figure size 1000x1000 with 3 Axes>"
      ]
     },
     "metadata": {},
     "output_type": "display_data"
    }
   ],
   "source": [
    "sns.jointplot(data=df,x='year_sold',y='display_price',kind='scatter',alpha=0.6,color='green',marginal_kws=dict(bins=30, fill=True),height=10, ratio=5) # Generate Scatter and hist\n",
    "sns.kdeplot(data=df,x='year_sold',y='display_price',levels=10,color='blue',alpha=0.5,)  # KDE plot to generate contour map \n",
    "\n",
    "plt.suptitle('Year Sold vs Display Price', y=1.02, fontsize=16)\n",
    "plt.xlabel('Year Sold', fontsize=14)\n",
    "plt.ylabel('Display Price (£)', fontsize=14)\n",
    "\n",
    "# Show the plot\n",
    "plt.grid(linestyle='--', alpha=0.7)\n",
    "plt.show()"
   ]
  }
 ],
 "metadata": {
  "kernelspec": {
   "display_name": "DataSci",
   "language": "python",
   "name": "python3"
  },
  "language_info": {
   "codemirror_mode": {
    "name": "ipython",
    "version": 3
   },
   "file_extension": ".py",
   "mimetype": "text/x-python",
   "name": "python",
   "nbconvert_exporter": "python",
   "pygments_lexer": "ipython3",
   "version": "3.11.11"
  }
 },
 "nbformat": 4,
 "nbformat_minor": 2
}
